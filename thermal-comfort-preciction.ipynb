{
 "cells": [
  {
   "cell_type": "markdown",
   "id": "4e8dfbbd",
   "metadata": {
    "id": "rA-N1S8QmMZZ",
    "papermill": {
     "duration": 0.037902,
     "end_time": "2021-10-07T08:47:10.035168",
     "exception": false,
     "start_time": "2021-10-07T08:47:09.997266",
     "status": "completed"
    },
    "tags": []
   },
   "source": [
    "# Introduction to Machine Learning for the Built Environment - Supervised Classification Models\n",
    "\n",
    "- Created by Clayton Miller - clayton@nus.edu.sg - miller.clayton@gmail.com\n",
    "\n",
    "This notebook is an introduction to the machine learning concepts of classification. We will use the ASHRAE Thermal Comfort Database II data set to predict what makes a person feel comfortable"
   ]
  },
  {
   "cell_type": "code",
   "execution_count": 1,
   "id": "691b457c",
   "metadata": {
    "execution": {
     "iopub.execute_input": "2021-10-07T08:47:10.122000Z",
     "iopub.status.busy": "2021-10-07T08:47:10.121199Z",
     "iopub.status.idle": "2021-10-07T08:47:11.144714Z",
     "shell.execute_reply": "2021-10-07T08:47:11.143812Z",
     "shell.execute_reply.started": "2021-10-07T08:38:24.528171Z"
    },
    "id": "Dz08YBT3mBP4",
    "papermill": {
     "duration": 1.07292,
     "end_time": "2021-10-07T08:47:11.144894",
     "exception": false,
     "start_time": "2021-10-07T08:47:10.071974",
     "status": "completed"
    },
    "tags": []
   },
   "outputs": [],
   "source": [
    "import pandas as pd\n",
    "import matplotlib.pyplot as plt\n",
    "import numpy as np\n",
    "import seaborn as sns"
   ]
  },
  {
   "cell_type": "code",
   "execution_count": 2,
   "id": "dbe0bcbb",
   "metadata": {
    "execution": {
     "iopub.execute_input": "2021-10-07T08:47:11.225168Z",
     "iopub.status.busy": "2021-10-07T08:47:11.224397Z",
     "iopub.status.idle": "2021-10-07T08:47:11.715492Z",
     "shell.execute_reply": "2021-10-07T08:47:11.714769Z",
     "shell.execute_reply.started": "2021-10-07T08:38:25.035101Z"
    },
    "id": "KYxnQsFkr0hM",
    "papermill": {
     "duration": 0.53374,
     "end_time": "2021-10-07T08:47:11.715640",
     "exception": false,
     "start_time": "2021-10-07T08:47:11.181900",
     "status": "completed"
    },
    "tags": []
   },
   "outputs": [],
   "source": [
    "from sklearn import svm, datasets\n",
    "from sklearn.model_selection import train_test_split\n",
    "from sklearn.metrics import confusion_matrix\n",
    "from sklearn.dummy import DummyClassifier\n",
    "from sklearn.ensemble import RandomForestClassifier\n",
    "from sklearn.metrics import classification_report, roc_curve, auc, precision_recall_curve\n",
    "from sklearn.model_selection import RandomizedSearchCV\n",
    "from sklearn.feature_selection import SelectKBest"
   ]
  },
  {
   "cell_type": "markdown",
   "id": "47f64528",
   "metadata": {
    "id": "NJ37iQEToDxq",
    "papermill": {
     "duration": 0.036696,
     "end_time": "2021-10-07T08:47:11.789422",
     "exception": false,
     "start_time": "2021-10-07T08:47:11.752726",
     "status": "completed"
    },
    "tags": []
   },
   "source": [
    "## Load the IEQ Data and find a classification objective\n",
    "\n",
    "We can constrain the data to be able to predict a certain attribute"
   ]
  },
  {
   "cell_type": "code",
   "execution_count": 3,
   "id": "2f08dd4f",
   "metadata": {
    "execution": {
     "iopub.execute_input": "2021-10-07T08:47:11.866669Z",
     "iopub.status.busy": "2021-10-07T08:47:11.865917Z",
     "iopub.status.idle": "2021-10-07T08:47:13.453257Z",
     "shell.execute_reply": "2021-10-07T08:47:13.453789Z",
     "shell.execute_reply.started": "2021-10-07T08:38:25.101307Z"
    },
    "id": "PiIZwQVqn6U7",
    "papermill": {
     "duration": 1.628894,
     "end_time": "2021-10-07T08:47:13.453981",
     "exception": false,
     "start_time": "2021-10-07T08:47:11.825087",
     "status": "completed"
    },
    "tags": []
   },
   "outputs": [
    {
     "name": "stderr",
     "output_type": "stream",
     "text": [
      "/opt/conda/lib/python3.7/site-packages/IPython/core/interactiveshell.py:3170: DtypeWarning: Columns (10,11,13,18,19,34,50) have mixed types.Specify dtype option on import or set low_memory=False.\n",
      "  interactivity=interactivity, compiler=compiler, result=result)\n"
     ]
    }
   ],
   "source": [
    "ieq_data = pd.read_csv(\"../input/ashrae-global-thermal-comfort-database-ii/ashrae_db2.01.csv\")"
   ]
  },
  {
   "cell_type": "code",
   "execution_count": 4,
   "id": "c6993d1c",
   "metadata": {
    "execution": {
     "iopub.execute_input": "2021-10-07T08:47:13.545784Z",
     "iopub.status.busy": "2021-10-07T08:47:13.544810Z",
     "iopub.status.idle": "2021-10-07T08:47:13.577339Z",
     "shell.execute_reply": "2021-10-07T08:47:13.577813Z",
     "shell.execute_reply.started": "2021-10-07T08:38:26.195181Z"
    },
    "id": "sp9OA0RAoCkd",
    "papermill": {
     "duration": 0.086768,
     "end_time": "2021-10-07T08:47:13.578012",
     "exception": false,
     "start_time": "2021-10-07T08:47:13.491244",
     "status": "completed"
    },
    "tags": []
   },
   "outputs": [
    {
     "data": {
      "text/html": [
       "<div>\n",
       "<style scoped>\n",
       "    .dataframe tbody tr th:only-of-type {\n",
       "        vertical-align: middle;\n",
       "    }\n",
       "\n",
       "    .dataframe tbody tr th {\n",
       "        vertical-align: top;\n",
       "    }\n",
       "\n",
       "    .dataframe thead th {\n",
       "        text-align: right;\n",
       "    }\n",
       "</style>\n",
       "<table border=\"1\" class=\"dataframe\">\n",
       "  <thead>\n",
       "    <tr style=\"text-align: right;\">\n",
       "      <th></th>\n",
       "      <th>Publication (Citation)</th>\n",
       "      <th>Data contributor</th>\n",
       "      <th>Year</th>\n",
       "      <th>Season</th>\n",
       "      <th>Koppen climate classification</th>\n",
       "      <th>Climate</th>\n",
       "      <th>City</th>\n",
       "      <th>Country</th>\n",
       "      <th>Building type</th>\n",
       "      <th>Cooling startegy_building level</th>\n",
       "      <th>...</th>\n",
       "      <th>Subject«s height (cm)</th>\n",
       "      <th>Subject«s weight (kg)</th>\n",
       "      <th>Blind (curtain)</th>\n",
       "      <th>Fan</th>\n",
       "      <th>Window</th>\n",
       "      <th>Door</th>\n",
       "      <th>Heater</th>\n",
       "      <th>Outdoor monthly air temperature (C)</th>\n",
       "      <th>Outdoor monthly air temperature (F)</th>\n",
       "      <th>Database</th>\n",
       "    </tr>\n",
       "  </thead>\n",
       "  <tbody>\n",
       "    <tr>\n",
       "      <th>0</th>\n",
       "      <td>Kwok, Alison G., and Chungyoon Chun. \"Thermal ...</td>\n",
       "      <td>Kwok Alison</td>\n",
       "      <td>2000.0</td>\n",
       "      <td>Summer</td>\n",
       "      <td>Cfa</td>\n",
       "      <td>Humid subtropical</td>\n",
       "      <td>Tokyo</td>\n",
       "      <td>Japan</td>\n",
       "      <td>Classroom</td>\n",
       "      <td>Air Conditioned</td>\n",
       "      <td>...</td>\n",
       "      <td>162.0</td>\n",
       "      <td>NaN</td>\n",
       "      <td>NaN</td>\n",
       "      <td>NaN</td>\n",
       "      <td>NaN</td>\n",
       "      <td>NaN</td>\n",
       "      <td>NaN</td>\n",
       "      <td>25.0</td>\n",
       "      <td>77.0</td>\n",
       "      <td>Database 2</td>\n",
       "    </tr>\n",
       "    <tr>\n",
       "      <th>1</th>\n",
       "      <td>Kwok, Alison G., and Chungyoon Chun. \"Thermal ...</td>\n",
       "      <td>Kwok Alison</td>\n",
       "      <td>2000.0</td>\n",
       "      <td>Summer</td>\n",
       "      <td>Cfa</td>\n",
       "      <td>Humid subtropical</td>\n",
       "      <td>Tokyo</td>\n",
       "      <td>Japan</td>\n",
       "      <td>Classroom</td>\n",
       "      <td>Air Conditioned</td>\n",
       "      <td>...</td>\n",
       "      <td>154.0</td>\n",
       "      <td>NaN</td>\n",
       "      <td>NaN</td>\n",
       "      <td>NaN</td>\n",
       "      <td>NaN</td>\n",
       "      <td>NaN</td>\n",
       "      <td>NaN</td>\n",
       "      <td>25.0</td>\n",
       "      <td>77.0</td>\n",
       "      <td>Database 2</td>\n",
       "    </tr>\n",
       "    <tr>\n",
       "      <th>2</th>\n",
       "      <td>Kwok, Alison G., and Chungyoon Chun. \"Thermal ...</td>\n",
       "      <td>Kwok Alison</td>\n",
       "      <td>2000.0</td>\n",
       "      <td>Summer</td>\n",
       "      <td>Cfa</td>\n",
       "      <td>Humid subtropical</td>\n",
       "      <td>Tokyo</td>\n",
       "      <td>Japan</td>\n",
       "      <td>Classroom</td>\n",
       "      <td>Air Conditioned</td>\n",
       "      <td>...</td>\n",
       "      <td>173.0</td>\n",
       "      <td>NaN</td>\n",
       "      <td>NaN</td>\n",
       "      <td>NaN</td>\n",
       "      <td>NaN</td>\n",
       "      <td>NaN</td>\n",
       "      <td>NaN</td>\n",
       "      <td>25.0</td>\n",
       "      <td>77.0</td>\n",
       "      <td>Database 2</td>\n",
       "    </tr>\n",
       "    <tr>\n",
       "      <th>3</th>\n",
       "      <td>Kwok, Alison G., and Chungyoon Chun. \"Thermal ...</td>\n",
       "      <td>Kwok Alison</td>\n",
       "      <td>2000.0</td>\n",
       "      <td>Summer</td>\n",
       "      <td>Cfa</td>\n",
       "      <td>Humid subtropical</td>\n",
       "      <td>Tokyo</td>\n",
       "      <td>Japan</td>\n",
       "      <td>Classroom</td>\n",
       "      <td>Air Conditioned</td>\n",
       "      <td>...</td>\n",
       "      <td>167.0</td>\n",
       "      <td>NaN</td>\n",
       "      <td>NaN</td>\n",
       "      <td>NaN</td>\n",
       "      <td>NaN</td>\n",
       "      <td>NaN</td>\n",
       "      <td>NaN</td>\n",
       "      <td>25.0</td>\n",
       "      <td>77.0</td>\n",
       "      <td>Database 2</td>\n",
       "    </tr>\n",
       "    <tr>\n",
       "      <th>4</th>\n",
       "      <td>Kwok, Alison G., and Chungyoon Chun. \"Thermal ...</td>\n",
       "      <td>Kwok Alison</td>\n",
       "      <td>2000.0</td>\n",
       "      <td>Summer</td>\n",
       "      <td>Cfa</td>\n",
       "      <td>Humid subtropical</td>\n",
       "      <td>Tokyo</td>\n",
       "      <td>Japan</td>\n",
       "      <td>Classroom</td>\n",
       "      <td>Air Conditioned</td>\n",
       "      <td>...</td>\n",
       "      <td>178.0</td>\n",
       "      <td>NaN</td>\n",
       "      <td>NaN</td>\n",
       "      <td>NaN</td>\n",
       "      <td>NaN</td>\n",
       "      <td>NaN</td>\n",
       "      <td>NaN</td>\n",
       "      <td>25.0</td>\n",
       "      <td>77.0</td>\n",
       "      <td>Database 2</td>\n",
       "    </tr>\n",
       "  </tbody>\n",
       "</table>\n",
       "<p>5 rows × 70 columns</p>\n",
       "</div>"
      ],
      "text/plain": [
       "                              Publication (Citation) Data contributor    Year  \\\n",
       "0  Kwok, Alison G., and Chungyoon Chun. \"Thermal ...      Kwok Alison  2000.0   \n",
       "1  Kwok, Alison G., and Chungyoon Chun. \"Thermal ...      Kwok Alison  2000.0   \n",
       "2  Kwok, Alison G., and Chungyoon Chun. \"Thermal ...      Kwok Alison  2000.0   \n",
       "3  Kwok, Alison G., and Chungyoon Chun. \"Thermal ...      Kwok Alison  2000.0   \n",
       "4  Kwok, Alison G., and Chungyoon Chun. \"Thermal ...      Kwok Alison  2000.0   \n",
       "\n",
       "   Season Koppen climate classification            Climate   City Country  \\\n",
       "0  Summer                           Cfa  Humid subtropical  Tokyo   Japan   \n",
       "1  Summer                           Cfa  Humid subtropical  Tokyo   Japan   \n",
       "2  Summer                           Cfa  Humid subtropical  Tokyo   Japan   \n",
       "3  Summer                           Cfa  Humid subtropical  Tokyo   Japan   \n",
       "4  Summer                           Cfa  Humid subtropical  Tokyo   Japan   \n",
       "\n",
       "  Building type Cooling startegy_building level  ... Subject«s height (cm)  \\\n",
       "0     Classroom                 Air Conditioned  ...                 162.0   \n",
       "1     Classroom                 Air Conditioned  ...                 154.0   \n",
       "2     Classroom                 Air Conditioned  ...                 173.0   \n",
       "3     Classroom                 Air Conditioned  ...                 167.0   \n",
       "4     Classroom                 Air Conditioned  ...                 178.0   \n",
       "\n",
       "  Subject«s weight (kg)  Blind (curtain) Fan  Window  Door Heater  \\\n",
       "0                   NaN              NaN NaN     NaN   NaN    NaN   \n",
       "1                   NaN              NaN NaN     NaN   NaN    NaN   \n",
       "2                   NaN              NaN NaN     NaN   NaN    NaN   \n",
       "3                   NaN              NaN NaN     NaN   NaN    NaN   \n",
       "4                   NaN              NaN NaN     NaN   NaN    NaN   \n",
       "\n",
       "   Outdoor monthly air temperature (C) Outdoor monthly air temperature (F)  \\\n",
       "0                                 25.0                                77.0   \n",
       "1                                 25.0                                77.0   \n",
       "2                                 25.0                                77.0   \n",
       "3                                 25.0                                77.0   \n",
       "4                                 25.0                                77.0   \n",
       "\n",
       "     Database  \n",
       "0  Database 2  \n",
       "1  Database 2  \n",
       "2  Database 2  \n",
       "3  Database 2  \n",
       "4  Database 2  \n",
       "\n",
       "[5 rows x 70 columns]"
      ]
     },
     "execution_count": 4,
     "metadata": {},
     "output_type": "execute_result"
    }
   ],
   "source": [
    "ieq_data.head()"
   ]
  },
  {
   "cell_type": "code",
   "execution_count": 5,
   "id": "9cfb2c78",
   "metadata": {
    "execution": {
     "iopub.execute_input": "2021-10-07T08:47:13.658669Z",
     "iopub.status.busy": "2021-10-07T08:47:13.657421Z",
     "iopub.status.idle": "2021-10-07T08:47:13.847189Z",
     "shell.execute_reply": "2021-10-07T08:47:13.847973Z",
     "shell.execute_reply.started": "2021-10-07T08:38:26.226397Z"
    },
    "id": "aIhb3Q0to8zW",
    "papermill": {
     "duration": 0.233184,
     "end_time": "2021-10-07T08:47:13.848209",
     "exception": false,
     "start_time": "2021-10-07T08:47:13.615025",
     "status": "completed"
    },
    "tags": []
   },
   "outputs": [
    {
     "name": "stdout",
     "output_type": "stream",
     "text": [
      "<class 'pandas.core.frame.DataFrame'>\n",
      "RangeIndex: 107583 entries, 0 to 107582\n",
      "Data columns (total 70 columns):\n",
      " #   Column                                            Non-Null Count   Dtype  \n",
      "---  ------                                            --------------   -----  \n",
      " 0   Publication (Citation)                            105928 non-null  object \n",
      " 1   Data contributor                                  107583 non-null  object \n",
      " 2   Year                                              107335 non-null  float64\n",
      " 3   Season                                            107342 non-null  object \n",
      " 4   Koppen climate classification                     107583 non-null  object \n",
      " 5   Climate                                           107583 non-null  object \n",
      " 6   City                                              107570 non-null  object \n",
      " 7   Country                                           107583 non-null  object \n",
      " 8   Building type                                     103384 non-null  object \n",
      " 9   Cooling startegy_building level                   106356 non-null  object \n",
      " 10  Cooling startegy_operation mode for MM buildings  26519 non-null   object \n",
      " 11  Heating strategy_building level                   37765 non-null   object \n",
      " 12  Age                                               43579 non-null   float64\n",
      " 13  Sex                                               67035 non-null   object \n",
      " 14  Thermal sensation                                 104454 non-null  float64\n",
      " 15  Thermal sensation acceptability                   62444 non-null   float64\n",
      " 16  Thermal preference                                85500 non-null   object \n",
      " 17  Air movement acceptability                        16347 non-null   float64\n",
      " 18  Air movement preference                           43375 non-null   object \n",
      " 19  Thermal comfort                                   36335 non-null   object \n",
      " 20  PMV                                               66734 non-null   float64\n",
      " 21  PPD                                               66734 non-null   float64\n",
      " 22  SET                                               66518 non-null   float64\n",
      " 23  Clo                                               99663 non-null   float64\n",
      " 24  Met                                               90419 non-null   float64\n",
      " 25  activity_10                                       8810 non-null    float64\n",
      " 26  activity_20                                       9699 non-null    float64\n",
      " 27  activity_30                                       8754 non-null    float64\n",
      " 28  activity_60                                       9597 non-null    float64\n",
      " 29  Air temperature (C)                               99911 non-null   float64\n",
      " 30  Air temperature (F)                               99911 non-null   float64\n",
      " 31  Ta_h (C)                                          28024 non-null   float64\n",
      " 32  Ta_h (F)                                          28024 non-null   float64\n",
      " 33  Ta_m (C)                                          31148 non-null   float64\n",
      " 34  Ta_m (F)                                          31165 non-null   object \n",
      " 35  Ta_l (C)                                          10448 non-null   float64\n",
      " 36  Ta_l (F)                                          10448 non-null   float64\n",
      " 37  Operative temperature (C)                         37963 non-null   float64\n",
      " 38  Operative temperature (F)                         37963 non-null   float64\n",
      " 39  Radiant temperature (C)                           32473 non-null   float64\n",
      " 40  Radiant temperature (F)                           32472 non-null   float64\n",
      " 41  Globe temperature (C)                             26004 non-null   float64\n",
      " 42  Globe temperature (F)                             26004 non-null   float64\n",
      " 43  Tg_h (C)                                          53005 non-null   float64\n",
      " 44  Tg_h (F)                                          53005 non-null   float64\n",
      " 45  Tg_m (C)                                          25886 non-null   float64\n",
      " 46  Tg_m (F)                                          25886 non-null   float64\n",
      " 47  Tg_l (C)                                          23248 non-null   float64\n",
      " 48  Tg_l (F)                                          23248 non-null   float64\n",
      " 49  Relative humidity (%)                             97762 non-null   float64\n",
      " 50  Humidity preference                               12243 non-null   object \n",
      " 51  Humidity sensation                                12540 non-null   float64\n",
      " 52  Air velocity (m/s)                                89892 non-null   float64\n",
      " 53  Air velocity (fpm)                                89881 non-null   float64\n",
      " 54  Velocity_h (m/s)                                  21979 non-null   float64\n",
      " 55  Velocity_h (fpm)                                  21979 non-null   float64\n",
      " 56  Velocity_m (m/s)                                  28320 non-null   float64\n",
      " 57  Velocity_m (fpm)                                  28320 non-null   float64\n",
      " 58  Velocity_l (m/s)                                  10252 non-null   float64\n",
      " 59  Velocity_l (fpm)                                  10252 non-null   float64\n",
      " 60  Subject«s height (cm)                             20353 non-null   float64\n",
      " 61  Subject«s weight (kg)                             24662 non-null   float64\n",
      " 62  Blind (curtain)                                   5735 non-null    float64\n",
      " 63  Fan                                               13186 non-null   float64\n",
      " 64  Window                                            22079 non-null   float64\n",
      " 65  Door                                              11130 non-null   float64\n",
      " 66  Heater                                            8338 non-null    float64\n",
      " 67  Outdoor monthly air temperature (C)               79338 non-null   float64\n",
      " 68  Outdoor monthly air temperature (F)               79336 non-null   float64\n",
      " 69  Database                                          107583 non-null  object \n",
      "dtypes: float64(52), object(18)\n",
      "memory usage: 57.5+ MB\n"
     ]
    }
   ],
   "source": [
    "ieq_data.info()"
   ]
  },
  {
   "cell_type": "code",
   "execution_count": 6,
   "id": "07854fb4",
   "metadata": {
    "execution": {
     "iopub.execute_input": "2021-10-07T08:47:13.930645Z",
     "iopub.status.busy": "2021-10-07T08:47:13.929932Z",
     "iopub.status.idle": "2021-10-07T08:47:13.934658Z",
     "shell.execute_reply": "2021-10-07T08:47:13.933891Z",
     "shell.execute_reply.started": "2021-10-07T08:38:26.414928Z"
    },
    "id": "-Hh2o7WBpAGG",
    "papermill": {
     "duration": 0.048255,
     "end_time": "2021-10-07T08:47:13.934841",
     "exception": false,
     "start_time": "2021-10-07T08:47:13.886586",
     "status": "completed"
    },
    "tags": []
   },
   "outputs": [],
   "source": [
    "ieq_data[\"ThermalSensation_rounded\"] =ieq_data[\"Thermal sensation\"].round()"
   ]
  },
  {
   "cell_type": "code",
   "execution_count": 7,
   "id": "3d1863fe",
   "metadata": {
    "execution": {
     "iopub.execute_input": "2021-10-07T08:47:14.015234Z",
     "iopub.status.busy": "2021-10-07T08:47:14.014616Z",
     "iopub.status.idle": "2021-10-07T08:47:14.023473Z",
     "shell.execute_reply": "2021-10-07T08:47:14.022740Z",
     "shell.execute_reply.started": "2021-10-07T08:38:26.421157Z"
    },
    "id": "-Hh2o7WBpAGG",
    "papermill": {
     "duration": 0.050992,
     "end_time": "2021-10-07T08:47:14.023640",
     "exception": false,
     "start_time": "2021-10-07T08:47:13.972648",
     "status": "completed"
    },
    "tags": []
   },
   "outputs": [
    {
     "data": {
      "text/plain": [
       "-0.0    44063\n",
       " 1.0    20086\n",
       "-1.0    16753\n",
       " 2.0    10542\n",
       "-2.0     6349\n",
       " 3.0     4311\n",
       "-3.0     2350\n",
       "Name: ThermalSensation_rounded, dtype: int64"
      ]
     },
     "execution_count": 7,
     "metadata": {},
     "output_type": "execute_result"
    }
   ],
   "source": [
    "ieq_data[\"ThermalSensation_rounded\"].value_counts()"
   ]
  },
  {
   "cell_type": "markdown",
   "id": "c4bcd423",
   "metadata": {
    "id": "-lrBZRIcrSHU",
    "papermill": {
     "duration": 0.037845,
     "end_time": "2021-10-07T08:47:14.100066",
     "exception": false,
     "start_time": "2021-10-07T08:47:14.062221",
     "status": "completed"
    },
    "tags": []
   },
   "source": [
    "## Classification Objective -- Predict Thermal Sensation using a Random Forest Model\n",
    "\n",
    "Let's use many of the other variables to predict thermal sensation as classification objective.\n",
    "\n",
    "To do this we can use the Random Forest Classification Model. This model is a good all-purpose model that is able to ingest input features of various types. It is a form of a [decision-tree model](https://en.wikipedia.org/wiki/Decision_tree_learning).\n"
   ]
  },
  {
   "cell_type": "markdown",
   "id": "1f4515e7",
   "metadata": {
    "id": "IQyIQ6h-nf0E",
    "papermill": {
     "duration": 0.037705,
     "end_time": "2021-10-07T08:47:14.176455",
     "exception": false,
     "start_time": "2021-10-07T08:47:14.138750",
     "status": "completed"
    },
    "tags": []
   },
   "source": [
    "## Creating Feature and Target Data Sets\n",
    "The first thing we need to do is create the the feature data set and the target variable."
   ]
  },
  {
   "cell_type": "code",
   "execution_count": 8,
   "id": "e0062e88",
   "metadata": {
    "execution": {
     "iopub.execute_input": "2021-10-07T08:47:14.285897Z",
     "iopub.status.busy": "2021-10-07T08:47:14.285174Z",
     "iopub.status.idle": "2021-10-07T08:47:14.289196Z",
     "shell.execute_reply": "2021-10-07T08:47:14.289675Z",
     "shell.execute_reply.started": "2021-10-07T08:38:26.439183Z"
    },
    "id": "G5oxp6m_noad",
    "papermill": {
     "duration": 0.07521,
     "end_time": "2021-10-07T08:47:14.289852",
     "exception": false,
     "start_time": "2021-10-07T08:47:14.214642",
     "status": "completed"
    },
    "tags": []
   },
   "outputs": [
    {
     "data": {
      "text/html": [
       "<div>\n",
       "<style scoped>\n",
       "    .dataframe tbody tr th:only-of-type {\n",
       "        vertical-align: middle;\n",
       "    }\n",
       "\n",
       "    .dataframe tbody tr th {\n",
       "        vertical-align: top;\n",
       "    }\n",
       "\n",
       "    .dataframe thead th {\n",
       "        text-align: right;\n",
       "    }\n",
       "</style>\n",
       "<table border=\"1\" class=\"dataframe\">\n",
       "  <thead>\n",
       "    <tr style=\"text-align: right;\">\n",
       "      <th></th>\n",
       "      <th>Publication (Citation)</th>\n",
       "      <th>Data contributor</th>\n",
       "      <th>Year</th>\n",
       "      <th>Season</th>\n",
       "      <th>Koppen climate classification</th>\n",
       "      <th>Climate</th>\n",
       "      <th>City</th>\n",
       "      <th>Country</th>\n",
       "      <th>Building type</th>\n",
       "      <th>Cooling startegy_building level</th>\n",
       "      <th>...</th>\n",
       "      <th>Subject«s weight (kg)</th>\n",
       "      <th>Blind (curtain)</th>\n",
       "      <th>Fan</th>\n",
       "      <th>Window</th>\n",
       "      <th>Door</th>\n",
       "      <th>Heater</th>\n",
       "      <th>Outdoor monthly air temperature (C)</th>\n",
       "      <th>Outdoor monthly air temperature (F)</th>\n",
       "      <th>Database</th>\n",
       "      <th>ThermalSensation_rounded</th>\n",
       "    </tr>\n",
       "  </thead>\n",
       "  <tbody>\n",
       "    <tr>\n",
       "      <th>0</th>\n",
       "      <td>Kwok, Alison G., and Chungyoon Chun. \"Thermal ...</td>\n",
       "      <td>Kwok Alison</td>\n",
       "      <td>2000.0</td>\n",
       "      <td>Summer</td>\n",
       "      <td>Cfa</td>\n",
       "      <td>Humid subtropical</td>\n",
       "      <td>Tokyo</td>\n",
       "      <td>Japan</td>\n",
       "      <td>Classroom</td>\n",
       "      <td>Air Conditioned</td>\n",
       "      <td>...</td>\n",
       "      <td>NaN</td>\n",
       "      <td>NaN</td>\n",
       "      <td>NaN</td>\n",
       "      <td>NaN</td>\n",
       "      <td>NaN</td>\n",
       "      <td>NaN</td>\n",
       "      <td>25.0</td>\n",
       "      <td>77.0</td>\n",
       "      <td>Database 2</td>\n",
       "      <td>-0.0</td>\n",
       "    </tr>\n",
       "    <tr>\n",
       "      <th>1</th>\n",
       "      <td>Kwok, Alison G., and Chungyoon Chun. \"Thermal ...</td>\n",
       "      <td>Kwok Alison</td>\n",
       "      <td>2000.0</td>\n",
       "      <td>Summer</td>\n",
       "      <td>Cfa</td>\n",
       "      <td>Humid subtropical</td>\n",
       "      <td>Tokyo</td>\n",
       "      <td>Japan</td>\n",
       "      <td>Classroom</td>\n",
       "      <td>Air Conditioned</td>\n",
       "      <td>...</td>\n",
       "      <td>NaN</td>\n",
       "      <td>NaN</td>\n",
       "      <td>NaN</td>\n",
       "      <td>NaN</td>\n",
       "      <td>NaN</td>\n",
       "      <td>NaN</td>\n",
       "      <td>25.0</td>\n",
       "      <td>77.0</td>\n",
       "      <td>Database 2</td>\n",
       "      <td>-2.0</td>\n",
       "    </tr>\n",
       "    <tr>\n",
       "      <th>2</th>\n",
       "      <td>Kwok, Alison G., and Chungyoon Chun. \"Thermal ...</td>\n",
       "      <td>Kwok Alison</td>\n",
       "      <td>2000.0</td>\n",
       "      <td>Summer</td>\n",
       "      <td>Cfa</td>\n",
       "      <td>Humid subtropical</td>\n",
       "      <td>Tokyo</td>\n",
       "      <td>Japan</td>\n",
       "      <td>Classroom</td>\n",
       "      <td>Air Conditioned</td>\n",
       "      <td>...</td>\n",
       "      <td>NaN</td>\n",
       "      <td>NaN</td>\n",
       "      <td>NaN</td>\n",
       "      <td>NaN</td>\n",
       "      <td>NaN</td>\n",
       "      <td>NaN</td>\n",
       "      <td>25.0</td>\n",
       "      <td>77.0</td>\n",
       "      <td>Database 2</td>\n",
       "      <td>0.0</td>\n",
       "    </tr>\n",
       "    <tr>\n",
       "      <th>3</th>\n",
       "      <td>Kwok, Alison G., and Chungyoon Chun. \"Thermal ...</td>\n",
       "      <td>Kwok Alison</td>\n",
       "      <td>2000.0</td>\n",
       "      <td>Summer</td>\n",
       "      <td>Cfa</td>\n",
       "      <td>Humid subtropical</td>\n",
       "      <td>Tokyo</td>\n",
       "      <td>Japan</td>\n",
       "      <td>Classroom</td>\n",
       "      <td>Air Conditioned</td>\n",
       "      <td>...</td>\n",
       "      <td>NaN</td>\n",
       "      <td>NaN</td>\n",
       "      <td>NaN</td>\n",
       "      <td>NaN</td>\n",
       "      <td>NaN</td>\n",
       "      <td>NaN</td>\n",
       "      <td>25.0</td>\n",
       "      <td>77.0</td>\n",
       "      <td>Database 2</td>\n",
       "      <td>-2.0</td>\n",
       "    </tr>\n",
       "    <tr>\n",
       "      <th>4</th>\n",
       "      <td>Kwok, Alison G., and Chungyoon Chun. \"Thermal ...</td>\n",
       "      <td>Kwok Alison</td>\n",
       "      <td>2000.0</td>\n",
       "      <td>Summer</td>\n",
       "      <td>Cfa</td>\n",
       "      <td>Humid subtropical</td>\n",
       "      <td>Tokyo</td>\n",
       "      <td>Japan</td>\n",
       "      <td>Classroom</td>\n",
       "      <td>Air Conditioned</td>\n",
       "      <td>...</td>\n",
       "      <td>NaN</td>\n",
       "      <td>NaN</td>\n",
       "      <td>NaN</td>\n",
       "      <td>NaN</td>\n",
       "      <td>NaN</td>\n",
       "      <td>NaN</td>\n",
       "      <td>25.0</td>\n",
       "      <td>77.0</td>\n",
       "      <td>Database 2</td>\n",
       "      <td>-0.0</td>\n",
       "    </tr>\n",
       "  </tbody>\n",
       "</table>\n",
       "<p>5 rows × 71 columns</p>\n",
       "</div>"
      ],
      "text/plain": [
       "                              Publication (Citation) Data contributor    Year  \\\n",
       "0  Kwok, Alison G., and Chungyoon Chun. \"Thermal ...      Kwok Alison  2000.0   \n",
       "1  Kwok, Alison G., and Chungyoon Chun. \"Thermal ...      Kwok Alison  2000.0   \n",
       "2  Kwok, Alison G., and Chungyoon Chun. \"Thermal ...      Kwok Alison  2000.0   \n",
       "3  Kwok, Alison G., and Chungyoon Chun. \"Thermal ...      Kwok Alison  2000.0   \n",
       "4  Kwok, Alison G., and Chungyoon Chun. \"Thermal ...      Kwok Alison  2000.0   \n",
       "\n",
       "   Season Koppen climate classification            Climate   City Country  \\\n",
       "0  Summer                           Cfa  Humid subtropical  Tokyo   Japan   \n",
       "1  Summer                           Cfa  Humid subtropical  Tokyo   Japan   \n",
       "2  Summer                           Cfa  Humid subtropical  Tokyo   Japan   \n",
       "3  Summer                           Cfa  Humid subtropical  Tokyo   Japan   \n",
       "4  Summer                           Cfa  Humid subtropical  Tokyo   Japan   \n",
       "\n",
       "  Building type Cooling startegy_building level  ... Subject«s weight (kg)  \\\n",
       "0     Classroom                 Air Conditioned  ...                   NaN   \n",
       "1     Classroom                 Air Conditioned  ...                   NaN   \n",
       "2     Classroom                 Air Conditioned  ...                   NaN   \n",
       "3     Classroom                 Air Conditioned  ...                   NaN   \n",
       "4     Classroom                 Air Conditioned  ...                   NaN   \n",
       "\n",
       "  Blind (curtain)  Fan Window  Door  Heater  \\\n",
       "0             NaN  NaN    NaN   NaN     NaN   \n",
       "1             NaN  NaN    NaN   NaN     NaN   \n",
       "2             NaN  NaN    NaN   NaN     NaN   \n",
       "3             NaN  NaN    NaN   NaN     NaN   \n",
       "4             NaN  NaN    NaN   NaN     NaN   \n",
       "\n",
       "  Outdoor monthly air temperature (C)  Outdoor monthly air temperature (F)  \\\n",
       "0                                25.0                                 77.0   \n",
       "1                                25.0                                 77.0   \n",
       "2                                25.0                                 77.0   \n",
       "3                                25.0                                 77.0   \n",
       "4                                25.0                                 77.0   \n",
       "\n",
       "     Database ThermalSensation_rounded  \n",
       "0  Database 2                     -0.0  \n",
       "1  Database 2                     -2.0  \n",
       "2  Database 2                      0.0  \n",
       "3  Database 2                     -2.0  \n",
       "4  Database 2                     -0.0  \n",
       "\n",
       "[5 rows x 71 columns]"
      ]
     },
     "execution_count": 8,
     "metadata": {},
     "output_type": "execute_result"
    }
   ],
   "source": [
    "ieq_data.head()"
   ]
  },
  {
   "cell_type": "code",
   "execution_count": 9,
   "id": "a7890e68",
   "metadata": {
    "execution": {
     "iopub.execute_input": "2021-10-07T08:47:14.373446Z",
     "iopub.status.busy": "2021-10-07T08:47:14.372778Z",
     "iopub.status.idle": "2021-10-07T08:47:14.377225Z",
     "shell.execute_reply": "2021-10-07T08:47:14.376736Z",
     "shell.execute_reply.started": "2021-10-07T08:38:26.471829Z"
    },
    "id": "EBuLXQEVrxOC",
    "papermill": {
     "duration": 0.048785,
     "end_time": "2021-10-07T08:47:14.377390",
     "exception": false,
     "start_time": "2021-10-07T08:47:14.328605",
     "status": "completed"
    },
    "tags": []
   },
   "outputs": [
    {
     "data": {
      "text/plain": [
       "['Publication (Citation)',\n",
       " 'Data contributor',\n",
       " 'Year',\n",
       " 'Season',\n",
       " 'Koppen climate classification',\n",
       " 'Climate',\n",
       " 'City',\n",
       " 'Country',\n",
       " 'Building type',\n",
       " 'Cooling startegy_building level',\n",
       " 'Cooling startegy_operation mode for MM buildings',\n",
       " 'Heating strategy_building level',\n",
       " 'Age',\n",
       " 'Sex',\n",
       " 'Thermal sensation',\n",
       " 'Thermal sensation acceptability',\n",
       " 'Thermal preference',\n",
       " 'Air movement acceptability',\n",
       " 'Air movement preference',\n",
       " 'Thermal comfort',\n",
       " 'PMV',\n",
       " 'PPD',\n",
       " 'SET',\n",
       " 'Clo',\n",
       " 'Met',\n",
       " 'activity_10',\n",
       " 'activity_20',\n",
       " 'activity_30',\n",
       " 'activity_60',\n",
       " 'Air temperature (C)',\n",
       " 'Air temperature (F)',\n",
       " 'Ta_h (C)',\n",
       " 'Ta_h (F)',\n",
       " 'Ta_m (C)',\n",
       " 'Ta_m (F)',\n",
       " 'Ta_l (C)',\n",
       " 'Ta_l (F)',\n",
       " 'Operative temperature (C)',\n",
       " 'Operative temperature (F)',\n",
       " 'Radiant temperature (C)',\n",
       " 'Radiant temperature (F)',\n",
       " 'Globe temperature (C)',\n",
       " 'Globe temperature (F)',\n",
       " 'Tg_h (C)',\n",
       " 'Tg_h (F)',\n",
       " 'Tg_m (C)',\n",
       " 'Tg_m (F)',\n",
       " 'Tg_l (C)',\n",
       " 'Tg_l (F)',\n",
       " 'Relative humidity (%)',\n",
       " 'Humidity preference',\n",
       " 'Humidity sensation',\n",
       " 'Air velocity (m/s)',\n",
       " 'Air velocity (fpm)',\n",
       " 'Velocity_h (m/s)',\n",
       " 'Velocity_h (fpm)',\n",
       " 'Velocity_m (m/s)',\n",
       " 'Velocity_m (fpm)',\n",
       " 'Velocity_l (m/s)',\n",
       " 'Velocity_l (fpm)',\n",
       " 'Subject«s height (cm)',\n",
       " 'Subject«s weight (kg)',\n",
       " 'Blind (curtain)',\n",
       " 'Fan',\n",
       " 'Window',\n",
       " 'Door',\n",
       " 'Heater',\n",
       " 'Outdoor monthly air temperature (C)',\n",
       " 'Outdoor monthly air temperature (F)',\n",
       " 'Database',\n",
       " 'ThermalSensation_rounded']"
      ]
     },
     "execution_count": 9,
     "metadata": {},
     "output_type": "execute_result"
    }
   ],
   "source": [
    "list(ieq_data.columns)"
   ]
  },
  {
   "cell_type": "markdown",
   "id": "90924e58",
   "metadata": {
    "id": "00Nn6JKYnkak",
    "papermill": {
     "duration": 0.039157,
     "end_time": "2021-10-07T08:47:14.456038",
     "exception": false,
     "start_time": "2021-10-07T08:47:14.416881",
     "status": "completed"
    },
    "tags": []
   },
   "source": [
    "Let's use the following columns as input features for the classification model. These features will be used by the model to try to predict `ThermalSensation_rounded`.\n",
    "\n",
    "Several of the features are related to the building context (i.e.: `Country`, `City`), the environmental conditions (i.e.: `Air Temperature (C)`, `Relative humidity (%)`) and personal factors (i.e.: `Sex`, `Clo`, etc.)\n"
   ]
  },
  {
   "cell_type": "code",
   "execution_count": 10,
   "id": "4ba1ddaf",
   "metadata": {
    "execution": {
     "iopub.execute_input": "2021-10-07T08:47:14.541223Z",
     "iopub.status.busy": "2021-10-07T08:47:14.540158Z",
     "iopub.status.idle": "2021-10-07T08:47:14.543048Z",
     "shell.execute_reply": "2021-10-07T08:47:14.542440Z",
     "shell.execute_reply.started": "2021-10-07T08:38:26.486231Z"
    },
    "id": "996kd7qMrxmv",
    "papermill": {
     "duration": 0.047089,
     "end_time": "2021-10-07T08:47:14.543184",
     "exception": false,
     "start_time": "2021-10-07T08:47:14.496095",
     "status": "completed"
    },
    "tags": []
   },
   "outputs": [],
   "source": [
    "feature_columns = [\n",
    " 'Year',\n",
    " 'Season',\n",
    " 'Climate',\n",
    " 'City',\n",
    " 'Country',\n",
    " 'Building type',\n",
    " 'Cooling startegy_building level',\n",
    " 'Sex',\n",
    " 'Clo',\n",
    " 'Met',\n",
    " 'Air temperature (C)',\n",
    " 'Relative humidity (%)',\n",
    " 'Air velocity (m/s)','ThermalSensation_rounded']"
   ]
  },
  {
   "cell_type": "code",
   "execution_count": 11,
   "id": "1d3a156a",
   "metadata": {
    "execution": {
     "iopub.execute_input": "2021-10-07T08:47:14.627414Z",
     "iopub.status.busy": "2021-10-07T08:47:14.626081Z",
     "iopub.status.idle": "2021-10-07T08:47:14.677855Z",
     "shell.execute_reply": "2021-10-07T08:47:14.677204Z",
     "shell.execute_reply.started": "2021-10-07T08:40:53.221120Z"
    },
    "id": "TmcSagvCoXFN",
    "papermill": {
     "duration": 0.095939,
     "end_time": "2021-10-07T08:47:14.677997",
     "exception": false,
     "start_time": "2021-10-07T08:47:14.582058",
     "status": "completed"
    },
    "tags": []
   },
   "outputs": [],
   "source": [
    "features_ = ieq_data[feature_columns]"
   ]
  },
  {
   "cell_type": "code",
   "execution_count": 12,
   "id": "09b1a719",
   "metadata": {
    "execution": {
     "iopub.execute_input": "2021-10-07T08:47:14.763469Z",
     "iopub.status.busy": "2021-10-07T08:47:14.762587Z",
     "iopub.status.idle": "2021-10-07T08:47:14.848051Z",
     "shell.execute_reply": "2021-10-07T08:47:14.847455Z",
     "shell.execute_reply.started": "2021-10-07T08:40:54.882785Z"
    },
    "id": "bLwBTee3oaFi",
    "papermill": {
     "duration": 0.129584,
     "end_time": "2021-10-07T08:47:14.848198",
     "exception": false,
     "start_time": "2021-10-07T08:47:14.718614",
     "status": "completed"
    },
    "tags": []
   },
   "outputs": [
    {
     "name": "stdout",
     "output_type": "stream",
     "text": [
      "<class 'pandas.core.frame.DataFrame'>\n",
      "RangeIndex: 107583 entries, 0 to 107582\n",
      "Data columns (total 14 columns):\n",
      " #   Column                           Non-Null Count   Dtype  \n",
      "---  ------                           --------------   -----  \n",
      " 0   Year                             107335 non-null  float64\n",
      " 1   Season                           107342 non-null  object \n",
      " 2   Climate                          107583 non-null  object \n",
      " 3   City                             107570 non-null  object \n",
      " 4   Country                          107583 non-null  object \n",
      " 5   Building type                    103384 non-null  object \n",
      " 6   Cooling startegy_building level  106356 non-null  object \n",
      " 7   Sex                              67035 non-null   object \n",
      " 8   Clo                              99663 non-null   float64\n",
      " 9   Met                              90419 non-null   float64\n",
      " 10  Air temperature (C)              99911 non-null   float64\n",
      " 11  Relative humidity (%)            97762 non-null   float64\n",
      " 12  Air velocity (m/s)               89892 non-null   float64\n",
      " 13  ThermalSensation_rounded         104454 non-null  float64\n",
      "dtypes: float64(7), object(7)\n",
      "memory usage: 11.5+ MB\n"
     ]
    }
   ],
   "source": [
    "features_.info()"
   ]
  },
  {
   "cell_type": "code",
   "execution_count": 13,
   "id": "a5025fd2",
   "metadata": {
    "execution": {
     "iopub.execute_input": "2021-10-07T08:47:14.934693Z",
     "iopub.status.busy": "2021-10-07T08:47:14.933987Z",
     "iopub.status.idle": "2021-10-07T08:47:15.030612Z",
     "shell.execute_reply": "2021-10-07T08:47:15.031121Z",
     "shell.execute_reply.started": "2021-10-07T08:44:17.699965Z"
    },
    "id": "bLwBTee3oaFi",
    "papermill": {
     "duration": 0.142009,
     "end_time": "2021-10-07T08:47:15.031303",
     "exception": false,
     "start_time": "2021-10-07T08:47:14.889294",
     "status": "completed"
    },
    "tags": []
   },
   "outputs": [],
   "source": [
    " A = features_.dropna()"
   ]
  },
  {
   "cell_type": "code",
   "execution_count": 14,
   "id": "1f1f81d2",
   "metadata": {
    "execution": {
     "iopub.execute_input": "2021-10-07T08:47:15.115681Z",
     "iopub.status.busy": "2021-10-07T08:47:15.115033Z",
     "iopub.status.idle": "2021-10-07T08:47:15.159011Z",
     "shell.execute_reply": "2021-10-07T08:47:15.159720Z",
     "shell.execute_reply.started": "2021-10-07T08:44:18.092129Z"
    },
    "id": "bLwBTee3oaFi",
    "papermill": {
     "duration": 0.087978,
     "end_time": "2021-10-07T08:47:15.159956",
     "exception": false,
     "start_time": "2021-10-07T08:47:15.071978",
     "status": "completed"
    },
    "tags": []
   },
   "outputs": [
    {
     "name": "stdout",
     "output_type": "stream",
     "text": [
      "<class 'pandas.core.frame.DataFrame'>\n",
      "Int64Index: 43835 entries, 2233 to 104033\n",
      "Data columns (total 14 columns):\n",
      " #   Column                           Non-Null Count  Dtype  \n",
      "---  ------                           --------------  -----  \n",
      " 0   Year                             43835 non-null  float64\n",
      " 1   Season                           43835 non-null  object \n",
      " 2   Climate                          43835 non-null  object \n",
      " 3   City                             43835 non-null  object \n",
      " 4   Country                          43835 non-null  object \n",
      " 5   Building type                    43835 non-null  object \n",
      " 6   Cooling startegy_building level  43835 non-null  object \n",
      " 7   Sex                              43835 non-null  object \n",
      " 8   Clo                              43835 non-null  float64\n",
      " 9   Met                              43835 non-null  float64\n",
      " 10  Air temperature (C)              43835 non-null  float64\n",
      " 11  Relative humidity (%)            43835 non-null  float64\n",
      " 12  Air velocity (m/s)               43835 non-null  float64\n",
      " 13  ThermalSensation_rounded         43835 non-null  float64\n",
      "dtypes: float64(7), object(7)\n",
      "memory usage: 5.0+ MB\n"
     ]
    }
   ],
   "source": [
    "A.info()"
   ]
  },
  {
   "cell_type": "code",
   "execution_count": 15,
   "id": "450bee24",
   "metadata": {
    "execution": {
     "iopub.execute_input": "2021-10-07T08:47:15.243138Z",
     "iopub.status.busy": "2021-10-07T08:47:15.242530Z",
     "iopub.status.idle": "2021-10-07T08:47:15.250131Z",
     "shell.execute_reply": "2021-10-07T08:47:15.249611Z",
     "shell.execute_reply.started": "2021-10-07T08:45:07.226926Z"
    },
    "id": "bLwBTee3oaFi",
    "papermill": {
     "duration": 0.04991,
     "end_time": "2021-10-07T08:47:15.250266",
     "exception": false,
     "start_time": "2021-10-07T08:47:15.200356",
     "status": "completed"
    },
    "tags": []
   },
   "outputs": [],
   "source": [
    "features = A.drop(['ThermalSensation_rounded'],axis=1)"
   ]
  },
  {
   "cell_type": "code",
   "execution_count": 16,
   "id": "1dfbe7c0",
   "metadata": {
    "execution": {
     "iopub.execute_input": "2021-10-07T08:47:15.334985Z",
     "iopub.status.busy": "2021-10-07T08:47:15.334225Z",
     "iopub.status.idle": "2021-10-07T08:47:15.377162Z",
     "shell.execute_reply": "2021-10-07T08:47:15.378146Z",
     "shell.execute_reply.started": "2021-10-07T08:45:07.532552Z"
    },
    "id": "bLwBTee3oaFi",
    "papermill": {
     "duration": 0.088469,
     "end_time": "2021-10-07T08:47:15.378407",
     "exception": false,
     "start_time": "2021-10-07T08:47:15.289938",
     "status": "completed"
    },
    "tags": []
   },
   "outputs": [
    {
     "name": "stdout",
     "output_type": "stream",
     "text": [
      "<class 'pandas.core.frame.DataFrame'>\n",
      "Int64Index: 43835 entries, 2233 to 104033\n",
      "Data columns (total 13 columns):\n",
      " #   Column                           Non-Null Count  Dtype  \n",
      "---  ------                           --------------  -----  \n",
      " 0   Year                             43835 non-null  float64\n",
      " 1   Season                           43835 non-null  object \n",
      " 2   Climate                          43835 non-null  object \n",
      " 3   City                             43835 non-null  object \n",
      " 4   Country                          43835 non-null  object \n",
      " 5   Building type                    43835 non-null  object \n",
      " 6   Cooling startegy_building level  43835 non-null  object \n",
      " 7   Sex                              43835 non-null  object \n",
      " 8   Clo                              43835 non-null  float64\n",
      " 9   Met                              43835 non-null  float64\n",
      " 10  Air temperature (C)              43835 non-null  float64\n",
      " 11  Relative humidity (%)            43835 non-null  float64\n",
      " 12  Air velocity (m/s)               43835 non-null  float64\n",
      "dtypes: float64(6), object(7)\n",
      "memory usage: 4.7+ MB\n"
     ]
    }
   ],
   "source": [
    "features.info()"
   ]
  },
  {
   "cell_type": "markdown",
   "id": "5c585930",
   "metadata": {
    "id": "RibRtv8Qouqu",
    "papermill": {
     "duration": 0.039326,
     "end_time": "2021-10-07T08:47:15.459076",
     "exception": false,
     "start_time": "2021-10-07T08:47:15.419750",
     "status": "completed"
    },
    "tags": []
   },
   "source": [
    "The **target** variable is the column that we want to predict - in this case, thermal sensation. We will use the \"rounded\" version to minimize the number of categories"
   ]
  },
  {
   "cell_type": "code",
   "execution_count": 17,
   "id": "3eb470b0",
   "metadata": {
    "execution": {
     "iopub.execute_input": "2021-10-07T08:47:15.543423Z",
     "iopub.status.busy": "2021-10-07T08:47:15.542786Z",
     "iopub.status.idle": "2021-10-07T08:47:15.544654Z",
     "shell.execute_reply": "2021-10-07T08:47:15.545198Z",
     "shell.execute_reply.started": "2021-10-07T08:45:09.037468Z"
    },
    "id": "fMn8XdvdobHE",
    "papermill": {
     "duration": 0.046265,
     "end_time": "2021-10-07T08:47:15.545375",
     "exception": false,
     "start_time": "2021-10-07T08:47:15.499110",
     "status": "completed"
    },
    "tags": []
   },
   "outputs": [],
   "source": [
    "target = A[\"ThermalSensation_rounded\"]"
   ]
  },
  {
   "cell_type": "code",
   "execution_count": 18,
   "id": "efa2ae86",
   "metadata": {
    "execution": {
     "iopub.execute_input": "2021-10-07T08:47:15.629258Z",
     "iopub.status.busy": "2021-10-07T08:47:15.628552Z",
     "iopub.status.idle": "2021-10-07T08:47:15.635232Z",
     "shell.execute_reply": "2021-10-07T08:47:15.635745Z",
     "shell.execute_reply.started": "2021-10-07T08:45:10.732279Z"
    },
    "id": "astDNowlpHlW",
    "papermill": {
     "duration": 0.050479,
     "end_time": "2021-10-07T08:47:15.635913",
     "exception": false,
     "start_time": "2021-10-07T08:47:15.585434",
     "status": "completed"
    },
    "tags": []
   },
   "outputs": [
    {
     "data": {
      "text/plain": [
       "2233   -2.0\n",
       "2234   -1.0\n",
       "2235   -2.0\n",
       "2236   -2.0\n",
       "2237    0.0\n",
       "Name: ThermalSensation_rounded, dtype: float64"
      ]
     },
     "execution_count": 18,
     "metadata": {},
     "output_type": "execute_result"
    }
   ],
   "source": [
    "target.head()"
   ]
  },
  {
   "cell_type": "markdown",
   "id": "0169d81e",
   "metadata": {
    "id": "5qe5VTD_rSG-",
    "papermill": {
     "duration": 0.040425,
     "end_time": "2021-10-07T08:47:15.716481",
     "exception": false,
     "start_time": "2021-10-07T08:47:15.676056",
     "status": "completed"
    },
    "tags": []
   },
   "source": [
    "## Create dummy variables for the categories\n",
    "\n",
    "Once again, we need to convert the categorical variables to dummy variables in order as that is the input the model expects"
   ]
  },
  {
   "cell_type": "code",
   "execution_count": 19,
   "id": "c5b2b86e",
   "metadata": {
    "execution": {
     "iopub.execute_input": "2021-10-07T08:47:15.800154Z",
     "iopub.status.busy": "2021-10-07T08:47:15.799517Z",
     "iopub.status.idle": "2021-10-07T08:47:15.854267Z",
     "shell.execute_reply": "2021-10-07T08:47:15.854822Z",
     "shell.execute_reply.started": "2021-10-07T08:45:11.971020Z"
    },
    "id": "MuzOWUmqq-4S",
    "papermill": {
     "duration": 0.098206,
     "end_time": "2021-10-07T08:47:15.854998",
     "exception": false,
     "start_time": "2021-10-07T08:47:15.756792",
     "status": "completed"
    },
    "tags": []
   },
   "outputs": [],
   "source": [
    "features_withdummies = pd.get_dummies(features)"
   ]
  },
  {
   "cell_type": "code",
   "execution_count": 20,
   "id": "a55469ca",
   "metadata": {
    "execution": {
     "iopub.execute_input": "2021-10-07T08:47:15.941113Z",
     "iopub.status.busy": "2021-10-07T08:47:15.940462Z",
     "iopub.status.idle": "2021-10-07T08:47:15.963094Z",
     "shell.execute_reply": "2021-10-07T08:47:15.963586Z",
     "shell.execute_reply.started": "2021-10-07T08:45:12.187607Z"
    },
    "id": "_eAMPN05rF_w",
    "papermill": {
     "duration": 0.068329,
     "end_time": "2021-10-07T08:47:15.963767",
     "exception": false,
     "start_time": "2021-10-07T08:47:15.895438",
     "status": "completed"
    },
    "tags": []
   },
   "outputs": [
    {
     "data": {
      "text/html": [
       "<div>\n",
       "<style scoped>\n",
       "    .dataframe tbody tr th:only-of-type {\n",
       "        vertical-align: middle;\n",
       "    }\n",
       "\n",
       "    .dataframe tbody tr th {\n",
       "        vertical-align: top;\n",
       "    }\n",
       "\n",
       "    .dataframe thead th {\n",
       "        text-align: right;\n",
       "    }\n",
       "</style>\n",
       "<table border=\"1\" class=\"dataframe\">\n",
       "  <thead>\n",
       "    <tr style=\"text-align: right;\">\n",
       "      <th></th>\n",
       "      <th>Year</th>\n",
       "      <th>Clo</th>\n",
       "      <th>Met</th>\n",
       "      <th>Air temperature (C)</th>\n",
       "      <th>Relative humidity (%)</th>\n",
       "      <th>Air velocity (m/s)</th>\n",
       "      <th>Season_Autumn</th>\n",
       "      <th>Season_Spring</th>\n",
       "      <th>Season_Summer</th>\n",
       "      <th>Season_Winter</th>\n",
       "      <th>...</th>\n",
       "      <th>Building type_Multifamily housing</th>\n",
       "      <th>Building type_Office</th>\n",
       "      <th>Building type_Others</th>\n",
       "      <th>Building type_Senior center</th>\n",
       "      <th>Cooling startegy_building level_Air Conditioned</th>\n",
       "      <th>Cooling startegy_building level_Mechanically Ventilated</th>\n",
       "      <th>Cooling startegy_building level_Mixed Mode</th>\n",
       "      <th>Cooling startegy_building level_Naturally Ventilated</th>\n",
       "      <th>Sex_Female</th>\n",
       "      <th>Sex_Male</th>\n",
       "    </tr>\n",
       "  </thead>\n",
       "  <tbody>\n",
       "    <tr>\n",
       "      <th>2233</th>\n",
       "      <td>2012.0</td>\n",
       "      <td>0.75</td>\n",
       "      <td>1.0</td>\n",
       "      <td>25.2</td>\n",
       "      <td>64.0</td>\n",
       "      <td>0.1</td>\n",
       "      <td>0</td>\n",
       "      <td>0</td>\n",
       "      <td>0</td>\n",
       "      <td>1</td>\n",
       "      <td>...</td>\n",
       "      <td>0</td>\n",
       "      <td>1</td>\n",
       "      <td>0</td>\n",
       "      <td>0</td>\n",
       "      <td>0</td>\n",
       "      <td>0</td>\n",
       "      <td>1</td>\n",
       "      <td>0</td>\n",
       "      <td>1</td>\n",
       "      <td>0</td>\n",
       "    </tr>\n",
       "    <tr>\n",
       "      <th>2234</th>\n",
       "      <td>2012.0</td>\n",
       "      <td>0.64</td>\n",
       "      <td>1.0</td>\n",
       "      <td>25.2</td>\n",
       "      <td>64.0</td>\n",
       "      <td>0.1</td>\n",
       "      <td>0</td>\n",
       "      <td>0</td>\n",
       "      <td>0</td>\n",
       "      <td>1</td>\n",
       "      <td>...</td>\n",
       "      <td>0</td>\n",
       "      <td>1</td>\n",
       "      <td>0</td>\n",
       "      <td>0</td>\n",
       "      <td>0</td>\n",
       "      <td>0</td>\n",
       "      <td>1</td>\n",
       "      <td>0</td>\n",
       "      <td>0</td>\n",
       "      <td>1</td>\n",
       "    </tr>\n",
       "    <tr>\n",
       "      <th>2235</th>\n",
       "      <td>2012.0</td>\n",
       "      <td>0.64</td>\n",
       "      <td>1.0</td>\n",
       "      <td>25.2</td>\n",
       "      <td>64.0</td>\n",
       "      <td>0.1</td>\n",
       "      <td>0</td>\n",
       "      <td>0</td>\n",
       "      <td>0</td>\n",
       "      <td>1</td>\n",
       "      <td>...</td>\n",
       "      <td>0</td>\n",
       "      <td>1</td>\n",
       "      <td>0</td>\n",
       "      <td>0</td>\n",
       "      <td>0</td>\n",
       "      <td>0</td>\n",
       "      <td>1</td>\n",
       "      <td>0</td>\n",
       "      <td>0</td>\n",
       "      <td>1</td>\n",
       "    </tr>\n",
       "    <tr>\n",
       "      <th>2236</th>\n",
       "      <td>2012.0</td>\n",
       "      <td>0.75</td>\n",
       "      <td>1.0</td>\n",
       "      <td>25.2</td>\n",
       "      <td>64.0</td>\n",
       "      <td>0.1</td>\n",
       "      <td>0</td>\n",
       "      <td>0</td>\n",
       "      <td>0</td>\n",
       "      <td>1</td>\n",
       "      <td>...</td>\n",
       "      <td>0</td>\n",
       "      <td>1</td>\n",
       "      <td>0</td>\n",
       "      <td>0</td>\n",
       "      <td>0</td>\n",
       "      <td>0</td>\n",
       "      <td>1</td>\n",
       "      <td>0</td>\n",
       "      <td>1</td>\n",
       "      <td>0</td>\n",
       "    </tr>\n",
       "    <tr>\n",
       "      <th>2237</th>\n",
       "      <td>2012.0</td>\n",
       "      <td>0.72</td>\n",
       "      <td>1.0</td>\n",
       "      <td>25.2</td>\n",
       "      <td>64.0</td>\n",
       "      <td>0.1</td>\n",
       "      <td>0</td>\n",
       "      <td>0</td>\n",
       "      <td>0</td>\n",
       "      <td>1</td>\n",
       "      <td>...</td>\n",
       "      <td>0</td>\n",
       "      <td>1</td>\n",
       "      <td>0</td>\n",
       "      <td>0</td>\n",
       "      <td>0</td>\n",
       "      <td>0</td>\n",
       "      <td>1</td>\n",
       "      <td>0</td>\n",
       "      <td>0</td>\n",
       "      <td>1</td>\n",
       "    </tr>\n",
       "  </tbody>\n",
       "</table>\n",
       "<p>5 rows × 103 columns</p>\n",
       "</div>"
      ],
      "text/plain": [
       "        Year   Clo  Met  Air temperature (C)  Relative humidity (%)  \\\n",
       "2233  2012.0  0.75  1.0                 25.2                   64.0   \n",
       "2234  2012.0  0.64  1.0                 25.2                   64.0   \n",
       "2235  2012.0  0.64  1.0                 25.2                   64.0   \n",
       "2236  2012.0  0.75  1.0                 25.2                   64.0   \n",
       "2237  2012.0  0.72  1.0                 25.2                   64.0   \n",
       "\n",
       "      Air velocity (m/s)  Season_Autumn  Season_Spring  Season_Summer  \\\n",
       "2233                 0.1              0              0              0   \n",
       "2234                 0.1              0              0              0   \n",
       "2235                 0.1              0              0              0   \n",
       "2236                 0.1              0              0              0   \n",
       "2237                 0.1              0              0              0   \n",
       "\n",
       "      Season_Winter  ...  Building type_Multifamily housing  \\\n",
       "2233              1  ...                                  0   \n",
       "2234              1  ...                                  0   \n",
       "2235              1  ...                                  0   \n",
       "2236              1  ...                                  0   \n",
       "2237              1  ...                                  0   \n",
       "\n",
       "      Building type_Office  Building type_Others  Building type_Senior center  \\\n",
       "2233                     1                     0                            0   \n",
       "2234                     1                     0                            0   \n",
       "2235                     1                     0                            0   \n",
       "2236                     1                     0                            0   \n",
       "2237                     1                     0                            0   \n",
       "\n",
       "      Cooling startegy_building level_Air Conditioned  \\\n",
       "2233                                                0   \n",
       "2234                                                0   \n",
       "2235                                                0   \n",
       "2236                                                0   \n",
       "2237                                                0   \n",
       "\n",
       "      Cooling startegy_building level_Mechanically Ventilated  \\\n",
       "2233                                                  0         \n",
       "2234                                                  0         \n",
       "2235                                                  0         \n",
       "2236                                                  0         \n",
       "2237                                                  0         \n",
       "\n",
       "      Cooling startegy_building level_Mixed Mode  \\\n",
       "2233                                           1   \n",
       "2234                                           1   \n",
       "2235                                           1   \n",
       "2236                                           1   \n",
       "2237                                           1   \n",
       "\n",
       "      Cooling startegy_building level_Naturally Ventilated  Sex_Female  \\\n",
       "2233                                                  0              1   \n",
       "2234                                                  0              0   \n",
       "2235                                                  0              0   \n",
       "2236                                                  0              1   \n",
       "2237                                                  0              0   \n",
       "\n",
       "      Sex_Male  \n",
       "2233         0  \n",
       "2234         1  \n",
       "2235         1  \n",
       "2236         0  \n",
       "2237         1  \n",
       "\n",
       "[5 rows x 103 columns]"
      ]
     },
     "execution_count": 20,
     "metadata": {},
     "output_type": "execute_result"
    }
   ],
   "source": [
    "features_withdummies.head()"
   ]
  },
  {
   "cell_type": "code",
   "execution_count": 21,
   "id": "c8ad31cb",
   "metadata": {
    "execution": {
     "iopub.execute_input": "2021-10-07T08:47:16.050086Z",
     "iopub.status.busy": "2021-10-07T08:47:16.049127Z",
     "iopub.status.idle": "2021-10-07T08:47:16.066476Z",
     "shell.execute_reply": "2021-10-07T08:47:16.065908Z",
     "shell.execute_reply.started": "2021-10-07T08:45:13.113356Z"
    },
    "id": "_eAMPN05rF_w",
    "papermill": {
     "duration": 0.061943,
     "end_time": "2021-10-07T08:47:16.066619",
     "exception": false,
     "start_time": "2021-10-07T08:47:16.004676",
     "status": "completed"
    },
    "tags": []
   },
   "outputs": [
    {
     "name": "stdout",
     "output_type": "stream",
     "text": [
      "<class 'pandas.core.frame.DataFrame'>\n",
      "Int64Index: 43835 entries, 2233 to 104033\n",
      "Columns: 103 entries, Year to Sex_Male\n",
      "dtypes: float64(6), uint8(97)\n",
      "memory usage: 6.4 MB\n"
     ]
    }
   ],
   "source": [
    "features_withdummies.info()"
   ]
  },
  {
   "cell_type": "markdown",
   "id": "dcbb3d83",
   "metadata": {
    "id": "EIxf8I4CpRIn",
    "papermill": {
     "duration": 0.040856,
     "end_time": "2021-10-07T08:47:16.148930",
     "exception": false,
     "start_time": "2021-10-07T08:47:16.108074",
     "status": "completed"
    },
    "tags": []
   },
   "source": [
    "## Create the Train and Test Split using SK Learn\n",
    "\n",
    "Now we will create a function that will divide the data set into a random train/test combination."
   ]
  },
  {
   "cell_type": "code",
   "execution_count": 22,
   "id": "60182127",
   "metadata": {
    "execution": {
     "iopub.execute_input": "2021-10-07T08:47:16.234427Z",
     "iopub.status.busy": "2021-10-07T08:47:16.233774Z",
     "iopub.status.idle": "2021-10-07T08:47:16.274940Z",
     "shell.execute_reply": "2021-10-07T08:47:16.275447Z",
     "shell.execute_reply.started": "2021-10-07T08:45:14.392164Z"
    },
    "id": "BetJSD9LpLPz",
    "papermill": {
     "duration": 0.085722,
     "end_time": "2021-10-07T08:47:16.275645",
     "exception": false,
     "start_time": "2021-10-07T08:47:16.189923",
     "status": "completed"
    },
    "tags": []
   },
   "outputs": [],
   "source": [
    "features_train, features_test, target_train, target_test = train_test_split(features_withdummies, target, test_size=0.3, random_state=2)\n"
   ]
  },
  {
   "cell_type": "code",
   "execution_count": 23,
   "id": "a49f13aa",
   "metadata": {
    "execution": {
     "iopub.execute_input": "2021-10-07T08:47:16.361649Z",
     "iopub.status.busy": "2021-10-07T08:47:16.360960Z",
     "iopub.status.idle": "2021-10-07T08:47:16.383758Z",
     "shell.execute_reply": "2021-10-07T08:47:16.384285Z",
     "shell.execute_reply.started": "2021-10-07T08:45:16.218533Z"
    },
    "id": "beEhI4-TqkkC",
    "papermill": {
     "duration": 0.067369,
     "end_time": "2021-10-07T08:47:16.384478",
     "exception": false,
     "start_time": "2021-10-07T08:47:16.317109",
     "status": "completed"
    },
    "tags": []
   },
   "outputs": [
    {
     "data": {
      "text/html": [
       "<div>\n",
       "<style scoped>\n",
       "    .dataframe tbody tr th:only-of-type {\n",
       "        vertical-align: middle;\n",
       "    }\n",
       "\n",
       "    .dataframe tbody tr th {\n",
       "        vertical-align: top;\n",
       "    }\n",
       "\n",
       "    .dataframe thead th {\n",
       "        text-align: right;\n",
       "    }\n",
       "</style>\n",
       "<table border=\"1\" class=\"dataframe\">\n",
       "  <thead>\n",
       "    <tr style=\"text-align: right;\">\n",
       "      <th></th>\n",
       "      <th>Year</th>\n",
       "      <th>Clo</th>\n",
       "      <th>Met</th>\n",
       "      <th>Air temperature (C)</th>\n",
       "      <th>Relative humidity (%)</th>\n",
       "      <th>Air velocity (m/s)</th>\n",
       "      <th>Season_Autumn</th>\n",
       "      <th>Season_Spring</th>\n",
       "      <th>Season_Summer</th>\n",
       "      <th>Season_Winter</th>\n",
       "      <th>...</th>\n",
       "      <th>Building type_Multifamily housing</th>\n",
       "      <th>Building type_Office</th>\n",
       "      <th>Building type_Others</th>\n",
       "      <th>Building type_Senior center</th>\n",
       "      <th>Cooling startegy_building level_Air Conditioned</th>\n",
       "      <th>Cooling startegy_building level_Mechanically Ventilated</th>\n",
       "      <th>Cooling startegy_building level_Mixed Mode</th>\n",
       "      <th>Cooling startegy_building level_Naturally Ventilated</th>\n",
       "      <th>Sex_Female</th>\n",
       "      <th>Sex_Male</th>\n",
       "    </tr>\n",
       "  </thead>\n",
       "  <tbody>\n",
       "    <tr>\n",
       "      <th>49943</th>\n",
       "      <td>1998.0</td>\n",
       "      <td>0.73</td>\n",
       "      <td>1.00</td>\n",
       "      <td>25.3</td>\n",
       "      <td>38.8</td>\n",
       "      <td>0.10</td>\n",
       "      <td>0</td>\n",
       "      <td>0</td>\n",
       "      <td>1</td>\n",
       "      <td>0</td>\n",
       "      <td>...</td>\n",
       "      <td>0</td>\n",
       "      <td>0</td>\n",
       "      <td>1</td>\n",
       "      <td>0</td>\n",
       "      <td>0</td>\n",
       "      <td>0</td>\n",
       "      <td>1</td>\n",
       "      <td>0</td>\n",
       "      <td>0</td>\n",
       "      <td>1</td>\n",
       "    </tr>\n",
       "    <tr>\n",
       "      <th>55061</th>\n",
       "      <td>2010.0</td>\n",
       "      <td>0.46</td>\n",
       "      <td>1.00</td>\n",
       "      <td>25.1</td>\n",
       "      <td>67.5</td>\n",
       "      <td>0.10</td>\n",
       "      <td>1</td>\n",
       "      <td>0</td>\n",
       "      <td>0</td>\n",
       "      <td>0</td>\n",
       "      <td>...</td>\n",
       "      <td>0</td>\n",
       "      <td>0</td>\n",
       "      <td>0</td>\n",
       "      <td>0</td>\n",
       "      <td>0</td>\n",
       "      <td>0</td>\n",
       "      <td>1</td>\n",
       "      <td>0</td>\n",
       "      <td>1</td>\n",
       "      <td>0</td>\n",
       "    </tr>\n",
       "    <tr>\n",
       "      <th>86643</th>\n",
       "      <td>1982.0</td>\n",
       "      <td>0.46</td>\n",
       "      <td>1.11</td>\n",
       "      <td>23.8</td>\n",
       "      <td>58.2</td>\n",
       "      <td>0.08</td>\n",
       "      <td>0</td>\n",
       "      <td>0</td>\n",
       "      <td>1</td>\n",
       "      <td>0</td>\n",
       "      <td>...</td>\n",
       "      <td>0</td>\n",
       "      <td>1</td>\n",
       "      <td>0</td>\n",
       "      <td>0</td>\n",
       "      <td>1</td>\n",
       "      <td>0</td>\n",
       "      <td>0</td>\n",
       "      <td>0</td>\n",
       "      <td>0</td>\n",
       "      <td>1</td>\n",
       "    </tr>\n",
       "    <tr>\n",
       "      <th>87984</th>\n",
       "      <td>1983.0</td>\n",
       "      <td>0.86</td>\n",
       "      <td>1.06</td>\n",
       "      <td>21.3</td>\n",
       "      <td>37.2</td>\n",
       "      <td>0.12</td>\n",
       "      <td>0</td>\n",
       "      <td>0</td>\n",
       "      <td>1</td>\n",
       "      <td>0</td>\n",
       "      <td>...</td>\n",
       "      <td>0</td>\n",
       "      <td>1</td>\n",
       "      <td>0</td>\n",
       "      <td>0</td>\n",
       "      <td>0</td>\n",
       "      <td>0</td>\n",
       "      <td>0</td>\n",
       "      <td>1</td>\n",
       "      <td>0</td>\n",
       "      <td>1</td>\n",
       "    </tr>\n",
       "    <tr>\n",
       "      <th>53396</th>\n",
       "      <td>1999.0</td>\n",
       "      <td>0.73</td>\n",
       "      <td>1.20</td>\n",
       "      <td>22.8</td>\n",
       "      <td>30.8</td>\n",
       "      <td>0.04</td>\n",
       "      <td>0</td>\n",
       "      <td>1</td>\n",
       "      <td>0</td>\n",
       "      <td>0</td>\n",
       "      <td>...</td>\n",
       "      <td>0</td>\n",
       "      <td>1</td>\n",
       "      <td>0</td>\n",
       "      <td>0</td>\n",
       "      <td>1</td>\n",
       "      <td>0</td>\n",
       "      <td>0</td>\n",
       "      <td>0</td>\n",
       "      <td>0</td>\n",
       "      <td>1</td>\n",
       "    </tr>\n",
       "  </tbody>\n",
       "</table>\n",
       "<p>5 rows × 103 columns</p>\n",
       "</div>"
      ],
      "text/plain": [
       "         Year   Clo   Met  Air temperature (C)  Relative humidity (%)  \\\n",
       "49943  1998.0  0.73  1.00                 25.3                   38.8   \n",
       "55061  2010.0  0.46  1.00                 25.1                   67.5   \n",
       "86643  1982.0  0.46  1.11                 23.8                   58.2   \n",
       "87984  1983.0  0.86  1.06                 21.3                   37.2   \n",
       "53396  1999.0  0.73  1.20                 22.8                   30.8   \n",
       "\n",
       "       Air velocity (m/s)  Season_Autumn  Season_Spring  Season_Summer  \\\n",
       "49943                0.10              0              0              1   \n",
       "55061                0.10              1              0              0   \n",
       "86643                0.08              0              0              1   \n",
       "87984                0.12              0              0              1   \n",
       "53396                0.04              0              1              0   \n",
       "\n",
       "       Season_Winter  ...  Building type_Multifamily housing  \\\n",
       "49943              0  ...                                  0   \n",
       "55061              0  ...                                  0   \n",
       "86643              0  ...                                  0   \n",
       "87984              0  ...                                  0   \n",
       "53396              0  ...                                  0   \n",
       "\n",
       "       Building type_Office  Building type_Others  \\\n",
       "49943                     0                     1   \n",
       "55061                     0                     0   \n",
       "86643                     1                     0   \n",
       "87984                     1                     0   \n",
       "53396                     1                     0   \n",
       "\n",
       "       Building type_Senior center  \\\n",
       "49943                            0   \n",
       "55061                            0   \n",
       "86643                            0   \n",
       "87984                            0   \n",
       "53396                            0   \n",
       "\n",
       "       Cooling startegy_building level_Air Conditioned  \\\n",
       "49943                                                0   \n",
       "55061                                                0   \n",
       "86643                                                1   \n",
       "87984                                                0   \n",
       "53396                                                1   \n",
       "\n",
       "       Cooling startegy_building level_Mechanically Ventilated  \\\n",
       "49943                                                  0         \n",
       "55061                                                  0         \n",
       "86643                                                  0         \n",
       "87984                                                  0         \n",
       "53396                                                  0         \n",
       "\n",
       "       Cooling startegy_building level_Mixed Mode  \\\n",
       "49943                                           1   \n",
       "55061                                           1   \n",
       "86643                                           0   \n",
       "87984                                           0   \n",
       "53396                                           0   \n",
       "\n",
       "       Cooling startegy_building level_Naturally Ventilated  Sex_Female  \\\n",
       "49943                                                  0              0   \n",
       "55061                                                  0              1   \n",
       "86643                                                  0              0   \n",
       "87984                                                  1              0   \n",
       "53396                                                  0              0   \n",
       "\n",
       "       Sex_Male  \n",
       "49943         1  \n",
       "55061         0  \n",
       "86643         1  \n",
       "87984         1  \n",
       "53396         1  \n",
       "\n",
       "[5 rows x 103 columns]"
      ]
     },
     "execution_count": 23,
     "metadata": {},
     "output_type": "execute_result"
    }
   ],
   "source": [
    "features_train.head()"
   ]
  },
  {
   "cell_type": "code",
   "execution_count": 24,
   "id": "b786a3c9",
   "metadata": {
    "execution": {
     "iopub.execute_input": "2021-10-07T08:47:16.472530Z",
     "iopub.status.busy": "2021-10-07T08:47:16.471558Z",
     "iopub.status.idle": "2021-10-07T08:47:16.487783Z",
     "shell.execute_reply": "2021-10-07T08:47:16.488257Z",
     "shell.execute_reply.started": "2021-10-07T08:45:16.991038Z"
    },
    "id": "YVF4VJxGrZuu",
    "papermill": {
     "duration": 0.061717,
     "end_time": "2021-10-07T08:47:16.488457",
     "exception": false,
     "start_time": "2021-10-07T08:47:16.426740",
     "status": "completed"
    },
    "tags": []
   },
   "outputs": [
    {
     "name": "stdout",
     "output_type": "stream",
     "text": [
      "<class 'pandas.core.frame.DataFrame'>\n",
      "Int64Index: 30684 entries, 49943 to 67471\n",
      "Columns: 103 entries, Year to Sex_Male\n",
      "dtypes: float64(6), uint8(97)\n",
      "memory usage: 4.5 MB\n"
     ]
    }
   ],
   "source": [
    "features_train.info()"
   ]
  },
  {
   "cell_type": "code",
   "execution_count": 25,
   "id": "e700d8b8",
   "metadata": {
    "execution": {
     "iopub.execute_input": "2021-10-07T08:47:16.590053Z",
     "iopub.status.busy": "2021-10-07T08:47:16.589231Z",
     "iopub.status.idle": "2021-10-07T08:47:16.593926Z",
     "shell.execute_reply": "2021-10-07T08:47:16.593054Z",
     "shell.execute_reply.started": "2021-10-07T08:45:17.219562Z"
    },
    "id": "kaduwQESrdAB",
    "papermill": {
     "duration": 0.062062,
     "end_time": "2021-10-07T08:47:16.594118",
     "exception": false,
     "start_time": "2021-10-07T08:47:16.532056",
     "status": "completed"
    },
    "tags": []
   },
   "outputs": [
    {
     "name": "stdout",
     "output_type": "stream",
     "text": [
      "<class 'pandas.core.frame.DataFrame'>\n",
      "Int64Index: 13151 entries, 59007 to 103504\n",
      "Columns: 103 entries, Year to Sex_Male\n",
      "dtypes: float64(6), uint8(97)\n",
      "memory usage: 1.9 MB\n"
     ]
    }
   ],
   "source": [
    "features_test.info()"
   ]
  },
  {
   "cell_type": "markdown",
   "id": "f11665c4",
   "metadata": {
    "id": "jYuwY5ZCVbz5",
    "papermill": {
     "duration": 0.042414,
     "end_time": "2021-10-07T08:47:16.680367",
     "exception": false,
     "start_time": "2021-10-07T08:47:16.637953",
     "status": "completed"
    },
    "tags": []
   },
   "source": [
    "## Train the Random Forest Model and make the classification prediction\n",
    "\n",
    "We now can call the Random Forest model from sklearn that was loaded before and specify various input features (or parameters) that influence the way the model is constructed.\n",
    "\n",
    "These parameters can be optimized in order to achieve the best accuracy."
   ]
  },
  {
   "cell_type": "code",
   "execution_count": 26,
   "id": "2707509f",
   "metadata": {
    "execution": {
     "iopub.execute_input": "2021-10-07T08:47:16.773033Z",
     "iopub.status.busy": "2021-10-07T08:47:16.772370Z",
     "iopub.status.idle": "2021-10-07T08:47:16.775102Z",
     "shell.execute_reply": "2021-10-07T08:47:16.775567Z",
     "shell.execute_reply.started": "2021-10-07T08:45:18.296051Z"
    },
    "id": "O84aOQW9qbbh",
    "papermill": {
     "duration": 0.051583,
     "end_time": "2021-10-07T08:47:16.775742",
     "exception": false,
     "start_time": "2021-10-07T08:47:16.724159",
     "status": "completed"
    },
    "tags": []
   },
   "outputs": [],
   "source": [
    "model_rf = RandomForestClassifier(oob_score = True, max_features = 'auto', n_estimators = 100, min_samples_leaf = 2, random_state = 2)"
   ]
  },
  {
   "cell_type": "code",
   "execution_count": 27,
   "id": "0306dc54",
   "metadata": {
    "execution": {
     "iopub.execute_input": "2021-10-07T08:47:16.868576Z",
     "iopub.status.busy": "2021-10-07T08:47:16.867875Z",
     "iopub.status.idle": "2021-10-07T08:47:23.191080Z",
     "shell.execute_reply": "2021-10-07T08:47:23.190455Z",
     "shell.execute_reply.started": "2021-10-07T08:45:18.517175Z"
    },
    "id": "tbxvCmPsqexF",
    "papermill": {
     "duration": 6.372358,
     "end_time": "2021-10-07T08:47:23.191221",
     "exception": false,
     "start_time": "2021-10-07T08:47:16.818863",
     "status": "completed"
    },
    "tags": []
   },
   "outputs": [
    {
     "data": {
      "text/plain": [
       "RandomForestClassifier(min_samples_leaf=2, oob_score=True, random_state=2)"
      ]
     },
     "execution_count": 27,
     "metadata": {},
     "output_type": "execute_result"
    }
   ],
   "source": [
    "model_rf.fit(features_train, target_train)\n"
   ]
  },
  {
   "cell_type": "markdown",
   "id": "b4d26ca0",
   "metadata": {
    "id": "7RrQMYHvtFFk",
    "papermill": {
     "duration": 0.042777,
     "end_time": "2021-10-07T08:47:23.277008",
     "exception": false,
     "start_time": "2021-10-07T08:47:23.234231",
     "status": "completed"
    },
    "tags": []
   },
   "source": [
    "## Out-of-Bag (OOB) Error Calculation\n",
    "\n",
    "OOB is a metric to measure the accuracy of the classification to predict the right class. The fact that we have six classes to predict makes this classification a bit of challenge.\n"
   ]
  },
  {
   "cell_type": "code",
   "execution_count": 28,
   "id": "7bae20cf",
   "metadata": {
    "execution": {
     "iopub.execute_input": "2021-10-07T08:47:23.368378Z",
     "iopub.status.busy": "2021-10-07T08:47:23.367638Z",
     "iopub.status.idle": "2021-10-07T08:47:23.371465Z",
     "shell.execute_reply": "2021-10-07T08:47:23.370843Z",
     "shell.execute_reply.started": "2021-10-07T08:45:27.270702Z"
    },
    "id": "2m1edD2_qhqF",
    "papermill": {
     "duration": 0.051504,
     "end_time": "2021-10-07T08:47:23.371608",
     "exception": false,
     "start_time": "2021-10-07T08:47:23.320104",
     "status": "completed"
    },
    "tags": []
   },
   "outputs": [
    {
     "name": "stdout",
     "output_type": "stream",
     "text": [
      "Model accuracy: 0.48445443879546346\n"
     ]
    }
   ],
   "source": [
    "mean_model_accuracy = model_rf.oob_score_\n",
    "\n",
    "print(\"Model accuracy: \"+str(mean_model_accuracy))"
   ]
  },
  {
   "cell_type": "markdown",
   "id": "c8b29c78",
   "metadata": {
    "id": "sxJfBD9ZtcT9",
    "papermill": {
     "duration": 0.042723,
     "end_time": "2021-10-07T08:47:23.457621",
     "exception": false,
     "start_time": "2021-10-07T08:47:23.414898",
     "status": "completed"
    },
    "tags": []
   },
   "source": [
    "The model is accurate about half the time in predicting if someone is comfortable. That seems low, but let's find where the baseline is.\n",
    "\n",
    "## Create a Baseline Model to compare the accuracy of the model\n",
    "\n",
    "Sci-kit learn allows you to create a baseline which is the accuracy in just random guessing\n",
    "\n"
   ]
  },
  {
   "cell_type": "code",
   "execution_count": 29,
   "id": "d4e35e8e",
   "metadata": {
    "execution": {
     "iopub.execute_input": "2021-10-07T08:47:23.549834Z",
     "iopub.status.busy": "2021-10-07T08:47:23.548829Z",
     "iopub.status.idle": "2021-10-07T08:47:23.564348Z",
     "shell.execute_reply": "2021-10-07T08:47:23.564812Z",
     "shell.execute_reply.started": "2021-10-07T08:45:29.842731Z"
    },
    "id": "PNG1CIFCtS7h",
    "papermill": {
     "duration": 0.064165,
     "end_time": "2021-10-07T08:47:23.564984",
     "exception": false,
     "start_time": "2021-10-07T08:47:23.500819",
     "status": "completed"
    },
    "tags": []
   },
   "outputs": [
    {
     "name": "stdout",
     "output_type": "stream",
     "text": [
      "Model accuracy: 0.2892555699186374\n"
     ]
    }
   ],
   "source": [
    "#Dummy Classifier model to get a baseline\n",
    "baseline_rf = DummyClassifier(strategy='stratified',random_state=0)\n",
    "baseline_rf.fit(features_train, target_train)\n",
    "#DummyClassifier(constant=None, random_state=1, strategy='most_frequent')\n",
    "baseline_model_accuracy = baseline_rf.score(features_test, target_test)\n",
    "print(\"Model accuracy: \"+str(baseline_model_accuracy))"
   ]
  },
  {
   "cell_type": "markdown",
   "id": "903fc6c6",
   "metadata": {
    "id": "6w_XLFfPyvg3",
    "papermill": {
     "duration": 0.04351,
     "end_time": "2021-10-07T08:47:23.652739",
     "exception": false,
     "start_time": "2021-10-07T08:47:23.609229",
     "status": "completed"
    },
    "tags": []
   },
   "source": [
    "The baseline model is only 28%, therefore our model is almost twice the accuracy at predicting the right value\n",
    "\n",
    "## Classification Report\n",
    "\n",
    "Classification is often evaluated by more than just accuracy -- there are several other metrics that are calculated to understand the success to classification. We can report that outlines the `precision`, `recall`, `f1-score`, and `support` metrics for each of the classes being predicted."
   ]
  },
  {
   "cell_type": "code",
   "execution_count": 30,
   "id": "86522c8d",
   "metadata": {
    "execution": {
     "iopub.execute_input": "2021-10-07T08:47:23.749207Z",
     "iopub.status.busy": "2021-10-07T08:47:23.748569Z",
     "iopub.status.idle": "2021-10-07T08:47:24.247382Z",
     "shell.execute_reply": "2021-10-07T08:47:24.246706Z",
     "shell.execute_reply.started": "2021-10-07T08:45:31.611660Z"
    },
    "id": "_x6w5nBxtk4m",
    "papermill": {
     "duration": 0.550754,
     "end_time": "2021-10-07T08:47:24.247525",
     "exception": false,
     "start_time": "2021-10-07T08:47:23.696771",
     "status": "completed"
    },
    "tags": []
   },
   "outputs": [
    {
     "name": "stdout",
     "output_type": "stream",
     "text": [
      "              precision    recall  f1-score   support\n",
      "\n",
      "        -3.0       0.43      0.02      0.04       139\n",
      "        -2.0       0.31      0.09      0.14       767\n",
      "        -1.0       0.39      0.30      0.34      2267\n",
      "         0.0       0.55      0.79      0.64      5894\n",
      "         1.0       0.40      0.28      0.33      2565\n",
      "         2.0       0.40      0.25      0.31      1110\n",
      "         3.0       0.47      0.18      0.26       409\n",
      "\n",
      "    accuracy                           0.49     13151\n",
      "   macro avg       0.42      0.27      0.29     13151\n",
      "weighted avg       0.46      0.49      0.45     13151\n",
      "\n"
     ]
    }
   ],
   "source": [
    "y_pred = model_rf.predict(features_test)\n",
    "y_true = np.array(target_test)\n",
    "categories = np.array(target.sort_values().unique())\n",
    "print(classification_report(y_true, y_pred))"
   ]
  },
  {
   "cell_type": "markdown",
   "id": "4534dad1",
   "metadata": {
    "id": "P0k8zD-My6uj",
    "papermill": {
     "duration": 0.044064,
     "end_time": "2021-10-07T08:47:24.335880",
     "exception": false,
     "start_time": "2021-10-07T08:47:24.291816",
     "status": "completed"
    },
    "tags": []
   },
   "source": [
    "## Feature Importance\n",
    "\n",
    "With Random Forest models, there is the built-in capability to calculate the **Feature Importance**. This value is calculated based on which features most contribute to accurate predictions.\n",
    "\n"
   ]
  },
  {
   "cell_type": "code",
   "execution_count": 31,
   "id": "24583474",
   "metadata": {
    "execution": {
     "iopub.execute_input": "2021-10-07T08:47:24.430414Z",
     "iopub.status.busy": "2021-10-07T08:47:24.429746Z",
     "iopub.status.idle": "2021-10-07T08:47:24.475271Z",
     "shell.execute_reply": "2021-10-07T08:47:24.474713Z",
     "shell.execute_reply.started": "2021-10-07T08:45:52.869137Z"
    },
    "id": "OZPVLfEZy0CU",
    "papermill": {
     "duration": 0.09522,
     "end_time": "2021-10-07T08:47:24.475435",
     "exception": false,
     "start_time": "2021-10-07T08:47:24.380215",
     "status": "completed"
    },
    "tags": []
   },
   "outputs": [],
   "source": [
    "importances = model_rf.feature_importances_\n",
    "std = np.std([tree.feature_importances_ for tree in model_rf.estimators_], axis=0)\n",
    "indices = np.argsort(importances)[::-1]"
   ]
  },
  {
   "cell_type": "code",
   "execution_count": 32,
   "id": "f208185a",
   "metadata": {
    "execution": {
     "iopub.execute_input": "2021-10-07T08:47:24.574579Z",
     "iopub.status.busy": "2021-10-07T08:47:24.573918Z",
     "iopub.status.idle": "2021-10-07T08:47:24.585508Z",
     "shell.execute_reply": "2021-10-07T08:47:24.584945Z",
     "shell.execute_reply.started": "2021-10-07T08:45:55.186872Z"
    },
    "id": "-mmtYYR8zApk",
    "papermill": {
     "duration": 0.066186,
     "end_time": "2021-10-07T08:47:24.585666",
     "exception": false,
     "start_time": "2021-10-07T08:47:24.519480",
     "status": "completed"
    },
    "tags": []
   },
   "outputs": [
    {
     "name": "stdout",
     "output_type": "stream",
     "text": [
      "Feature ranking:\n",
      "1. feature Air temperature (C) (0.225219)\n",
      "2. feature Relative humidity (%) (0.193355)\n",
      "3. feature Air velocity (m/s) (0.153468)\n",
      "4. feature Clo (0.148473)\n",
      "5. feature Met (0.070944)\n",
      "6. feature Year (0.019220)\n",
      "7. feature Sex_Male (0.016218)\n",
      "8. feature Sex_Female (0.015844)\n",
      "9. feature Season_Summer (0.011031)\n",
      "10. feature Season_Winter (0.009665)\n",
      "11. feature Season_Spring (0.007771)\n",
      "12. feature Season_Autumn (0.007020)\n",
      "13. feature Cooling startegy_building level_Naturally Ventilated (0.006689)\n",
      "14. feature Cooling startegy_building level_Air Conditioned (0.006674)\n",
      "15. feature Cooling startegy_building level_Mixed Mode (0.006152)\n",
      "16. feature Climate_Tropical wet savanna (0.005564)\n",
      "17. feature Country_India (0.004361)\n",
      "18. feature Building type_Office (0.004321)\n",
      "19. feature Climate_Hot semi-arid (0.004076)\n",
      "20. feature Climate_Subtropical highland (0.003571)\n",
      "21. feature City_Chennai (0.003335)\n",
      "22. feature City_Shimla (0.002948)\n",
      "23. feature Country_UK (0.002547)\n",
      "24. feature Building type_Classroom (0.002440)\n",
      "25. feature Building type_Others (0.002393)\n",
      "26. feature Country_Australia (0.002358)\n",
      "27. feature City_Jaipur (0.002255)\n",
      "28. feature City_London (0.002177)\n",
      "29. feature Building type_Multifamily housing (0.002069)\n",
      "30. feature Climate_Humid subtropical (0.001995)\n",
      "31. feature Country_Brazil (0.001844)\n",
      "32. feature City_Hyderabad (0.001714)\n",
      "33. feature Country_Greece (0.001699)\n",
      "34. feature Climate_Monsoon-influenced humid subtropical (0.001688)\n",
      "35. feature Climate_Temperate oceanic (0.001685)\n",
      "36. feature City_Athens (0.001541)\n",
      "37. feature City_Ahmedabad (0.001506)\n",
      "38. feature City_Delhi (0.001494)\n",
      "39. feature Country_Sweden (0.001431)\n",
      "40. feature Country_Portugal (0.001379)\n",
      "41. feature City_San Francisco (0.001375)\n",
      "42. feature City_Makati (0.001278)\n",
      "43. feature City_Darwin (0.001234)\n",
      "44. feature City_Bangalore (0.001157)\n",
      "45. feature Building type_Senior center (0.001147)\n",
      "46. feature Country_USA (0.001140)\n",
      "47. feature City_Florianopolis (0.001132)\n",
      "48. feature Climate_Warm-summer Mediterranean (0.001110)\n",
      "49. feature City_Townsville (0.001101)\n",
      "50. feature Climate_Warm-summer humid continental (0.001093)\n",
      "51. feature City_Sydney (0.001038)\n",
      "52. feature City_Montreal (0.001035)\n",
      "53. feature Climate_Oceanic (0.000993)\n",
      "54. feature Climate_Hot-summer mediterranean (0.000981)\n",
      "55. feature Climate_Hot-summer Mediterranean (0.000966)\n",
      "56. feature Country_Philippines (0.000946)\n",
      "57. feature Climate_Cool-summer mediterranean (0.000941)\n",
      "58. feature City_San Ramon (0.000930)\n",
      "59. feature City_Porto (0.000875)\n",
      "60. feature City_Brisbane (0.000845)\n",
      "61. feature City_Melbourne (0.000840)\n",
      "62. feature Country_France (0.000783)\n",
      "63. feature City_Lyon (0.000782)\n",
      "64. feature Country_Canada (0.000748)\n",
      "65. feature City_Oxford (0.000732)\n",
      "66. feature City_Gothenburg (0.000730)\n",
      "67. feature City_Walnut Creek (0.000727)\n",
      "68. feature Country_Germany (0.000725)\n",
      "69. feature Country_Thailand (0.000692)\n",
      "70. feature Climate_Tropical rainforest (0.000664)\n",
      "71. feature Country_Iran (0.000625)\n",
      "72. feature City_Bangkok (0.000619)\n",
      "73. feature Climate_Tropical monsoon (0.000602)\n",
      "74. feature City_Kota Kinabalu (0.000587)\n",
      "75. feature City_Ilam (0.000585)\n",
      "76. feature City_Maceio (0.000569)\n",
      "77. feature Country_Singapore (0.000536)\n",
      "78. feature City_Cardiff (0.000531)\n",
      "79. feature City_Karlsruhe (0.000503)\n",
      "80. feature City_Palo Alto (0.000498)\n",
      "81. feature City_Singapore (0.000497)\n",
      "82. feature City_Kalgoorlie (0.000464)\n",
      "83. feature Cooling startegy_building level_Mechanically Ventilated (0.000437)\n",
      "84. feature City_Berkeley (0.000424)\n",
      "85. feature City_Wollongong (0.000423)\n",
      "86. feature Country_Malaysia (0.000370)\n",
      "87. feature Country_Italy (0.000328)\n",
      "88. feature City_Hampshire (0.000317)\n",
      "89. feature City_Malmo (0.000292)\n",
      "90. feature City_Lisbon (0.000262)\n",
      "91. feature City_Halmstad (0.000255)\n",
      "92. feature City_Auburn (0.000245)\n",
      "93. feature City_Goulburn (0.000214)\n",
      "94. feature City_Lodi (0.000172)\n",
      "95. feature City_Bedong (0.000170)\n",
      "96. feature City_Varese (0.000137)\n",
      "97. feature City_Putra Jaya (0.000115)\n",
      "98. feature City_Grand Rapids (0.000115)\n",
      "99. feature City_Imola (0.000095)\n",
      "100. feature City_Beverly Hills (0.000053)\n",
      "101. feature City_Kuching (0.000042)\n",
      "102. feature City_Kinarut (0.000032)\n",
      "103. feature City_Kuala Lumpur (0.000015)\n"
     ]
    }
   ],
   "source": [
    "# Print the feature ranking\n",
    "print(\"Feature ranking:\")\n",
    "\n",
    "for f in range(features_withdummies.shape[1]):\n",
    "    print(\"%d. feature %s (%f)\" % (f + 1, features_withdummies.columns[indices[f]], importances[indices[f]]))"
   ]
  },
  {
   "cell_type": "markdown",
   "id": "de1c9981",
   "metadata": {
    "id": "2VK4nE-2zb44",
    "papermill": {
     "duration": 0.043981,
     "end_time": "2021-10-07T08:47:24.674356",
     "exception": false,
     "start_time": "2021-10-07T08:47:24.630375",
     "status": "completed"
    },
    "tags": []
   },
   "source": [
    "According to the feature importance analysis, it seems that the conventional environmental metrics are the best predictors of comfort followed by the personal factors\n",
    "\n",
    "## Plot Feature Importance\n",
    "\n",
    "We can also plot the feature importance in a line chart of the top features to get a better visual sense"
   ]
  },
  {
   "cell_type": "code",
   "execution_count": 33,
   "id": "cd82fec9",
   "metadata": {
    "execution": {
     "iopub.execute_input": "2021-10-07T08:47:24.786038Z",
     "iopub.status.busy": "2021-10-07T08:47:24.782453Z",
     "iopub.status.idle": "2021-10-07T08:47:25.048630Z",
     "shell.execute_reply": "2021-10-07T08:47:25.047702Z",
     "shell.execute_reply.started": "2021-10-07T08:46:03.314062Z"
    },
    "id": "nTVUt2PuzB0J",
    "papermill": {
     "duration": 0.329961,
     "end_time": "2021-10-07T08:47:25.048783",
     "exception": false,
     "start_time": "2021-10-07T08:47:24.718822",
     "status": "completed"
    },
    "tags": []
   },
   "outputs": [
    {
     "data": {
      "image/png": "[encoded data removed]",
      "text/plain": [
       "<Figure size 1080x432 with 1 Axes>"
      ]
     },
     "metadata": {
      "needs_background": "light"
     },
     "output_type": "display_data"
    }
   ],
   "source": [
    "# Plot the feature importances of the forest\n",
    "plt.figure(figsize=(15,6))\n",
    "plt.title(\"Feature Importances\")\n",
    "plt.barh(range(15), importances[indices][:15], align=\"center\")\n",
    "plt.yticks(range(15), features_withdummies.columns[indices][:15])#\n",
    "plt.gca().invert_yaxis()\n",
    "plt.tight_layout(pad=0.4)\n",
    "plt.show()\n"
   ]
  },
  {
   "cell_type": "markdown",
   "id": "41c2c519",
   "metadata": {
    "id": "bKcCTN4tXfDD",
    "papermill": {
     "duration": 0.045705,
     "end_time": "2021-10-07T08:47:25.140598",
     "exception": false,
     "start_time": "2021-10-07T08:47:25.094893",
     "status": "completed"
    },
    "tags": []
   },
   "source": [
    "## Classification Confusion Matrix Visualization\n",
    "\n",
    "A confusion matrix is a visualization that helps a user understand which classes are being misclassified \n",
    "\n",
    "In this case we will look at absolute numbers of misclassifications and a normalized version of misclassification."
   ]
  },
  {
   "cell_type": "code",
   "execution_count": 34,
   "id": "94c5a541",
   "metadata": {
    "execution": {
     "iopub.execute_input": "2021-10-07T08:47:25.239344Z",
     "iopub.status.busy": "2021-10-07T08:47:25.238678Z",
     "iopub.status.idle": "2021-10-07T08:47:25.241848Z",
     "shell.execute_reply": "2021-10-07T08:47:25.241351Z",
     "shell.execute_reply.started": "2021-10-07T08:46:26.872431Z"
    },
    "id": "eA-kcPyC0ket",
    "papermill": {
     "duration": 0.055297,
     "end_time": "2021-10-07T08:47:25.242002",
     "exception": false,
     "start_time": "2021-10-07T08:47:25.186705",
     "status": "completed"
    },
    "tags": []
   },
   "outputs": [],
   "source": [
    "def plot_confusion_matrix(cm, categories, title='Confusion matrix', cmap='Reds'):\n",
    "    plt.imshow(cm, interpolation='nearest', cmap=cmap)\n",
    "    plt.title(title)\n",
    "    plt.colorbar()\n",
    "    tick_marks = np.arange(len(categories))\n",
    "    plt.xticks(tick_marks,categories, rotation=90)\n",
    "    plt.yticks(tick_marks,categories)\n",
    "    plt.tight_layout()\n",
    "    plt.ylabel('True label')\n",
    "    plt.xlabel('Predicted label')\n",
    "    plt.tight_layout()"
   ]
  },
  {
   "cell_type": "code",
   "execution_count": 35,
   "id": "debdbe0b",
   "metadata": {
    "execution": {
     "iopub.execute_input": "2021-10-07T08:47:25.339910Z",
     "iopub.status.busy": "2021-10-07T08:47:25.339257Z",
     "iopub.status.idle": "2021-10-07T08:47:25.927944Z",
     "shell.execute_reply": "2021-10-07T08:47:25.928518Z",
     "shell.execute_reply.started": "2021-10-07T08:46:28.134939Z"
    },
    "id": "BLealUC3zJop",
    "papermill": {
     "duration": 0.641015,
     "end_time": "2021-10-07T08:47:25.928688",
     "exception": false,
     "start_time": "2021-10-07T08:47:25.287673",
     "status": "completed"
    },
    "tags": []
   },
   "outputs": [
    {
     "name": "stdout",
     "output_type": "stream",
     "text": [
      "Confusion matrix, without normalization\n",
      "[[   3   11   42   67    8    4    4]\n",
      " [   2   69  207  420   55   11    3]\n",
      " [   1   63  688 1337  154   24    0]\n",
      " [   1   46  554 4641  524  109   19]\n",
      " [   0   18  167 1478  715  161   26]\n",
      " [   0   11   66  448  277  276   32]\n",
      " [   0    5   36  118   71  104   75]]\n"
     ]
    },
    {
     "data": {
      "image/png": "[encoded data removed]",
      "text/plain": [
       "<Figure size 864x720 with 2 Axes>"
      ]
     },
     "metadata": {},
     "output_type": "display_data"
    }
   ],
   "source": [
    "# Compute confusion matrix: http://scikit-learn.org/stable/auto_examples/model_selection/plot_confusion_matrix.html\n",
    "sns.set(font_scale=1.4)\n",
    "cm = confusion_matrix(y_true, y_pred)\n",
    "np.set_printoptions(precision=2)\n",
    "print('Confusion matrix, without normalization')\n",
    "print(cm)\n",
    "plt.figure(figsize=(12,10))\n",
    "plot_confusion_matrix(cm, categories)"
   ]
  },
  {
   "cell_type": "code",
   "execution_count": 36,
   "id": "5812dea1",
   "metadata": {
    "execution": {
     "iopub.execute_input": "2021-10-07T08:47:26.038349Z",
     "iopub.status.busy": "2021-10-07T08:47:26.031865Z",
     "iopub.status.idle": "2021-10-07T08:47:26.454868Z",
     "shell.execute_reply": "2021-10-07T08:47:26.455348Z",
     "shell.execute_reply.started": "2021-10-07T08:46:28.591124Z"
    },
    "id": "fvNg89KW0du6",
    "papermill": {
     "duration": 0.479153,
     "end_time": "2021-10-07T08:47:26.455534",
     "exception": false,
     "start_time": "2021-10-07T08:47:25.976381",
     "status": "completed"
    },
    "tags": []
   },
   "outputs": [
    {
     "name": "stdout",
     "output_type": "stream",
     "text": [
      "Normalized confusion matrix\n",
      "[[2.16e-02 7.91e-02 3.02e-01 4.82e-01 5.76e-02 2.88e-02 2.88e-02]\n",
      " [2.61e-03 9.00e-02 2.70e-01 5.48e-01 7.17e-02 1.43e-02 3.91e-03]\n",
      " [4.41e-04 2.78e-02 3.03e-01 5.90e-01 6.79e-02 1.06e-02 0.00e+00]\n",
      " [1.70e-04 7.80e-03 9.40e-02 7.87e-01 8.89e-02 1.85e-02 3.22e-03]\n",
      " [0.00e+00 7.02e-03 6.51e-02 5.76e-01 2.79e-01 6.28e-02 1.01e-02]\n",
      " [0.00e+00 9.91e-03 5.95e-02 4.04e-01 2.50e-01 2.49e-01 2.88e-02]\n",
      " [0.00e+00 1.22e-02 8.80e-02 2.89e-01 1.74e-01 2.54e-01 1.83e-01]]\n"
     ]
    },
    {
     "data": {
      "image/png": "[encoded data removed]",
      "text/plain": [
       "<Figure size 864x720 with 2 Axes>"
      ]
     },
     "metadata": {},
     "output_type": "display_data"
    }
   ],
   "source": [
    "# Normalize the confusion matrix by row (i.e by the number of samples\n",
    "# in each class)\n",
    "cm_normalized = cm.astype('float') / cm.sum(axis=1)[:, np.newaxis]\n",
    "print('Normalized confusion matrix')\n",
    "print(cm_normalized)\n",
    "plt.figure(figsize=(12,10))\n",
    "plot_confusion_matrix(cm_normalized, categories, title='Normalized Classification Error Matrix')\n",
    "plt.show()"
   ]
  }
 ],
 "metadata": {
  "kernelspec": {
   "display_name": "Python 3",
   "language": "python",
   "name": "python3"
  },
  "language_info": {
   "codemirror_mode": {
    "name": "ipython",
    "version": 3
   },
   "file_extension": ".py",
   "mimetype": "text/x-python",
   "name": "python",
   "nbconvert_exporter": "python",
   "pygments_lexer": "ipython3",
   "version": "3.7.10"
  },
  "papermill": {
   "default_parameters": {},
   "duration": 25.833828,
   "end_time": "2021-10-07T08:47:27.742939",
   "environment_variables": {},
   "exception": null,
   "input_path": "__notebook__.ipynb",
   "output_path": "__notebook__.ipynb",
   "parameters": {},
   "start_time": "2021-10-07T08:47:01.909111",
   "version": "2.3.3"
  }
 },
 "nbformat": 4,
 "nbformat_minor": 5
}
