{
 "cells": [
  {
   "cell_type": "markdown",
   "metadata": {
    "papermill": {
     "duration": 0.053634,
     "end_time": "2020-11-18T22:04:23.979023",
     "exception": false,
     "start_time": "2020-11-18T22:04:23.925389",
     "status": "completed"
    },
    "tags": []
   },
   "source": [
    "# Thermal Comfort Analysis & Prediction Model\n",
    "BPS5229 Individual Assignment\n",
    "by Liu Renhao (A0111048W)"
   ]
  },
  {
   "cell_type": "code",
   "execution_count": 1,
   "metadata": {
    "_cell_guid": "b1076dfc-b9ad-4769-8c92-a6c4dae69d19",
    "_uuid": "8f2839f25d086af736a60e9eeb907d3b93b6e0e5",
    "execution": {
     "iopub.execute_input": "2020-11-18T22:04:24.097378Z",
     "iopub.status.busy": "2020-11-18T22:04:24.096577Z",
     "iopub.status.idle": "2020-11-18T22:04:25.523896Z",
     "shell.execute_reply": "2020-11-18T22:04:25.524507Z"
    },
    "papermill": {
     "duration": 1.492878,
     "end_time": "2020-11-18T22:04:25.524734",
     "exception": false,
     "start_time": "2020-11-18T22:04:24.031856",
     "status": "completed"
    },
    "tags": []
   },
   "outputs": [],
   "source": [
    "import numpy as np\n",
    "import pandas as pd\n",
    "import seaborn as sns\n",
    "import sklearn\n",
    "from sklearn.model_selection import train_test_split\n",
    "from sklearn.ensemble import RandomForestClassifier\n",
    "from sklearn.metrics import confusion_matrix\n",
    "from sklearn.metrics import accuracy_score\n",
    "import matplotlib.pyplot as plt\n",
    "%matplotlib inline\n",
    "\n",
    "import os\n",
    "for dirname, _, filenames in os.walk('/kaggle/input'):\n",
    "    for filename in filenames:\n",
    "        print(os.path.join(dirname, filename))\n"
   ]
  },
  {
   "cell_type": "markdown",
   "metadata": {
    "papermill": {
     "duration": 0.052032,
     "end_time": "2020-11-18T22:04:25.630312",
     "exception": false,
     "start_time": "2020-11-18T22:04:25.578280",
     "status": "completed"
    },
    "tags": []
   },
   "source": [
    "# Introduction\n",
    "\n",
    "The generally accepted definition of thermal comfort according to ASHRAE is \"the condition of the mind that expresses satisfaction with the thermal environment\".\n",
    "\n",
    "Thermal comfort is commonly attributed to the following 6 factors:\n",
    "\n",
    "\n",
    "However, these factors can be subjective and may not always give accurate results. \n",
    "\n",
    "The first part of this study will be to analyze the impact of variables affecitng thermal comfort using the dataset from ASHRAE Global Thermal Comfort Database II.\n",
    "\n",
    "The second part of this study will be to determine which factors can help to create a better model for predicting thermal comfort. \n"
   ]
  },
  {
   "cell_type": "markdown",
   "metadata": {
    "papermill": {
     "duration": 0.052768,
     "end_time": "2020-11-18T22:04:25.735288",
     "exception": false,
     "start_time": "2020-11-18T22:04:25.682520",
     "status": "completed"
    },
    "tags": []
   },
   "source": [
    "# Part 1 - Exploratory Analysis of ASHRAE Global Thermal Comfort Database II\n",
    "\n",
    "**Loading of data from ASHRAE Global Thermal Comfort Database II:**"
   ]
  },
  {
   "cell_type": "code",
   "execution_count": 2,
   "metadata": {
    "_cell_guid": "79c7e3d0-c299-4dcb-8224-4455121ee9b0",
    "_uuid": "d629ff2d2480ee46fbb7e2d37f6b5fab8052498a",
    "execution": {
     "iopub.execute_input": "2020-11-18T22:04:25.852460Z",
     "iopub.status.busy": "2020-11-18T22:04:25.851695Z",
     "iopub.status.idle": "2020-11-18T22:04:27.425010Z",
     "shell.execute_reply": "2020-11-18T22:04:27.425622Z"
    },
    "papermill": {
     "duration": 1.632502,
     "end_time": "2020-11-18T22:04:27.425785",
     "exception": false,
     "start_time": "2020-11-18T22:04:25.793283",
     "status": "completed"
    },
    "tags": []
   },
   "outputs": [
    {
     "name": "stderr",
     "output_type": "stream",
     "text": [
      "C:\\Users\\polep\\anaconda3\\lib\\site-packages\\IPython\\core\\interactiveshell.py:3165: DtypeWarning: Columns (10,11,13,18,19,34,50) have mixed types.Specify dtype option on import or set low_memory=False.\n",
      "  has_raised = await self.run_ast_nodes(code_ast.body, cell_name,\n"
     ]
    },
    {
     "data": {
      "text/html": [
       "<div>\n",
       "<style scoped>\n",
       "    .dataframe tbody tr th:only-of-type {\n",
       "        vertical-align: middle;\n",
       "    }\n",
       "\n",
       "    .dataframe tbody tr th {\n",
       "        vertical-align: top;\n",
       "    }\n",
       "\n",
       "    .dataframe thead th {\n",
       "        text-align: right;\n",
       "    }\n",
       "</style>\n",
       "<table border=\"1\" class=\"dataframe\">\n",
       "  <thead>\n",
       "    <tr style=\"text-align: right;\">\n",
       "      <th></th>\n",
       "      <th>Publication (Citation)</th>\n",
       "      <th>Data contributor</th>\n",
       "      <th>Year</th>\n",
       "      <th>Season</th>\n",
       "      <th>Koppen climate classification</th>\n",
       "      <th>Climate</th>\n",
       "      <th>City</th>\n",
       "      <th>Country</th>\n",
       "      <th>Building type</th>\n",
       "      <th>Cooling startegy_building level</th>\n",
       "      <th>...</th>\n",
       "      <th>Subject«s height (cm)</th>\n",
       "      <th>Subject«s weight (kg)</th>\n",
       "      <th>Blind (curtain)</th>\n",
       "      <th>Fan</th>\n",
       "      <th>Window</th>\n",
       "      <th>Door</th>\n",
       "      <th>Heater</th>\n",
       "      <th>Outdoor monthly air temperature (C)</th>\n",
       "      <th>Outdoor monthly air temperature (F)</th>\n",
       "      <th>Database</th>\n",
       "    </tr>\n",
       "  </thead>\n",
       "  <tbody>\n",
       "    <tr>\n",
       "      <th>0</th>\n",
       "      <td>Kwok, Alison G., and Chungyoon Chun. \"Thermal ...</td>\n",
       "      <td>Kwok Alison</td>\n",
       "      <td>2000.0</td>\n",
       "      <td>Summer</td>\n",
       "      <td>Cfa</td>\n",
       "      <td>Humid subtropical</td>\n",
       "      <td>Tokyo</td>\n",
       "      <td>Japan</td>\n",
       "      <td>Classroom</td>\n",
       "      <td>Air Conditioned</td>\n",
       "      <td>...</td>\n",
       "      <td>162.0</td>\n",
       "      <td>NaN</td>\n",
       "      <td>NaN</td>\n",
       "      <td>NaN</td>\n",
       "      <td>NaN</td>\n",
       "      <td>NaN</td>\n",
       "      <td>NaN</td>\n",
       "      <td>25.0</td>\n",
       "      <td>77.0</td>\n",
       "      <td>Database 2</td>\n",
       "    </tr>\n",
       "    <tr>\n",
       "      <th>1</th>\n",
       "      <td>Kwok, Alison G., and Chungyoon Chun. \"Thermal ...</td>\n",
       "      <td>Kwok Alison</td>\n",
       "      <td>2000.0</td>\n",
       "      <td>Summer</td>\n",
       "      <td>Cfa</td>\n",
       "      <td>Humid subtropical</td>\n",
       "      <td>Tokyo</td>\n",
       "      <td>Japan</td>\n",
       "      <td>Classroom</td>\n",
       "      <td>Air Conditioned</td>\n",
       "      <td>...</td>\n",
       "      <td>154.0</td>\n",
       "      <td>NaN</td>\n",
       "      <td>NaN</td>\n",
       "      <td>NaN</td>\n",
       "      <td>NaN</td>\n",
       "      <td>NaN</td>\n",
       "      <td>NaN</td>\n",
       "      <td>25.0</td>\n",
       "      <td>77.0</td>\n",
       "      <td>Database 2</td>\n",
       "    </tr>\n",
       "    <tr>\n",
       "      <th>2</th>\n",
       "      <td>Kwok, Alison G., and Chungyoon Chun. \"Thermal ...</td>\n",
       "      <td>Kwok Alison</td>\n",
       "      <td>2000.0</td>\n",
       "      <td>Summer</td>\n",
       "      <td>Cfa</td>\n",
       "      <td>Humid subtropical</td>\n",
       "      <td>Tokyo</td>\n",
       "      <td>Japan</td>\n",
       "      <td>Classroom</td>\n",
       "      <td>Air Conditioned</td>\n",
       "      <td>...</td>\n",
       "      <td>173.0</td>\n",
       "      <td>NaN</td>\n",
       "      <td>NaN</td>\n",
       "      <td>NaN</td>\n",
       "      <td>NaN</td>\n",
       "      <td>NaN</td>\n",
       "      <td>NaN</td>\n",
       "      <td>25.0</td>\n",
       "      <td>77.0</td>\n",
       "      <td>Database 2</td>\n",
       "    </tr>\n",
       "    <tr>\n",
       "      <th>3</th>\n",
       "      <td>Kwok, Alison G., and Chungyoon Chun. \"Thermal ...</td>\n",
       "      <td>Kwok Alison</td>\n",
       "      <td>2000.0</td>\n",
       "      <td>Summer</td>\n",
       "      <td>Cfa</td>\n",
       "      <td>Humid subtropical</td>\n",
       "      <td>Tokyo</td>\n",
       "      <td>Japan</td>\n",
       "      <td>Classroom</td>\n",
       "      <td>Air Conditioned</td>\n",
       "      <td>...</td>\n",
       "      <td>167.0</td>\n",
       "      <td>NaN</td>\n",
       "      <td>NaN</td>\n",
       "      <td>NaN</td>\n",
       "      <td>NaN</td>\n",
       "      <td>NaN</td>\n",
       "      <td>NaN</td>\n",
       "      <td>25.0</td>\n",
       "      <td>77.0</td>\n",
       "      <td>Database 2</td>\n",
       "    </tr>\n",
       "    <tr>\n",
       "      <th>4</th>\n",
       "      <td>Kwok, Alison G., and Chungyoon Chun. \"Thermal ...</td>\n",
       "      <td>Kwok Alison</td>\n",
       "      <td>2000.0</td>\n",
       "      <td>Summer</td>\n",
       "      <td>Cfa</td>\n",
       "      <td>Humid subtropical</td>\n",
       "      <td>Tokyo</td>\n",
       "      <td>Japan</td>\n",
       "      <td>Classroom</td>\n",
       "      <td>Air Conditioned</td>\n",
       "      <td>...</td>\n",
       "      <td>178.0</td>\n",
       "      <td>NaN</td>\n",
       "      <td>NaN</td>\n",
       "      <td>NaN</td>\n",
       "      <td>NaN</td>\n",
       "      <td>NaN</td>\n",
       "      <td>NaN</td>\n",
       "      <td>25.0</td>\n",
       "      <td>77.0</td>\n",
       "      <td>Database 2</td>\n",
       "    </tr>\n",
       "    <tr>\n",
       "      <th>...</th>\n",
       "      <td>...</td>\n",
       "      <td>...</td>\n",
       "      <td>...</td>\n",
       "      <td>...</td>\n",
       "      <td>...</td>\n",
       "      <td>...</td>\n",
       "      <td>...</td>\n",
       "      <td>...</td>\n",
       "      <td>...</td>\n",
       "      <td>...</td>\n",
       "      <td>...</td>\n",
       "      <td>...</td>\n",
       "      <td>...</td>\n",
       "      <td>...</td>\n",
       "      <td>...</td>\n",
       "      <td>...</td>\n",
       "      <td>...</td>\n",
       "      <td>...</td>\n",
       "      <td>...</td>\n",
       "      <td>...</td>\n",
       "      <td>...</td>\n",
       "    </tr>\n",
       "    <tr>\n",
       "      <th>107578</th>\n",
       "      <td>Kwok, A.G. \"Thermal Comfort in Tropical Classr...</td>\n",
       "      <td>Alison Kwok</td>\n",
       "      <td>1996.0</td>\n",
       "      <td>Winter</td>\n",
       "      <td>As</td>\n",
       "      <td>Tropical dry savanna</td>\n",
       "      <td>Honolulu</td>\n",
       "      <td>USA</td>\n",
       "      <td>Classroom</td>\n",
       "      <td>Air Conditioned</td>\n",
       "      <td>...</td>\n",
       "      <td>NaN</td>\n",
       "      <td>NaN</td>\n",
       "      <td>NaN</td>\n",
       "      <td>NaN</td>\n",
       "      <td>NaN</td>\n",
       "      <td>NaN</td>\n",
       "      <td>NaN</td>\n",
       "      <td>NaN</td>\n",
       "      <td>NaN</td>\n",
       "      <td>Database 1</td>\n",
       "    </tr>\n",
       "    <tr>\n",
       "      <th>107579</th>\n",
       "      <td>Kwok, A.G. \"Thermal Comfort in Tropical Classr...</td>\n",
       "      <td>Alison Kwok</td>\n",
       "      <td>1996.0</td>\n",
       "      <td>Winter</td>\n",
       "      <td>As</td>\n",
       "      <td>Tropical dry savanna</td>\n",
       "      <td>Honolulu</td>\n",
       "      <td>USA</td>\n",
       "      <td>Classroom</td>\n",
       "      <td>Air Conditioned</td>\n",
       "      <td>...</td>\n",
       "      <td>NaN</td>\n",
       "      <td>NaN</td>\n",
       "      <td>NaN</td>\n",
       "      <td>NaN</td>\n",
       "      <td>NaN</td>\n",
       "      <td>NaN</td>\n",
       "      <td>NaN</td>\n",
       "      <td>NaN</td>\n",
       "      <td>NaN</td>\n",
       "      <td>Database 1</td>\n",
       "    </tr>\n",
       "    <tr>\n",
       "      <th>107580</th>\n",
       "      <td>Kwok, A.G. \"Thermal Comfort in Tropical Classr...</td>\n",
       "      <td>Alison Kwok</td>\n",
       "      <td>1996.0</td>\n",
       "      <td>Winter</td>\n",
       "      <td>As</td>\n",
       "      <td>Tropical dry savanna</td>\n",
       "      <td>Honolulu</td>\n",
       "      <td>USA</td>\n",
       "      <td>Classroom</td>\n",
       "      <td>Air Conditioned</td>\n",
       "      <td>...</td>\n",
       "      <td>NaN</td>\n",
       "      <td>NaN</td>\n",
       "      <td>NaN</td>\n",
       "      <td>NaN</td>\n",
       "      <td>NaN</td>\n",
       "      <td>NaN</td>\n",
       "      <td>NaN</td>\n",
       "      <td>NaN</td>\n",
       "      <td>NaN</td>\n",
       "      <td>Database 1</td>\n",
       "    </tr>\n",
       "    <tr>\n",
       "      <th>107581</th>\n",
       "      <td>Kwok, A.G. \"Thermal Comfort in Tropical Classr...</td>\n",
       "      <td>Alison Kwok</td>\n",
       "      <td>1996.0</td>\n",
       "      <td>Winter</td>\n",
       "      <td>As</td>\n",
       "      <td>Tropical dry savanna</td>\n",
       "      <td>Honolulu</td>\n",
       "      <td>USA</td>\n",
       "      <td>Classroom</td>\n",
       "      <td>Air Conditioned</td>\n",
       "      <td>...</td>\n",
       "      <td>NaN</td>\n",
       "      <td>NaN</td>\n",
       "      <td>NaN</td>\n",
       "      <td>NaN</td>\n",
       "      <td>NaN</td>\n",
       "      <td>NaN</td>\n",
       "      <td>NaN</td>\n",
       "      <td>NaN</td>\n",
       "      <td>NaN</td>\n",
       "      <td>Database 1</td>\n",
       "    </tr>\n",
       "    <tr>\n",
       "      <th>107582</th>\n",
       "      <td>Kwok, A.G. \"Thermal Comfort in Tropical Classr...</td>\n",
       "      <td>Alison Kwok</td>\n",
       "      <td>1996.0</td>\n",
       "      <td>Winter</td>\n",
       "      <td>As</td>\n",
       "      <td>Tropical dry savanna</td>\n",
       "      <td>Honolulu</td>\n",
       "      <td>USA</td>\n",
       "      <td>Classroom</td>\n",
       "      <td>Air Conditioned</td>\n",
       "      <td>...</td>\n",
       "      <td>NaN</td>\n",
       "      <td>NaN</td>\n",
       "      <td>NaN</td>\n",
       "      <td>NaN</td>\n",
       "      <td>NaN</td>\n",
       "      <td>NaN</td>\n",
       "      <td>NaN</td>\n",
       "      <td>NaN</td>\n",
       "      <td>NaN</td>\n",
       "      <td>Database 1</td>\n",
       "    </tr>\n",
       "  </tbody>\n",
       "</table>\n",
       "<p>107583 rows × 70 columns</p>\n",
       "</div>"
      ],
      "text/plain": [
       "                                   Publication (Citation) Data contributor  \\\n",
       "0       Kwok, Alison G., and Chungyoon Chun. \"Thermal ...      Kwok Alison   \n",
       "1       Kwok, Alison G., and Chungyoon Chun. \"Thermal ...      Kwok Alison   \n",
       "2       Kwok, Alison G., and Chungyoon Chun. \"Thermal ...      Kwok Alison   \n",
       "3       Kwok, Alison G., and Chungyoon Chun. \"Thermal ...      Kwok Alison   \n",
       "4       Kwok, Alison G., and Chungyoon Chun. \"Thermal ...      Kwok Alison   \n",
       "...                                                   ...              ...   \n",
       "107578  Kwok, A.G. \"Thermal Comfort in Tropical Classr...      Alison Kwok   \n",
       "107579  Kwok, A.G. \"Thermal Comfort in Tropical Classr...      Alison Kwok   \n",
       "107580  Kwok, A.G. \"Thermal Comfort in Tropical Classr...      Alison Kwok   \n",
       "107581  Kwok, A.G. \"Thermal Comfort in Tropical Classr...      Alison Kwok   \n",
       "107582  Kwok, A.G. \"Thermal Comfort in Tropical Classr...      Alison Kwok   \n",
       "\n",
       "          Year  Season Koppen climate classification               Climate  \\\n",
       "0       2000.0  Summer                           Cfa     Humid subtropical   \n",
       "1       2000.0  Summer                           Cfa     Humid subtropical   \n",
       "2       2000.0  Summer                           Cfa     Humid subtropical   \n",
       "3       2000.0  Summer                           Cfa     Humid subtropical   \n",
       "4       2000.0  Summer                           Cfa     Humid subtropical   \n",
       "...        ...     ...                           ...                   ...   \n",
       "107578  1996.0  Winter                            As  Tropical dry savanna   \n",
       "107579  1996.0  Winter                            As  Tropical dry savanna   \n",
       "107580  1996.0  Winter                            As  Tropical dry savanna   \n",
       "107581  1996.0  Winter                            As  Tropical dry savanna   \n",
       "107582  1996.0  Winter                            As  Tropical dry savanna   \n",
       "\n",
       "            City Country Building type Cooling startegy_building level  ...  \\\n",
       "0          Tokyo   Japan     Classroom                 Air Conditioned  ...   \n",
       "1          Tokyo   Japan     Classroom                 Air Conditioned  ...   \n",
       "2          Tokyo   Japan     Classroom                 Air Conditioned  ...   \n",
       "3          Tokyo   Japan     Classroom                 Air Conditioned  ...   \n",
       "4          Tokyo   Japan     Classroom                 Air Conditioned  ...   \n",
       "...          ...     ...           ...                             ...  ...   \n",
       "107578  Honolulu     USA     Classroom                 Air Conditioned  ...   \n",
       "107579  Honolulu     USA     Classroom                 Air Conditioned  ...   \n",
       "107580  Honolulu     USA     Classroom                 Air Conditioned  ...   \n",
       "107581  Honolulu     USA     Classroom                 Air Conditioned  ...   \n",
       "107582  Honolulu     USA     Classroom                 Air Conditioned  ...   \n",
       "\n",
       "       Subject«s height (cm) Subject«s weight (kg)  Blind (curtain) Fan  \\\n",
       "0                      162.0                   NaN              NaN NaN   \n",
       "1                      154.0                   NaN              NaN NaN   \n",
       "2                      173.0                   NaN              NaN NaN   \n",
       "3                      167.0                   NaN              NaN NaN   \n",
       "4                      178.0                   NaN              NaN NaN   \n",
       "...                      ...                   ...              ...  ..   \n",
       "107578                   NaN                   NaN              NaN NaN   \n",
       "107579                   NaN                   NaN              NaN NaN   \n",
       "107580                   NaN                   NaN              NaN NaN   \n",
       "107581                   NaN                   NaN              NaN NaN   \n",
       "107582                   NaN                   NaN              NaN NaN   \n",
       "\n",
       "        Window  Door Heater  Outdoor monthly air temperature (C)  \\\n",
       "0          NaN   NaN    NaN                                 25.0   \n",
       "1          NaN   NaN    NaN                                 25.0   \n",
       "2          NaN   NaN    NaN                                 25.0   \n",
       "3          NaN   NaN    NaN                                 25.0   \n",
       "4          NaN   NaN    NaN                                 25.0   \n",
       "...        ...   ...    ...                                  ...   \n",
       "107578     NaN   NaN    NaN                                  NaN   \n",
       "107579     NaN   NaN    NaN                                  NaN   \n",
       "107580     NaN   NaN    NaN                                  NaN   \n",
       "107581     NaN   NaN    NaN                                  NaN   \n",
       "107582     NaN   NaN    NaN                                  NaN   \n",
       "\n",
       "       Outdoor monthly air temperature (F)    Database  \n",
       "0                                     77.0  Database 2  \n",
       "1                                     77.0  Database 2  \n",
       "2                                     77.0  Database 2  \n",
       "3                                     77.0  Database 2  \n",
       "4                                     77.0  Database 2  \n",
       "...                                    ...         ...  \n",
       "107578                                 NaN  Database 1  \n",
       "107579                                 NaN  Database 1  \n",
       "107580                                 NaN  Database 1  \n",
       "107581                                 NaN  Database 1  \n",
       "107582                                 NaN  Database 1  \n",
       "\n",
       "[107583 rows x 70 columns]"
      ]
     },
     "execution_count": 2,
     "metadata": {},
     "output_type": "execute_result"
    }
   ],
   "source": [
    "raw_data = pd.read_csv(r\"C:\\Users\\polep\\OneDrive - Högskolan Dalarna\\Desktop\\Interview\\portfolio_projects\\Thermal\\ashrae_db2.01.csv\")\n",
    "raw_data"
   ]
  },
  {
   "cell_type": "markdown",
   "metadata": {
    "papermill": {
     "duration": 0.053319,
     "end_time": "2020-11-18T22:04:27.533442",
     "exception": false,
     "start_time": "2020-11-18T22:04:27.480123",
     "status": "completed"
    },
    "tags": []
   },
   "source": [
    "**A summary on the type of information included in this dataset:**"
   ]
  },
  {
   "cell_type": "code",
   "execution_count": 3,
   "metadata": {
    "execution": {
     "iopub.execute_input": "2020-11-18T22:04:27.648510Z",
     "iopub.status.busy": "2020-11-18T22:04:27.647207Z",
     "iopub.status.idle": "2020-11-18T22:04:27.889205Z",
     "shell.execute_reply": "2020-11-18T22:04:27.889863Z"
    },
    "papermill": {
     "duration": 0.302692,
     "end_time": "2020-11-18T22:04:27.890030",
     "exception": false,
     "start_time": "2020-11-18T22:04:27.587338",
     "status": "completed"
    },
    "tags": []
   },
   "outputs": [
    {
     "name": "stdout",
     "output_type": "stream",
     "text": [
      "<class 'pandas.core.frame.DataFrame'>\n",
      "RangeIndex: 107583 entries, 0 to 107582\n",
      "Data columns (total 70 columns):\n",
      " #   Column                                            Non-Null Count   Dtype  \n",
      "---  ------                                            --------------   -----  \n",
      " 0   Publication (Citation)                            105928 non-null  object \n",
      " 1   Data contributor                                  107583 non-null  object \n",
      " 2   Year                                              107335 non-null  float64\n",
      " 3   Season                                            107342 non-null  object \n",
      " 4   Koppen climate classification                     107583 non-null  object \n",
      " 5   Climate                                           107583 non-null  object \n",
      " 6   City                                              107570 non-null  object \n",
      " 7   Country                                           107583 non-null  object \n",
      " 8   Building type                                     103384 non-null  object \n",
      " 9   Cooling startegy_building level                   106356 non-null  object \n",
      " 10  Cooling startegy_operation mode for MM buildings  26519 non-null   object \n",
      " 11  Heating strategy_building level                   37765 non-null   object \n",
      " 12  Age                                               43579 non-null   float64\n",
      " 13  Sex                                               67035 non-null   object \n",
      " 14  Thermal sensation                                 104454 non-null  float64\n",
      " 15  Thermal sensation acceptability                   62444 non-null   float64\n",
      " 16  Thermal preference                                85500 non-null   object \n",
      " 17  Air movement acceptability                        16347 non-null   float64\n",
      " 18  Air movement preference                           43375 non-null   object \n",
      " 19  Thermal comfort                                   36335 non-null   object \n",
      " 20  PMV                                               66734 non-null   float64\n",
      " 21  PPD                                               66734 non-null   float64\n",
      " 22  SET                                               66518 non-null   float64\n",
      " 23  Clo                                               99663 non-null   float64\n",
      " 24  Met                                               90419 non-null   float64\n",
      " 25  activity_10                                       8810 non-null    float64\n",
      " 26  activity_20                                       9699 non-null    float64\n",
      " 27  activity_30                                       8754 non-null    float64\n",
      " 28  activity_60                                       9597 non-null    float64\n",
      " 29  Air temperature (C)                               99911 non-null   float64\n",
      " 30  Air temperature (F)                               99911 non-null   float64\n",
      " 31  Ta_h (C)                                          28024 non-null   float64\n",
      " 32  Ta_h (F)                                          28024 non-null   float64\n",
      " 33  Ta_m (C)                                          31148 non-null   float64\n",
      " 34  Ta_m (F)                                          31165 non-null   object \n",
      " 35  Ta_l (C)                                          10448 non-null   float64\n",
      " 36  Ta_l (F)                                          10448 non-null   float64\n",
      " 37  Operative temperature (C)                         37963 non-null   float64\n",
      " 38  Operative temperature (F)                         37963 non-null   float64\n",
      " 39  Radiant temperature (C)                           32473 non-null   float64\n",
      " 40  Radiant temperature (F)                           32472 non-null   float64\n",
      " 41  Globe temperature (C)                             26004 non-null   float64\n",
      " 42  Globe temperature (F)                             26004 non-null   float64\n",
      " 43  Tg_h (C)                                          53005 non-null   float64\n",
      " 44  Tg_h (F)                                          53005 non-null   float64\n",
      " 45  Tg_m (C)                                          25886 non-null   float64\n",
      " 46  Tg_m (F)                                          25886 non-null   float64\n",
      " 47  Tg_l (C)                                          23248 non-null   float64\n",
      " 48  Tg_l (F)                                          23248 non-null   float64\n",
      " 49  Relative humidity (%)                             97762 non-null   float64\n",
      " 50  Humidity preference                               12243 non-null   object \n",
      " 51  Humidity sensation                                12540 non-null   float64\n",
      " 52  Air velocity (m/s)                                89892 non-null   float64\n",
      " 53  Air velocity (fpm)                                89881 non-null   float64\n",
      " 54  Velocity_h (m/s)                                  21979 non-null   float64\n",
      " 55  Velocity_h (fpm)                                  21979 non-null   float64\n",
      " 56  Velocity_m (m/s)                                  28320 non-null   float64\n",
      " 57  Velocity_m (fpm)                                  28320 non-null   float64\n",
      " 58  Velocity_l (m/s)                                  10252 non-null   float64\n",
      " 59  Velocity_l (fpm)                                  10252 non-null   float64\n",
      " 60  Subject«s height (cm)                             20353 non-null   float64\n",
      " 61  Subject«s weight (kg)                             24662 non-null   float64\n",
      " 62  Blind (curtain)                                   5735 non-null    float64\n",
      " 63  Fan                                               13186 non-null   float64\n",
      " 64  Window                                            22079 non-null   float64\n",
      " 65  Door                                              11130 non-null   float64\n",
      " 66  Heater                                            8338 non-null    float64\n",
      " 67  Outdoor monthly air temperature (C)               79338 non-null   float64\n",
      " 68  Outdoor monthly air temperature (F)               79336 non-null   float64\n",
      " 69  Database                                          107583 non-null  object \n",
      "dtypes: float64(52), object(18)\n",
      "memory usage: 57.5+ MB\n"
     ]
    }
   ],
   "source": [
    "raw_data.info()"
   ]
  },
  {
   "cell_type": "markdown",
   "metadata": {
    "papermill": {
     "duration": 0.054401,
     "end_time": "2020-11-18T22:04:28.013226",
     "exception": false,
     "start_time": "2020-11-18T22:04:27.958825",
     "status": "completed"
    },
    "tags": []
   },
   "source": [
    "For this study, we shall extact the following 10 feature variables which could have an impact on thermal comfort (target variable):\n",
    "\n",
    "1) Season\n",
    "\n",
    "2) Koppen climate classification\n",
    "\n",
    "3) Building type\n",
    "\n",
    "4) Cooling strategy building level\n",
    "\n",
    "5) Clo *\n",
    "\n",
    "6) Met *\n",
    "\n",
    "7) Air temperature (C) * \n",
    "\n",
    "8) Relative humidity (%) *\n",
    "\n",
    "9) Air velocity (m/s) *\n",
    "\n",
    "10) Outdoor monthly air temperature\n",
    "\n",
    "(Factors with * are variables which are commonly found and attributed to thermal comfort models. The sixth variable, radiant temperature (C), was excluded from this study due to missing data which will affect the available size of dataset)"
   ]
  },
  {
   "cell_type": "code",
   "execution_count": 4,
   "metadata": {
    "execution": {
     "iopub.execute_input": "2020-11-18T22:04:28.131075Z",
     "iopub.status.busy": "2020-11-18T22:04:28.130006Z",
     "iopub.status.idle": "2020-11-18T22:04:28.166156Z",
     "shell.execute_reply": "2020-11-18T22:04:28.165435Z"
    },
    "papermill": {
     "duration": 0.098249,
     "end_time": "2020-11-18T22:04:28.166306",
     "exception": false,
     "start_time": "2020-11-18T22:04:28.068057",
     "status": "completed"
    },
    "tags": []
   },
   "outputs": [
    {
     "data": {
      "text/html": [
       "<div>\n",
       "<style scoped>\n",
       "    .dataframe tbody tr th:only-of-type {\n",
       "        vertical-align: middle;\n",
       "    }\n",
       "\n",
       "    .dataframe tbody tr th {\n",
       "        vertical-align: top;\n",
       "    }\n",
       "\n",
       "    .dataframe thead th {\n",
       "        text-align: right;\n",
       "    }\n",
       "</style>\n",
       "<table border=\"1\" class=\"dataframe\">\n",
       "  <thead>\n",
       "    <tr style=\"text-align: right;\">\n",
       "      <th></th>\n",
       "      <th>Season</th>\n",
       "      <th>Koppen climate classification</th>\n",
       "      <th>Building type</th>\n",
       "      <th>Cooling startegy_building level</th>\n",
       "      <th>Clo</th>\n",
       "      <th>Met</th>\n",
       "      <th>Air temperature (C)</th>\n",
       "      <th>Relative humidity (%)</th>\n",
       "      <th>Air velocity (m/s)</th>\n",
       "      <th>Outdoor monthly air temperature (C)</th>\n",
       "      <th>Thermal comfort</th>\n",
       "    </tr>\n",
       "  </thead>\n",
       "  <tbody>\n",
       "    <tr>\n",
       "      <th>0</th>\n",
       "      <td>Summer</td>\n",
       "      <td>Cfa</td>\n",
       "      <td>Classroom</td>\n",
       "      <td>Air Conditioned</td>\n",
       "      <td>0.25</td>\n",
       "      <td>NaN</td>\n",
       "      <td>24.2</td>\n",
       "      <td>50.2</td>\n",
       "      <td>0.06</td>\n",
       "      <td>25.0</td>\n",
       "      <td>5.0</td>\n",
       "    </tr>\n",
       "    <tr>\n",
       "      <th>1</th>\n",
       "      <td>Summer</td>\n",
       "      <td>Cfa</td>\n",
       "      <td>Classroom</td>\n",
       "      <td>Air Conditioned</td>\n",
       "      <td>0.25</td>\n",
       "      <td>NaN</td>\n",
       "      <td>24.2</td>\n",
       "      <td>50.2</td>\n",
       "      <td>0.06</td>\n",
       "      <td>25.0</td>\n",
       "      <td>5.0</td>\n",
       "    </tr>\n",
       "    <tr>\n",
       "      <th>2</th>\n",
       "      <td>Summer</td>\n",
       "      <td>Cfa</td>\n",
       "      <td>Classroom</td>\n",
       "      <td>Air Conditioned</td>\n",
       "      <td>0.27</td>\n",
       "      <td>NaN</td>\n",
       "      <td>24.2</td>\n",
       "      <td>50.2</td>\n",
       "      <td>0.06</td>\n",
       "      <td>25.0</td>\n",
       "      <td>6.0</td>\n",
       "    </tr>\n",
       "    <tr>\n",
       "      <th>3</th>\n",
       "      <td>Summer</td>\n",
       "      <td>Cfa</td>\n",
       "      <td>Classroom</td>\n",
       "      <td>Air Conditioned</td>\n",
       "      <td>0.23</td>\n",
       "      <td>NaN</td>\n",
       "      <td>24.2</td>\n",
       "      <td>50.2</td>\n",
       "      <td>0.06</td>\n",
       "      <td>25.0</td>\n",
       "      <td>4.0</td>\n",
       "    </tr>\n",
       "    <tr>\n",
       "      <th>4</th>\n",
       "      <td>Summer</td>\n",
       "      <td>Cfa</td>\n",
       "      <td>Classroom</td>\n",
       "      <td>Air Conditioned</td>\n",
       "      <td>0.34</td>\n",
       "      <td>NaN</td>\n",
       "      <td>24.2</td>\n",
       "      <td>50.2</td>\n",
       "      <td>0.06</td>\n",
       "      <td>25.0</td>\n",
       "      <td>6.0</td>\n",
       "    </tr>\n",
       "    <tr>\n",
       "      <th>...</th>\n",
       "      <td>...</td>\n",
       "      <td>...</td>\n",
       "      <td>...</td>\n",
       "      <td>...</td>\n",
       "      <td>...</td>\n",
       "      <td>...</td>\n",
       "      <td>...</td>\n",
       "      <td>...</td>\n",
       "      <td>...</td>\n",
       "      <td>...</td>\n",
       "      <td>...</td>\n",
       "    </tr>\n",
       "    <tr>\n",
       "      <th>107578</th>\n",
       "      <td>Winter</td>\n",
       "      <td>As</td>\n",
       "      <td>Classroom</td>\n",
       "      <td>Air Conditioned</td>\n",
       "      <td>0.59</td>\n",
       "      <td>1.2</td>\n",
       "      <td>NaN</td>\n",
       "      <td>67.4</td>\n",
       "      <td>NaN</td>\n",
       "      <td>NaN</td>\n",
       "      <td>5</td>\n",
       "    </tr>\n",
       "    <tr>\n",
       "      <th>107579</th>\n",
       "      <td>Winter</td>\n",
       "      <td>As</td>\n",
       "      <td>Classroom</td>\n",
       "      <td>Air Conditioned</td>\n",
       "      <td>0.44</td>\n",
       "      <td>1.2</td>\n",
       "      <td>NaN</td>\n",
       "      <td>67.4</td>\n",
       "      <td>NaN</td>\n",
       "      <td>NaN</td>\n",
       "      <td>5</td>\n",
       "    </tr>\n",
       "    <tr>\n",
       "      <th>107580</th>\n",
       "      <td>Winter</td>\n",
       "      <td>As</td>\n",
       "      <td>Classroom</td>\n",
       "      <td>Air Conditioned</td>\n",
       "      <td>0.37</td>\n",
       "      <td>1.2</td>\n",
       "      <td>NaN</td>\n",
       "      <td>67.4</td>\n",
       "      <td>NaN</td>\n",
       "      <td>NaN</td>\n",
       "      <td>5</td>\n",
       "    </tr>\n",
       "    <tr>\n",
       "      <th>107581</th>\n",
       "      <td>Winter</td>\n",
       "      <td>As</td>\n",
       "      <td>Classroom</td>\n",
       "      <td>Air Conditioned</td>\n",
       "      <td>0.80</td>\n",
       "      <td>1.2</td>\n",
       "      <td>NaN</td>\n",
       "      <td>67.4</td>\n",
       "      <td>NaN</td>\n",
       "      <td>NaN</td>\n",
       "      <td>4</td>\n",
       "    </tr>\n",
       "    <tr>\n",
       "      <th>107582</th>\n",
       "      <td>Winter</td>\n",
       "      <td>As</td>\n",
       "      <td>Classroom</td>\n",
       "      <td>Air Conditioned</td>\n",
       "      <td>0.29</td>\n",
       "      <td>1.2</td>\n",
       "      <td>NaN</td>\n",
       "      <td>67.4</td>\n",
       "      <td>NaN</td>\n",
       "      <td>NaN</td>\n",
       "      <td>5</td>\n",
       "    </tr>\n",
       "  </tbody>\n",
       "</table>\n",
       "<p>107583 rows × 11 columns</p>\n",
       "</div>"
      ],
      "text/plain": [
       "        Season Koppen climate classification Building type  \\\n",
       "0       Summer                           Cfa     Classroom   \n",
       "1       Summer                           Cfa     Classroom   \n",
       "2       Summer                           Cfa     Classroom   \n",
       "3       Summer                           Cfa     Classroom   \n",
       "4       Summer                           Cfa     Classroom   \n",
       "...        ...                           ...           ...   \n",
       "107578  Winter                            As     Classroom   \n",
       "107579  Winter                            As     Classroom   \n",
       "107580  Winter                            As     Classroom   \n",
       "107581  Winter                            As     Classroom   \n",
       "107582  Winter                            As     Classroom   \n",
       "\n",
       "       Cooling startegy_building level   Clo  Met  Air temperature (C)  \\\n",
       "0                      Air Conditioned  0.25  NaN                 24.2   \n",
       "1                      Air Conditioned  0.25  NaN                 24.2   \n",
       "2                      Air Conditioned  0.27  NaN                 24.2   \n",
       "3                      Air Conditioned  0.23  NaN                 24.2   \n",
       "4                      Air Conditioned  0.34  NaN                 24.2   \n",
       "...                                ...   ...  ...                  ...   \n",
       "107578                 Air Conditioned  0.59  1.2                  NaN   \n",
       "107579                 Air Conditioned  0.44  1.2                  NaN   \n",
       "107580                 Air Conditioned  0.37  1.2                  NaN   \n",
       "107581                 Air Conditioned  0.80  1.2                  NaN   \n",
       "107582                 Air Conditioned  0.29  1.2                  NaN   \n",
       "\n",
       "        Relative humidity (%)  Air velocity (m/s)  \\\n",
       "0                        50.2                0.06   \n",
       "1                        50.2                0.06   \n",
       "2                        50.2                0.06   \n",
       "3                        50.2                0.06   \n",
       "4                        50.2                0.06   \n",
       "...                       ...                 ...   \n",
       "107578                   67.4                 NaN   \n",
       "107579                   67.4                 NaN   \n",
       "107580                   67.4                 NaN   \n",
       "107581                   67.4                 NaN   \n",
       "107582                   67.4                 NaN   \n",
       "\n",
       "        Outdoor monthly air temperature (C) Thermal comfort  \n",
       "0                                      25.0             5.0  \n",
       "1                                      25.0             5.0  \n",
       "2                                      25.0             6.0  \n",
       "3                                      25.0             4.0  \n",
       "4                                      25.0             6.0  \n",
       "...                                     ...             ...  \n",
       "107578                                  NaN               5  \n",
       "107579                                  NaN               5  \n",
       "107580                                  NaN               5  \n",
       "107581                                  NaN               4  \n",
       "107582                                  NaN               5  \n",
       "\n",
       "[107583 rows x 11 columns]"
      ]
     },
     "execution_count": 4,
     "metadata": {},
     "output_type": "execute_result"
    }
   ],
   "source": [
    "data = raw_data[['Season', 'Koppen climate classification', 'Building type', 'Cooling startegy_building level',\n",
    "                 'Clo', 'Met', 'Air temperature (C)', 'Relative humidity (%)','Air velocity (m/s)', \n",
    "                 'Outdoor monthly air temperature (C)', 'Thermal comfort']]\n",
    "data"
   ]
  },
  {
   "cell_type": "markdown",
   "metadata": {
    "papermill": {
     "duration": 0.054861,
     "end_time": "2020-11-18T22:04:28.277264",
     "exception": false,
     "start_time": "2020-11-18T22:04:28.222403",
     "status": "completed"
    },
    "tags": []
   },
   "source": [
    "# Dealing with missing data\n",
    "\n",
    "Checking for missing data in extracted dataset:"
   ]
  },
  {
   "cell_type": "code",
   "execution_count": 5,
   "metadata": {
    "execution": {
     "iopub.execute_input": "2020-11-18T22:04:28.448316Z",
     "iopub.status.busy": "2020-11-18T22:04:28.447025Z",
     "iopub.status.idle": "2020-11-18T22:04:28.458708Z",
     "shell.execute_reply": "2020-11-18T22:04:28.458074Z"
    },
    "papermill": {
     "duration": 0.125072,
     "end_time": "2020-11-18T22:04:28.458832",
     "exception": false,
     "start_time": "2020-11-18T22:04:28.333760",
     "status": "completed"
    },
    "tags": []
   },
   "outputs": [
    {
     "data": {
      "text/plain": [
       "Season                                   241\n",
       "Koppen climate classification              0\n",
       "Building type                           4199\n",
       "Cooling startegy_building level         1227\n",
       "Clo                                     7920\n",
       "Met                                    17164\n",
       "Air temperature (C)                     7672\n",
       "Relative humidity (%)                   9821\n",
       "Air velocity (m/s)                     17691\n",
       "Outdoor monthly air temperature (C)    28245\n",
       "Thermal comfort                        71248\n",
       "dtype: int64"
      ]
     },
     "execution_count": 5,
     "metadata": {},
     "output_type": "execute_result"
    }
   ],
   "source": [
    "data.isnull().sum()"
   ]
  },
  {
   "cell_type": "markdown",
   "metadata": {
    "papermill": {
     "duration": 0.055466,
     "end_time": "2020-11-18T22:04:28.570579",
     "exception": false,
     "start_time": "2020-11-18T22:04:28.515113",
     "status": "completed"
    },
    "tags": []
   },
   "source": [
    "For simplicity, rows with missing data were removed from the dataset:"
   ]
  },
  {
   "cell_type": "code",
   "execution_count": 6,
   "metadata": {
    "execution": {
     "iopub.execute_input": "2020-11-18T22:04:28.739557Z",
     "iopub.status.busy": "2020-11-18T22:04:28.738784Z",
     "iopub.status.idle": "2020-11-18T22:04:28.794282Z",
     "shell.execute_reply": "2020-11-18T22:04:28.793451Z"
    },
    "papermill": {
     "duration": 0.167628,
     "end_time": "2020-11-18T22:04:28.794414",
     "exception": false,
     "start_time": "2020-11-18T22:04:28.626786",
     "status": "completed"
    },
    "tags": []
   },
   "outputs": [
    {
     "data": {
      "text/html": [
       "<div>\n",
       "<style scoped>\n",
       "    .dataframe tbody tr th:only-of-type {\n",
       "        vertical-align: middle;\n",
       "    }\n",
       "\n",
       "    .dataframe tbody tr th {\n",
       "        vertical-align: top;\n",
       "    }\n",
       "\n",
       "    .dataframe thead th {\n",
       "        text-align: right;\n",
       "    }\n",
       "</style>\n",
       "<table border=\"1\" class=\"dataframe\">\n",
       "  <thead>\n",
       "    <tr style=\"text-align: right;\">\n",
       "      <th></th>\n",
       "      <th>Season</th>\n",
       "      <th>Koppen climate classification</th>\n",
       "      <th>Building type</th>\n",
       "      <th>Cooling startegy_building level</th>\n",
       "      <th>Clo</th>\n",
       "      <th>Met</th>\n",
       "      <th>Air temperature (C)</th>\n",
       "      <th>Relative humidity (%)</th>\n",
       "      <th>Air velocity (m/s)</th>\n",
       "      <th>Outdoor monthly air temperature (C)</th>\n",
       "      <th>Thermal comfort</th>\n",
       "    </tr>\n",
       "  </thead>\n",
       "  <tbody>\n",
       "    <tr>\n",
       "      <th>74</th>\n",
       "      <td>Summer</td>\n",
       "      <td>Cfa</td>\n",
       "      <td>Office</td>\n",
       "      <td>Air Conditioned</td>\n",
       "      <td>0.57</td>\n",
       "      <td>1.0</td>\n",
       "      <td>24.3</td>\n",
       "      <td>36.8</td>\n",
       "      <td>0.27</td>\n",
       "      <td>32.8</td>\n",
       "      <td>4.5</td>\n",
       "    </tr>\n",
       "    <tr>\n",
       "      <th>75</th>\n",
       "      <td>Summer</td>\n",
       "      <td>Cfa</td>\n",
       "      <td>Office</td>\n",
       "      <td>Air Conditioned</td>\n",
       "      <td>0.57</td>\n",
       "      <td>1.1</td>\n",
       "      <td>25.7</td>\n",
       "      <td>33.1</td>\n",
       "      <td>0.09</td>\n",
       "      <td>32.8</td>\n",
       "      <td>5.2</td>\n",
       "    </tr>\n",
       "    <tr>\n",
       "      <th>76</th>\n",
       "      <td>Summer</td>\n",
       "      <td>Cfa</td>\n",
       "      <td>Office</td>\n",
       "      <td>Air Conditioned</td>\n",
       "      <td>0.57</td>\n",
       "      <td>1.1</td>\n",
       "      <td>24.6</td>\n",
       "      <td>34.9</td>\n",
       "      <td>0.06</td>\n",
       "      <td>32.8</td>\n",
       "      <td>2.5</td>\n",
       "    </tr>\n",
       "    <tr>\n",
       "      <th>77</th>\n",
       "      <td>Summer</td>\n",
       "      <td>Cfa</td>\n",
       "      <td>Office</td>\n",
       "      <td>Air Conditioned</td>\n",
       "      <td>0.57</td>\n",
       "      <td>1.0</td>\n",
       "      <td>26.4</td>\n",
       "      <td>31.7</td>\n",
       "      <td>0.13</td>\n",
       "      <td>32.8</td>\n",
       "      <td>2.7</td>\n",
       "    </tr>\n",
       "    <tr>\n",
       "      <th>78</th>\n",
       "      <td>Summer</td>\n",
       "      <td>Cfa</td>\n",
       "      <td>Office</td>\n",
       "      <td>Air Conditioned</td>\n",
       "      <td>0.57</td>\n",
       "      <td>1.0</td>\n",
       "      <td>25.0</td>\n",
       "      <td>33.3</td>\n",
       "      <td>0.07</td>\n",
       "      <td>32.8</td>\n",
       "      <td>2.2</td>\n",
       "    </tr>\n",
       "    <tr>\n",
       "      <th>...</th>\n",
       "      <td>...</td>\n",
       "      <td>...</td>\n",
       "      <td>...</td>\n",
       "      <td>...</td>\n",
       "      <td>...</td>\n",
       "      <td>...</td>\n",
       "      <td>...</td>\n",
       "      <td>...</td>\n",
       "      <td>...</td>\n",
       "      <td>...</td>\n",
       "      <td>...</td>\n",
       "    </tr>\n",
       "    <tr>\n",
       "      <th>81746</th>\n",
       "      <td>Winter</td>\n",
       "      <td>Cfa</td>\n",
       "      <td>Senior center</td>\n",
       "      <td>Mixed Mode</td>\n",
       "      <td>0.94</td>\n",
       "      <td>1.0</td>\n",
       "      <td>22.4</td>\n",
       "      <td>52.5</td>\n",
       "      <td>0.06</td>\n",
       "      <td>13.7</td>\n",
       "      <td>5.0</td>\n",
       "    </tr>\n",
       "    <tr>\n",
       "      <th>81747</th>\n",
       "      <td>Winter</td>\n",
       "      <td>Cfa</td>\n",
       "      <td>Senior center</td>\n",
       "      <td>Mixed Mode</td>\n",
       "      <td>0.66</td>\n",
       "      <td>1.0</td>\n",
       "      <td>22.1</td>\n",
       "      <td>54.1</td>\n",
       "      <td>0.08</td>\n",
       "      <td>13.7</td>\n",
       "      <td>5.0</td>\n",
       "    </tr>\n",
       "    <tr>\n",
       "      <th>81748</th>\n",
       "      <td>Winter</td>\n",
       "      <td>Cfa</td>\n",
       "      <td>Senior center</td>\n",
       "      <td>Mixed Mode</td>\n",
       "      <td>0.69</td>\n",
       "      <td>1.0</td>\n",
       "      <td>22.0</td>\n",
       "      <td>54.0</td>\n",
       "      <td>0.08</td>\n",
       "      <td>13.7</td>\n",
       "      <td>5.0</td>\n",
       "    </tr>\n",
       "    <tr>\n",
       "      <th>81749</th>\n",
       "      <td>Winter</td>\n",
       "      <td>Cfa</td>\n",
       "      <td>Senior center</td>\n",
       "      <td>Mixed Mode</td>\n",
       "      <td>0.82</td>\n",
       "      <td>1.0</td>\n",
       "      <td>20.7</td>\n",
       "      <td>58.0</td>\n",
       "      <td>0.11</td>\n",
       "      <td>13.7</td>\n",
       "      <td>5.0</td>\n",
       "    </tr>\n",
       "    <tr>\n",
       "      <th>81750</th>\n",
       "      <td>Winter</td>\n",
       "      <td>Cfa</td>\n",
       "      <td>Senior center</td>\n",
       "      <td>Mixed Mode</td>\n",
       "      <td>0.86</td>\n",
       "      <td>1.2</td>\n",
       "      <td>20.8</td>\n",
       "      <td>57.4</td>\n",
       "      <td>0.09</td>\n",
       "      <td>13.7</td>\n",
       "      <td>5.0</td>\n",
       "    </tr>\n",
       "  </tbody>\n",
       "</table>\n",
       "<p>16210 rows × 11 columns</p>\n",
       "</div>"
      ],
      "text/plain": [
       "       Season Koppen climate classification  Building type  \\\n",
       "74     Summer                           Cfa         Office   \n",
       "75     Summer                           Cfa         Office   \n",
       "76     Summer                           Cfa         Office   \n",
       "77     Summer                           Cfa         Office   \n",
       "78     Summer                           Cfa         Office   \n",
       "...       ...                           ...            ...   \n",
       "81746  Winter                           Cfa  Senior center   \n",
       "81747  Winter                           Cfa  Senior center   \n",
       "81748  Winter                           Cfa  Senior center   \n",
       "81749  Winter                           Cfa  Senior center   \n",
       "81750  Winter                           Cfa  Senior center   \n",
       "\n",
       "      Cooling startegy_building level   Clo  Met  Air temperature (C)  \\\n",
       "74                    Air Conditioned  0.57  1.0                 24.3   \n",
       "75                    Air Conditioned  0.57  1.1                 25.7   \n",
       "76                    Air Conditioned  0.57  1.1                 24.6   \n",
       "77                    Air Conditioned  0.57  1.0                 26.4   \n",
       "78                    Air Conditioned  0.57  1.0                 25.0   \n",
       "...                               ...   ...  ...                  ...   \n",
       "81746                      Mixed Mode  0.94  1.0                 22.4   \n",
       "81747                      Mixed Mode  0.66  1.0                 22.1   \n",
       "81748                      Mixed Mode  0.69  1.0                 22.0   \n",
       "81749                      Mixed Mode  0.82  1.0                 20.7   \n",
       "81750                      Mixed Mode  0.86  1.2                 20.8   \n",
       "\n",
       "       Relative humidity (%)  Air velocity (m/s)  \\\n",
       "74                      36.8                0.27   \n",
       "75                      33.1                0.09   \n",
       "76                      34.9                0.06   \n",
       "77                      31.7                0.13   \n",
       "78                      33.3                0.07   \n",
       "...                      ...                 ...   \n",
       "81746                   52.5                0.06   \n",
       "81747                   54.1                0.08   \n",
       "81748                   54.0                0.08   \n",
       "81749                   58.0                0.11   \n",
       "81750                   57.4                0.09   \n",
       "\n",
       "       Outdoor monthly air temperature (C) Thermal comfort  \n",
       "74                                    32.8             4.5  \n",
       "75                                    32.8             5.2  \n",
       "76                                    32.8             2.5  \n",
       "77                                    32.8             2.7  \n",
       "78                                    32.8             2.2  \n",
       "...                                    ...             ...  \n",
       "81746                                 13.7             5.0  \n",
       "81747                                 13.7             5.0  \n",
       "81748                                 13.7             5.0  \n",
       "81749                                 13.7             5.0  \n",
       "81750                                 13.7             5.0  \n",
       "\n",
       "[16210 rows x 11 columns]"
      ]
     },
     "execution_count": 6,
     "metadata": {},
     "output_type": "execute_result"
    }
   ],
   "source": [
    "data = data.dropna()\n",
    "data"
   ]
  },
  {
   "cell_type": "code",
   "execution_count": 7,
   "metadata": {
    "execution": {
     "iopub.execute_input": "2020-11-18T22:04:28.926024Z",
     "iopub.status.busy": "2020-11-18T22:04:28.924916Z",
     "iopub.status.idle": "2020-11-18T22:04:28.933384Z",
     "shell.execute_reply": "2020-11-18T22:04:28.932774Z"
    },
    "papermill": {
     "duration": 0.081503,
     "end_time": "2020-11-18T22:04:28.933515",
     "exception": false,
     "start_time": "2020-11-18T22:04:28.852012",
     "status": "completed"
    },
    "tags": []
   },
   "outputs": [
    {
     "data": {
      "text/plain": [
       "Season                                 0\n",
       "Koppen climate classification          0\n",
       "Building type                          0\n",
       "Cooling startegy_building level        0\n",
       "Clo                                    0\n",
       "Met                                    0\n",
       "Air temperature (C)                    0\n",
       "Relative humidity (%)                  0\n",
       "Air velocity (m/s)                     0\n",
       "Outdoor monthly air temperature (C)    0\n",
       "Thermal comfort                        0\n",
       "dtype: int64"
      ]
     },
     "execution_count": 7,
     "metadata": {},
     "output_type": "execute_result"
    }
   ],
   "source": [
    "data.isnull().sum()"
   ]
  },
  {
   "cell_type": "markdown",
   "metadata": {
    "papermill": {
     "duration": 0.057631,
     "end_time": "2020-11-18T22:04:29.049014",
     "exception": false,
     "start_time": "2020-11-18T22:04:28.991383",
     "status": "completed"
    },
    "tags": []
   },
   "source": [
    "No more missing data!\n",
    "\n",
    "Checking data type of columns:"
   ]
  },
  {
   "cell_type": "code",
   "execution_count": 8,
   "metadata": {
    "execution": {
     "iopub.execute_input": "2020-11-18T22:04:29.175031Z",
     "iopub.status.busy": "2020-11-18T22:04:29.173790Z",
     "iopub.status.idle": "2020-11-18T22:04:29.178528Z",
     "shell.execute_reply": "2020-11-18T22:04:29.179138Z"
    },
    "papermill": {
     "duration": 0.072326,
     "end_time": "2020-11-18T22:04:29.179329",
     "exception": false,
     "start_time": "2020-11-18T22:04:29.107003",
     "status": "completed"
    },
    "tags": []
   },
   "outputs": [
    {
     "data": {
      "text/plain": [
       "Season                                  object\n",
       "Koppen climate classification           object\n",
       "Building type                           object\n",
       "Cooling startegy_building level         object\n",
       "Clo                                    float64\n",
       "Met                                    float64\n",
       "Air temperature (C)                    float64\n",
       "Relative humidity (%)                  float64\n",
       "Air velocity (m/s)                     float64\n",
       "Outdoor monthly air temperature (C)    float64\n",
       "Thermal comfort                         object\n",
       "dtype: object"
      ]
     },
     "execution_count": 8,
     "metadata": {},
     "output_type": "execute_result"
    }
   ],
   "source": [
    "data.dtypes"
   ]
  },
  {
   "cell_type": "markdown",
   "metadata": {
    "papermill": {
     "duration": 0.058772,
     "end_time": "2020-11-18T22:04:29.297791",
     "exception": false,
     "start_time": "2020-11-18T22:04:29.239019",
     "status": "completed"
    },
    "tags": []
   },
   "source": [
    "#Converting 'object' data type to 'category':"
   ]
  },
  {
   "cell_type": "code",
   "execution_count": 9,
   "metadata": {
    "execution": {
     "iopub.execute_input": "2020-11-18T22:04:29.428501Z",
     "iopub.status.busy": "2020-11-18T22:04:29.427660Z",
     "iopub.status.idle": "2020-11-18T22:04:29.456827Z",
     "shell.execute_reply": "2020-11-18T22:04:29.455997Z"
    },
    "papermill": {
     "duration": 0.099568,
     "end_time": "2020-11-18T22:04:29.456976",
     "exception": false,
     "start_time": "2020-11-18T22:04:29.357408",
     "status": "completed"
    },
    "tags": []
   },
   "outputs": [],
   "source": [
    "#data = pd.concat([data.select_dtypes([], ['object']),data.select_dtypes(['object']).apply(pd.Series.astype, dtype='category')], axis=1)\n",
    "#data.dtypes"
   ]
  },
  {
   "cell_type": "markdown",
   "metadata": {
    "papermill": {
     "duration": 0.059031,
     "end_time": "2020-11-18T22:04:29.576182",
     "exception": false,
     "start_time": "2020-11-18T22:04:29.517151",
     "status": "completed"
    },
    "tags": []
   },
   "source": [
    "A closer look at 'Thermal comfort' the target variable we are interested in for this study:"
   ]
  },
  {
   "cell_type": "code",
   "execution_count": 10,
   "metadata": {
    "execution": {
     "iopub.execute_input": "2020-11-18T22:04:29.700957Z",
     "iopub.status.busy": "2020-11-18T22:04:29.700160Z",
     "iopub.status.idle": "2020-11-18T22:04:29.710872Z",
     "shell.execute_reply": "2020-11-18T22:04:29.709862Z"
    },
    "papermill": {
     "duration": 0.075122,
     "end_time": "2020-11-18T22:04:29.711066",
     "exception": false,
     "start_time": "2020-11-18T22:04:29.635944",
     "status": "completed"
    },
    "tags": []
   },
   "outputs": [
    {
     "data": {
      "text/plain": [
       "5.0    6081\n",
       "6.0    3393\n",
       "2.0    2363\n",
       "4.0    1864\n",
       "3.0    1679\n",
       "1.0     288\n",
       "4.5     267\n",
       "5       149\n",
       "4        38\n",
       "1.5      25\n",
       "6        23\n",
       "3        13\n",
       "2         7\n",
       "3.5       7\n",
       "2.5       3\n",
       "1         2\n",
       "4.3       1\n",
       "1.3       1\n",
       "2.2       1\n",
       "2.8       1\n",
       "2.7       1\n",
       "2.3       1\n",
       "5.2       1\n",
       "Na        1\n",
       "Name: Thermal comfort, dtype: int64"
      ]
     },
     "execution_count": 10,
     "metadata": {},
     "output_type": "execute_result"
    }
   ],
   "source": [
    "data['Thermal comfort'].value_counts()"
   ]
  },
  {
   "cell_type": "raw",
   "metadata": {
    "papermill": {
     "duration": 0.059329,
     "end_time": "2020-11-18T22:04:29.833148",
     "exception": false,
     "start_time": "2020-11-18T22:04:29.773819",
     "status": "completed"
    },
    "tags": []
   },
   "source": [
    "Refining 'Thermal comfort' in dataset by removing abnormal results and rounding to closest integers (on 1 to 6 scale):"
   ]
  },
  {
   "cell_type": "code",
   "execution_count": 11,
   "metadata": {
    "execution": {
     "iopub.execute_input": "2020-11-18T22:04:29.961548Z",
     "iopub.status.busy": "2020-11-18T22:04:29.960760Z",
     "iopub.status.idle": "2020-11-18T22:04:29.973127Z",
     "shell.execute_reply": "2020-11-18T22:04:29.972365Z"
    },
    "papermill": {
     "duration": 0.079056,
     "end_time": "2020-11-18T22:04:29.973252",
     "exception": false,
     "start_time": "2020-11-18T22:04:29.894196",
     "status": "completed"
    },
    "tags": []
   },
   "outputs": [
    {
     "name": "stderr",
     "output_type": "stream",
     "text": [
      "<ipython-input-11-91e73e9cb135>:3: SettingWithCopyWarning: \n",
      "A value is trying to be set on a copy of a slice from a DataFrame.\n",
      "Try using .loc[row_indexer,col_indexer] = value instead\n",
      "\n",
      "See the caveats in the documentation: https://pandas.pydata.org/pandas-docs/stable/user_guide/indexing.html#returning-a-view-versus-a-copy\n",
      "  data['Thermal comfort'] = data['Thermal comfort'].astype('int64')\n"
     ]
    },
    {
     "data": {
      "text/plain": [
       "1     316\n",
       "2    2377\n",
       "3    1699\n",
       "4    2170\n",
       "5    6231\n",
       "6    3416\n",
       "Name: Thermal comfort, dtype: int64"
      ]
     },
     "execution_count": 11,
     "metadata": {},
     "output_type": "execute_result"
    }
   ],
   "source": [
    "data = data[data['Thermal comfort'] != 'Na']\n",
    "\n",
    "data['Thermal comfort'] = data['Thermal comfort'].astype('int64')\n",
    "data['Thermal comfort'].value_counts(sort=False)\n",
    "#data['Thermal comfort'].value_counts()"
   ]
  },
  {
   "cell_type": "code",
   "execution_count": 12,
   "metadata": {
    "execution": {
     "iopub.execute_input": "2020-11-18T22:04:30.103250Z",
     "iopub.status.busy": "2020-11-18T22:04:30.102462Z",
     "iopub.status.idle": "2020-11-18T22:04:30.349245Z",
     "shell.execute_reply": "2020-11-18T22:04:30.348408Z"
    },
    "papermill": {
     "duration": 0.313907,
     "end_time": "2020-11-18T22:04:30.349377",
     "exception": false,
     "start_time": "2020-11-18T22:04:30.035470",
     "status": "completed"
    },
    "tags": []
   },
   "outputs": [
    {
     "data": {
      "text/plain": [
       "<AxesSubplot:>"
      ]
     },
     "execution_count": 12,
     "metadata": {},
     "output_type": "execute_result"
    },
    {
     "data": {
      "image/png": "[encoded data removed]",
      "text/plain": [
       "<Figure size 576x576 with 1 Axes>"
      ]
     },
     "metadata": {
      "needs_background": "light"
     },
     "output_type": "display_data"
    }
   ],
   "source": [
    "data['Thermal comfort'].value_counts(sort=False).plot(kind='bar', figsize=(8,8))"
   ]
  },
  {
   "cell_type": "markdown",
   "metadata": {
    "papermill": {
     "duration": 0.061429,
     "end_time": "2020-11-18T22:04:30.472829",
     "exception": false,
     "start_time": "2020-11-18T22:04:30.411400",
     "status": "completed"
    },
    "tags": []
   },
   "source": [
    "**Observation: Most data points for thermal comfort are within comfortable and very comfotable range (i.e. 5 & 6).**"
   ]
  },
  {
   "cell_type": "code",
   "execution_count": 13,
   "metadata": {
    "execution": {
     "iopub.execute_input": "2020-11-18T22:04:30.608686Z",
     "iopub.status.busy": "2020-11-18T22:04:30.607866Z",
     "iopub.status.idle": "2020-11-18T22:04:30.647955Z",
     "shell.execute_reply": "2020-11-18T22:04:30.647289Z"
    },
    "papermill": {
     "duration": 0.113443,
     "end_time": "2020-11-18T22:04:30.648093",
     "exception": false,
     "start_time": "2020-11-18T22:04:30.534650",
     "status": "completed"
    },
    "tags": []
   },
   "outputs": [
    {
     "data": {
      "text/html": [
       "<div>\n",
       "<style scoped>\n",
       "    .dataframe tbody tr th:only-of-type {\n",
       "        vertical-align: middle;\n",
       "    }\n",
       "\n",
       "    .dataframe tbody tr th {\n",
       "        vertical-align: top;\n",
       "    }\n",
       "\n",
       "    .dataframe thead th {\n",
       "        text-align: right;\n",
       "    }\n",
       "</style>\n",
       "<table border=\"1\" class=\"dataframe\">\n",
       "  <thead>\n",
       "    <tr style=\"text-align: right;\">\n",
       "      <th></th>\n",
       "      <th>Clo</th>\n",
       "      <th>Met</th>\n",
       "      <th>Air temperature (C)</th>\n",
       "      <th>Relative humidity (%)</th>\n",
       "      <th>Air velocity (m/s)</th>\n",
       "      <th>Outdoor monthly air temperature (C)</th>\n",
       "      <th>Thermal comfort</th>\n",
       "    </tr>\n",
       "  </thead>\n",
       "  <tbody>\n",
       "    <tr>\n",
       "      <th>count</th>\n",
       "      <td>16209.000000</td>\n",
       "      <td>16209.000000</td>\n",
       "      <td>16209.000000</td>\n",
       "      <td>16209.000000</td>\n",
       "      <td>16209.000000</td>\n",
       "      <td>16209.000000</td>\n",
       "      <td>16209.000000</td>\n",
       "    </tr>\n",
       "    <tr>\n",
       "      <th>mean</th>\n",
       "      <td>0.681518</td>\n",
       "      <td>1.195620</td>\n",
       "      <td>25.388728</td>\n",
       "      <td>50.913968</td>\n",
       "      <td>0.261687</td>\n",
       "      <td>24.768153</td>\n",
       "      <td>4.349312</td>\n",
       "    </tr>\n",
       "    <tr>\n",
       "      <th>std</th>\n",
       "      <td>0.324204</td>\n",
       "      <td>0.197861</td>\n",
       "      <td>4.439810</td>\n",
       "      <td>15.763509</td>\n",
       "      <td>0.693904</td>\n",
       "      <td>8.259837</td>\n",
       "      <td>1.404411</td>\n",
       "    </tr>\n",
       "    <tr>\n",
       "      <th>min</th>\n",
       "      <td>0.000000</td>\n",
       "      <td>0.700000</td>\n",
       "      <td>0.600000</td>\n",
       "      <td>10.300000</td>\n",
       "      <td>0.000000</td>\n",
       "      <td>-2.000000</td>\n",
       "      <td>1.000000</td>\n",
       "    </tr>\n",
       "    <tr>\n",
       "      <th>25%</th>\n",
       "      <td>0.490000</td>\n",
       "      <td>1.100000</td>\n",
       "      <td>22.800000</td>\n",
       "      <td>39.400000</td>\n",
       "      <td>0.060000</td>\n",
       "      <td>21.300000</td>\n",
       "      <td>3.000000</td>\n",
       "    </tr>\n",
       "    <tr>\n",
       "      <th>50%</th>\n",
       "      <td>0.630000</td>\n",
       "      <td>1.200000</td>\n",
       "      <td>25.300000</td>\n",
       "      <td>50.100000</td>\n",
       "      <td>0.150000</td>\n",
       "      <td>26.000000</td>\n",
       "      <td>5.000000</td>\n",
       "    </tr>\n",
       "    <tr>\n",
       "      <th>75%</th>\n",
       "      <td>0.780000</td>\n",
       "      <td>1.200000</td>\n",
       "      <td>28.100000</td>\n",
       "      <td>63.300000</td>\n",
       "      <td>0.330000</td>\n",
       "      <td>30.800000</td>\n",
       "      <td>5.000000</td>\n",
       "    </tr>\n",
       "    <tr>\n",
       "      <th>max</th>\n",
       "      <td>2.870000</td>\n",
       "      <td>5.000000</td>\n",
       "      <td>45.200000</td>\n",
       "      <td>95.300000</td>\n",
       "      <td>56.170000</td>\n",
       "      <td>45.100000</td>\n",
       "      <td>6.000000</td>\n",
       "    </tr>\n",
       "  </tbody>\n",
       "</table>\n",
       "</div>"
      ],
      "text/plain": [
       "                Clo           Met  Air temperature (C)  Relative humidity (%)  \\\n",
       "count  16209.000000  16209.000000         16209.000000           16209.000000   \n",
       "mean       0.681518      1.195620            25.388728              50.913968   \n",
       "std        0.324204      0.197861             4.439810              15.763509   \n",
       "min        0.000000      0.700000             0.600000              10.300000   \n",
       "25%        0.490000      1.100000            22.800000              39.400000   \n",
       "50%        0.630000      1.200000            25.300000              50.100000   \n",
       "75%        0.780000      1.200000            28.100000              63.300000   \n",
       "max        2.870000      5.000000            45.200000              95.300000   \n",
       "\n",
       "       Air velocity (m/s)  Outdoor monthly air temperature (C)  \\\n",
       "count        16209.000000                         16209.000000   \n",
       "mean             0.261687                            24.768153   \n",
       "std              0.693904                             8.259837   \n",
       "min              0.000000                            -2.000000   \n",
       "25%              0.060000                            21.300000   \n",
       "50%              0.150000                            26.000000   \n",
       "75%              0.330000                            30.800000   \n",
       "max             56.170000                            45.100000   \n",
       "\n",
       "       Thermal comfort  \n",
       "count     16209.000000  \n",
       "mean          4.349312  \n",
       "std           1.404411  \n",
       "min           1.000000  \n",
       "25%           3.000000  \n",
       "50%           5.000000  \n",
       "75%           5.000000  \n",
       "max           6.000000  "
      ]
     },
     "execution_count": 13,
     "metadata": {},
     "output_type": "execute_result"
    }
   ],
   "source": [
    "data.describe()"
   ]
  },
  {
   "cell_type": "code",
   "execution_count": 14,
   "metadata": {
    "execution": {
     "iopub.execute_input": "2020-11-18T22:04:30.784485Z",
     "iopub.status.busy": "2020-11-18T22:04:30.783353Z",
     "iopub.status.idle": "2020-11-18T22:04:31.050570Z",
     "shell.execute_reply": "2020-11-18T22:04:31.049815Z"
    },
    "papermill": {
     "duration": 0.339919,
     "end_time": "2020-11-18T22:04:31.050728",
     "exception": false,
     "start_time": "2020-11-18T22:04:30.710809",
     "status": "completed"
    },
    "tags": []
   },
   "outputs": [
    {
     "data": {
      "text/plain": [
       "<AxesSubplot:>"
      ]
     },
     "execution_count": 14,
     "metadata": {},
     "output_type": "execute_result"
    },
    {
     "data": {
      "image/png": "[encoded data removed]",
      "text/plain": [
       "<Figure size 576x576 with 1 Axes>"
      ]
     },
     "metadata": {
      "needs_background": "light"
     },
     "output_type": "display_data"
    }
   ],
   "source": [
    "data['Season'].value_counts().plot(kind='bar', figsize=(8,8))"
   ]
  },
  {
   "cell_type": "markdown",
   "metadata": {
    "papermill": {
     "duration": 0.064385,
     "end_time": "2020-11-18T22:04:31.181063",
     "exception": false,
     "start_time": "2020-11-18T22:04:31.116678",
     "status": "completed"
    },
    "tags": []
   },
   "source": [
    "**Observation: Most data points are in summer, followed by winter then spring. Least data points available in autuum.**"
   ]
  },
  {
   "cell_type": "code",
   "execution_count": 15,
   "metadata": {
    "execution": {
     "iopub.execute_input": "2020-11-18T22:04:31.316533Z",
     "iopub.status.busy": "2020-11-18T22:04:31.315684Z",
     "iopub.status.idle": "2020-11-18T22:04:31.520056Z",
     "shell.execute_reply": "2020-11-18T22:04:31.519244Z"
    },
    "papermill": {
     "duration": 0.275079,
     "end_time": "2020-11-18T22:04:31.520187",
     "exception": false,
     "start_time": "2020-11-18T22:04:31.245108",
     "status": "completed"
    },
    "tags": []
   },
   "outputs": [
    {
     "data": {
      "text/plain": [
       "<AxesSubplot:>"
      ]
     },
     "execution_count": 15,
     "metadata": {},
     "output_type": "execute_result"
    },
    {
     "data": {
      "image/png": "[encoded data removed]",
      "text/plain": [
       "<Figure size 576x576 with 1 Axes>"
      ]
     },
     "metadata": {
      "needs_background": "light"
     },
     "output_type": "display_data"
    }
   ],
   "source": [
    "data['Koppen climate classification'].value_counts().plot(kind='bar', figsize=(8,8))"
   ]
  },
  {
   "cell_type": "markdown",
   "metadata": {
    "papermill": {
     "duration": 0.065132,
     "end_time": "2020-11-18T22:04:31.651011",
     "exception": false,
     "start_time": "2020-11-18T22:04:31.585879",
     "status": "completed"
    },
    "tags": []
   },
   "source": [
    "**Observation: The three most common climate type included in this dataset are 1) hot semi-arid, 2) humid subtropical, 3) tropical wet savanna.**"
   ]
  },
  {
   "cell_type": "code",
   "execution_count": 16,
   "metadata": {
    "execution": {
     "iopub.execute_input": "2020-11-18T22:04:31.798002Z",
     "iopub.status.busy": "2020-11-18T22:04:31.786891Z",
     "iopub.status.idle": "2020-11-18T22:04:31.960220Z",
     "shell.execute_reply": "2020-11-18T22:04:31.959550Z"
    },
    "papermill": {
     "duration": 0.244163,
     "end_time": "2020-11-18T22:04:31.960358",
     "exception": false,
     "start_time": "2020-11-18T22:04:31.716195",
     "status": "completed"
    },
    "tags": []
   },
   "outputs": [
    {
     "data": {
      "text/plain": [
       "<AxesSubplot:>"
      ]
     },
     "execution_count": 16,
     "metadata": {},
     "output_type": "execute_result"
    },
    {
     "data": {
      "image/png": "[encoded data removed]",
      "text/plain": [
       "<Figure size 576x576 with 1 Axes>"
      ]
     },
     "metadata": {
      "needs_background": "light"
     },
     "output_type": "display_data"
    }
   ],
   "source": [
    "data['Building type'].value_counts().plot(kind='bar', figsize=(8,8))"
   ]
  },
  {
   "cell_type": "markdown",
   "metadata": {
    "papermill": {
     "duration": 0.066612,
     "end_time": "2020-11-18T22:04:32.094807",
     "exception": false,
     "start_time": "2020-11-18T22:04:32.028195",
     "status": "completed"
    },
    "tags": []
   },
   "source": [
    "**Observation: Most common data points are for office building type.**"
   ]
  },
  {
   "cell_type": "code",
   "execution_count": 17,
   "metadata": {
    "execution": {
     "iopub.execute_input": "2020-11-18T22:04:32.246927Z",
     "iopub.status.busy": "2020-11-18T22:04:32.235797Z",
     "iopub.status.idle": "2020-11-18T22:04:32.406193Z",
     "shell.execute_reply": "2020-11-18T22:04:32.405375Z"
    },
    "papermill": {
     "duration": 0.243494,
     "end_time": "2020-11-18T22:04:32.406328",
     "exception": false,
     "start_time": "2020-11-18T22:04:32.162834",
     "status": "completed"
    },
    "tags": []
   },
   "outputs": [
    {
     "data": {
      "text/plain": [
       "<AxesSubplot:>"
      ]
     },
     "execution_count": 17,
     "metadata": {},
     "output_type": "execute_result"
    },
    {
     "data": {
      "image/png": "[encoded data removed]",
      "text/plain": [
       "<Figure size 576x576 with 1 Axes>"
      ]
     },
     "metadata": {
      "needs_background": "light"
     },
     "output_type": "display_data"
    }
   ],
   "source": [
    "data['Cooling startegy_building level'].value_counts().plot(kind='bar', figsize=(8,8))"
   ]
  },
  {
   "cell_type": "markdown",
   "metadata": {
    "papermill": {
     "duration": 0.068059,
     "end_time": "2020-11-18T22:04:32.543407",
     "exception": false,
     "start_time": "2020-11-18T22:04:32.475348",
     "status": "completed"
    },
    "tags": []
   },
   "source": [
    "**Observation: Building cooling strategy is relatively evenly distributed across the 3 types.**"
   ]
  },
  {
   "cell_type": "markdown",
   "metadata": {
    "papermill": {
     "duration": 0.068127,
     "end_time": "2020-11-18T22:04:32.680060",
     "exception": false,
     "start_time": "2020-11-18T22:04:32.611933",
     "status": "completed"
    },
    "tags": []
   },
   "source": [
    "# 1) Thermal comfort VS Air temperature (C):"
   ]
  },
  {
   "cell_type": "code",
   "execution_count": 18,
   "metadata": {
    "execution": {
     "iopub.execute_input": "2020-11-18T22:04:32.831614Z",
     "iopub.status.busy": "2020-11-18T22:04:32.830697Z",
     "iopub.status.idle": "2020-11-18T22:04:33.391806Z",
     "shell.execute_reply": "2020-11-18T22:04:33.391091Z"
    },
    "papermill": {
     "duration": 0.642893,
     "end_time": "2020-11-18T22:04:33.391933",
     "exception": false,
     "start_time": "2020-11-18T22:04:32.749040",
     "status": "completed"
    },
    "tags": []
   },
   "outputs": [
    {
     "data": {
      "text/plain": [
       "<AxesSubplot:xlabel='Thermal comfort', ylabel='Air temperature (C)'>"
      ]
     },
     "execution_count": 18,
     "metadata": {},
     "output_type": "execute_result"
    },
    {
     "data": {
      "image/png": "[encoded data removed]",
      "text/plain": [
       "<Figure size 1440x720 with 1 Axes>"
      ]
     },
     "metadata": {
      "needs_background": "light"
     },
     "output_type": "display_data"
    }
   ],
   "source": [
    "fig, ax = plt.subplots()\n",
    "fig.set_size_inches(20,10)\n",
    "sns.boxplot(x = 'Thermal comfort', y = 'Air temperature (C)', hue = 'Cooling startegy_building level', data = data)"
   ]
  },
  {
   "cell_type": "markdown",
   "metadata": {
    "papermill": {
     "duration": 0.11905,
     "end_time": "2020-11-18T22:04:33.581221",
     "exception": false,
     "start_time": "2020-11-18T22:04:33.462171",
     "status": "completed"
    },
    "tags": []
   },
   "source": [
    "**Observations: In general, the lower the air temperature, the higher the thermal comfort.**"
   ]
  },
  {
   "cell_type": "markdown",
   "metadata": {
    "papermill": {
     "duration": 0.069502,
     "end_time": "2020-11-18T22:04:33.720813",
     "exception": false,
     "start_time": "2020-11-18T22:04:33.651311",
     "status": "completed"
    },
    "tags": []
   },
   "source": [
    "# 2) Thermal comfort VS Relative humidity (%)"
   ]
  },
  {
   "cell_type": "code",
   "execution_count": 19,
   "metadata": {
    "execution": {
     "iopub.execute_input": "2020-11-18T22:04:33.877193Z",
     "iopub.status.busy": "2020-11-18T22:04:33.874064Z",
     "iopub.status.idle": "2020-11-18T22:04:34.482901Z",
     "shell.execute_reply": "2020-11-18T22:04:34.482224Z"
    },
    "papermill": {
     "duration": 0.691927,
     "end_time": "2020-11-18T22:04:34.483043",
     "exception": false,
     "start_time": "2020-11-18T22:04:33.791116",
     "status": "completed"
    },
    "tags": []
   },
   "outputs": [
    {
     "data": {
      "text/plain": [
       "<AxesSubplot:xlabel='Thermal comfort', ylabel='Relative humidity (%)'>"
      ]
     },
     "execution_count": 19,
     "metadata": {},
     "output_type": "execute_result"
    },
    {
     "data": {
      "image/png": "[encoded data removed]",
      "text/plain": [
       "<Figure size 1440x720 with 1 Axes>"
      ]
     },
     "metadata": {
      "needs_background": "light"
     },
     "output_type": "display_data"
    }
   ],
   "source": [
    "fig, ax = plt.subplots()\n",
    "fig.set_size_inches(20,10)\n",
    "sns.boxplot(x = 'Thermal comfort', y = 'Relative humidity (%)', hue = 'Cooling startegy_building level', data = data)"
   ]
  },
  {
   "cell_type": "markdown",
   "metadata": {
    "papermill": {
     "duration": 0.074146,
     "end_time": "2020-11-18T22:04:34.639254",
     "exception": false,
     "start_time": "2020-11-18T22:04:34.565108",
     "status": "completed"
    },
    "tags": []
   },
   "source": [
    "**Observations: Difficult to determine if relative humidity on its own has significant impact on thermal comfort.**\n"
   ]
  },
  {
   "cell_type": "markdown",
   "metadata": {
    "papermill": {
     "duration": 0.072006,
     "end_time": "2020-11-18T22:04:34.783064",
     "exception": false,
     "start_time": "2020-11-18T22:04:34.711058",
     "status": "completed"
    },
    "tags": []
   },
   "source": [
    "# 3) Thermal comfort VS Air velocity (m/s)\n",
    "\n",
    "Air velocities greater than 1.0 m/s were removed as outliers in order to obtain a more accurate/representative dataset:\n"
   ]
  },
  {
   "cell_type": "code",
   "execution_count": 20,
   "metadata": {
    "execution": {
     "iopub.execute_input": "2020-11-18T22:04:34.936390Z",
     "iopub.status.busy": "2020-11-18T22:04:34.935643Z",
     "iopub.status.idle": "2020-11-18T22:04:35.576513Z",
     "shell.execute_reply": "2020-11-18T22:04:35.575838Z"
    },
    "papermill": {
     "duration": 0.721415,
     "end_time": "2020-11-18T22:04:35.576673",
     "exception": false,
     "start_time": "2020-11-18T22:04:34.855258",
     "status": "completed"
    },
    "tags": []
   },
   "outputs": [
    {
     "data": {
      "text/plain": [
       "<AxesSubplot:xlabel='Thermal comfort', ylabel='Air velocity (m/s)'>"
      ]
     },
     "execution_count": 20,
     "metadata": {},
     "output_type": "execute_result"
    },
    {
     "data": {
      "image/png": "[encoded data removed]",
      "text/plain": [
       "<Figure size 1440x720 with 1 Axes>"
      ]
     },
     "metadata": {
      "needs_background": "light"
     },
     "output_type": "display_data"
    }
   ],
   "source": [
    "data = data[data['Air velocity (m/s)'] < 1.0]\n",
    "\n",
    "fig, ax = plt.subplots()\n",
    "fig.set_size_inches(20,10)\n",
    "sns.boxplot(x = 'Thermal comfort', y = 'Air velocity (m/s)', hue = 'Cooling startegy_building level', data = data)"
   ]
  },
  {
   "cell_type": "markdown",
   "metadata": {
    "papermill": {
     "duration": 0.074868,
     "end_time": "2020-11-18T22:04:35.726541",
     "exception": false,
     "start_time": "2020-11-18T22:04:35.651673",
     "status": "completed"
    },
    "tags": []
   },
   "source": [
    "**Observations: The lower the air velocity, the better the thermal comfort.**\n"
   ]
  },
  {
   "cell_type": "markdown",
   "metadata": {
    "papermill": {
     "duration": 0.074271,
     "end_time": "2020-11-18T22:04:35.879801",
     "exception": false,
     "start_time": "2020-11-18T22:04:35.805530",
     "status": "completed"
    },
    "tags": []
   },
   "source": [
    "# 4) Thermal comfort VS Clothing insulation\n",
    "\n",
    "Rounding of clothing insulation to 1 significant figure:"
   ]
  },
  {
   "cell_type": "code",
   "execution_count": 21,
   "metadata": {
    "execution": {
     "iopub.execute_input": "2020-11-18T22:04:36.036077Z",
     "iopub.status.busy": "2020-11-18T22:04:36.035332Z",
     "iopub.status.idle": "2020-11-18T22:04:36.045827Z",
     "shell.execute_reply": "2020-11-18T22:04:36.045127Z"
    },
    "papermill": {
     "duration": 0.090267,
     "end_time": "2020-11-18T22:04:36.045963",
     "exception": false,
     "start_time": "2020-11-18T22:04:35.955696",
     "status": "completed"
    },
    "tags": []
   },
   "outputs": [
    {
     "data": {
      "text/plain": [
       "0.6    3322\n",
       "0.7    2780\n",
       "0.5    2211\n",
       "0.4    1599\n",
       "0.8    1416\n",
       "0.3     945\n",
       "0.9     685\n",
       "1.0     662\n",
       "1.1     338\n",
       "0.2     338\n",
       "1.2     293\n",
       "1.4     193\n",
       "1.3     176\n",
       "1.5     139\n",
       "1.6     129\n",
       "1.8     125\n",
       "1.7      98\n",
       "0.1      81\n",
       "1.9      52\n",
       "2.0      37\n",
       "2.1      21\n",
       "2.2      12\n",
       "2.3      11\n",
       "0.0       9\n",
       "2.6       5\n",
       "2.4       5\n",
       "2.5       4\n",
       "2.7       3\n",
       "2.8       2\n",
       "2.9       1\n",
       "Name: Clo, dtype: int64"
      ]
     },
     "execution_count": 21,
     "metadata": {},
     "output_type": "execute_result"
    }
   ],
   "source": [
    "data['Clo'] = data['Clo'].round(1)\n",
    "data['Clo'].value_counts()"
   ]
  },
  {
   "cell_type": "code",
   "execution_count": 22,
   "metadata": {
    "execution": {
     "iopub.execute_input": "2020-11-18T22:04:36.212994Z",
     "iopub.status.busy": "2020-11-18T22:04:36.211753Z",
     "iopub.status.idle": "2020-11-18T22:04:36.882163Z",
     "shell.execute_reply": "2020-11-18T22:04:36.881544Z"
    },
    "papermill": {
     "duration": 0.760813,
     "end_time": "2020-11-18T22:04:36.882294",
     "exception": false,
     "start_time": "2020-11-18T22:04:36.121481",
     "status": "completed"
    },
    "tags": []
   },
   "outputs": [
    {
     "data": {
      "text/plain": [
       "<AxesSubplot:xlabel='Thermal comfort', ylabel='Clo'>"
      ]
     },
     "execution_count": 22,
     "metadata": {},
     "output_type": "execute_result"
    },
    {
     "data": {
      "image/png": "[encoded data removed]",
      "text/plain": [
       "<Figure size 1440x720 with 1 Axes>"
      ]
     },
     "metadata": {
      "needs_background": "light"
     },
     "output_type": "display_data"
    }
   ],
   "source": [
    "fig, ax = plt.subplots()\n",
    "fig.set_size_inches(20,10)\n",
    "sns.boxplot(x = 'Thermal comfort', y = 'Clo', hue = 'Cooling startegy_building level', data = data)"
   ]
  },
  {
   "cell_type": "markdown",
   "metadata": {
    "papermill": {
     "duration": 0.076769,
     "end_time": "2020-11-18T22:04:37.037953",
     "exception": false,
     "start_time": "2020-11-18T22:04:36.961184",
     "status": "completed"
    },
    "tags": []
   },
   "source": [
    "Checking distribution of clothing insulation in dataset:"
   ]
  },
  {
   "cell_type": "code",
   "execution_count": 23,
   "metadata": {
    "execution": {
     "iopub.execute_input": "2020-11-18T22:04:37.216067Z",
     "iopub.status.busy": "2020-11-18T22:04:37.211713Z",
     "iopub.status.idle": "2020-11-18T22:04:37.534520Z",
     "shell.execute_reply": "2020-11-18T22:04:37.533902Z"
    },
    "papermill": {
     "duration": 0.419208,
     "end_time": "2020-11-18T22:04:37.534672",
     "exception": false,
     "start_time": "2020-11-18T22:04:37.115464",
     "status": "completed"
    },
    "tags": []
   },
   "outputs": [
    {
     "name": "stderr",
     "output_type": "stream",
     "text": [
      "C:\\Users\\polep\\anaconda3\\lib\\site-packages\\seaborn\\distributions.py:2557: FutureWarning: `distplot` is a deprecated function and will be removed in a future version. Please adapt your code to use either `displot` (a figure-level function with similar flexibility) or `histplot` (an axes-level function for histograms).\n",
      "  warnings.warn(msg, FutureWarning)\n"
     ]
    },
    {
     "data": {
      "text/plain": [
       "<AxesSubplot:xlabel='Clo', ylabel='Density'>"
      ]
     },
     "execution_count": 23,
     "metadata": {},
     "output_type": "execute_result"
    },
    {
     "data": {
      "image/png": "[encoded data removed]",
      "text/plain": [
       "<Figure size 720x720 with 1 Axes>"
      ]
     },
     "metadata": {
      "needs_background": "light"
     },
     "output_type": "display_data"
    }
   ],
   "source": [
    "fig, ax = plt.subplots()\n",
    "fig.set_size_inches(10,10)\n",
    "sns.distplot(data['Clo'])"
   ]
  },
  {
   "cell_type": "markdown",
   "metadata": {
    "papermill": {
     "duration": 0.077936,
     "end_time": "2020-11-18T22:04:37.691317",
     "exception": false,
     "start_time": "2020-11-18T22:04:37.613381",
     "status": "completed"
    },
    "tags": []
   },
   "source": [
    "# 5) Thermal comfort VS Metabolic rate\n",
    "\n",
    "Metabolic rates greater than 3.0 were removed as outliers in order to obtain a more accurate/representative dataset:"
   ]
  },
  {
   "cell_type": "code",
   "execution_count": 24,
   "metadata": {
    "execution": {
     "iopub.execute_input": "2020-11-18T22:04:37.858095Z",
     "iopub.status.busy": "2020-11-18T22:04:37.857205Z",
     "iopub.status.idle": "2020-11-18T22:04:38.427737Z",
     "shell.execute_reply": "2020-11-18T22:04:38.426888Z"
    },
    "papermill": {
     "duration": 0.656454,
     "end_time": "2020-11-18T22:04:38.427876",
     "exception": false,
     "start_time": "2020-11-18T22:04:37.771422",
     "status": "completed"
    },
    "tags": []
   },
   "outputs": [
    {
     "data": {
      "text/plain": [
       "<AxesSubplot:xlabel='Thermal comfort', ylabel='Met'>"
      ]
     },
     "execution_count": 24,
     "metadata": {},
     "output_type": "execute_result"
    },
    {
     "data": {
      "image/png": "[encoded data removed]",
      "text/plain": [
       "<Figure size 1440x720 with 1 Axes>"
      ]
     },
     "metadata": {
      "needs_background": "light"
     },
     "output_type": "display_data"
    }
   ],
   "source": [
    "data = data[data['Met'] < 3.0]\n",
    "\n",
    "fig, ax = plt.subplots()\n",
    "fig.set_size_inches(20,10)\n",
    "sns.boxplot(x = 'Thermal comfort', y = 'Met', hue = 'Cooling startegy_building level', data = data)"
   ]
  },
  {
   "cell_type": "markdown",
   "metadata": {
    "papermill": {
     "duration": 0.080018,
     "end_time": "2020-11-18T22:04:38.588325",
     "exception": false,
     "start_time": "2020-11-18T22:04:38.508307",
     "status": "completed"
    },
    "tags": []
   },
   "source": [
    "Checking distribution of metabolic rate in dataset:"
   ]
  },
  {
   "cell_type": "code",
   "execution_count": 25,
   "metadata": {
    "execution": {
     "iopub.execute_input": "2020-11-18T22:04:38.766875Z",
     "iopub.status.busy": "2020-11-18T22:04:38.763779Z",
     "iopub.status.idle": "2020-11-18T22:04:39.128325Z",
     "shell.execute_reply": "2020-11-18T22:04:39.127504Z"
    },
    "papermill": {
     "duration": 0.458673,
     "end_time": "2020-11-18T22:04:39.128459",
     "exception": false,
     "start_time": "2020-11-18T22:04:38.669786",
     "status": "completed"
    },
    "tags": []
   },
   "outputs": [
    {
     "name": "stderr",
     "output_type": "stream",
     "text": [
      "C:\\Users\\polep\\anaconda3\\lib\\site-packages\\seaborn\\distributions.py:2557: FutureWarning: `distplot` is a deprecated function and will be removed in a future version. Please adapt your code to use either `displot` (a figure-level function with similar flexibility) or `histplot` (an axes-level function for histograms).\n",
      "  warnings.warn(msg, FutureWarning)\n"
     ]
    },
    {
     "data": {
      "text/plain": [
       "<AxesSubplot:xlabel='Met', ylabel='Density'>"
      ]
     },
     "execution_count": 25,
     "metadata": {},
     "output_type": "execute_result"
    },
    {
     "data": {
      "image/png": "[encoded data removed]",
      "text/plain": [
       "<Figure size 720x720 with 1 Axes>"
      ]
     },
     "metadata": {
      "needs_background": "light"
     },
     "output_type": "display_data"
    }
   ],
   "source": [
    "fig, ax = plt.subplots()\n",
    "fig.set_size_inches(10,10)\n",
    "sns.distplot(data['Met'])"
   ]
  },
  {
   "cell_type": "markdown",
   "metadata": {
    "papermill": {
     "duration": 0.083215,
     "end_time": "2020-11-18T22:04:39.295772",
     "exception": false,
     "start_time": "2020-11-18T22:04:39.212557",
     "status": "completed"
    },
    "tags": []
   },
   "source": [
    "Final dataset to be used for creating a prediction model for thermal comfort:"
   ]
  },
  {
   "cell_type": "code",
   "execution_count": 26,
   "metadata": {
    "execution": {
     "iopub.execute_input": "2020-11-18T22:04:39.482961Z",
     "iopub.status.busy": "2020-11-18T22:04:39.472621Z",
     "iopub.status.idle": "2020-11-18T22:04:39.504712Z",
     "shell.execute_reply": "2020-11-18T22:04:39.505371Z"
    },
    "papermill": {
     "duration": 0.127011,
     "end_time": "2020-11-18T22:04:39.505540",
     "exception": false,
     "start_time": "2020-11-18T22:04:39.378529",
     "status": "completed"
    },
    "tags": []
   },
   "outputs": [
    {
     "data": {
      "text/html": [
       "<div>\n",
       "<style scoped>\n",
       "    .dataframe tbody tr th:only-of-type {\n",
       "        vertical-align: middle;\n",
       "    }\n",
       "\n",
       "    .dataframe tbody tr th {\n",
       "        vertical-align: top;\n",
       "    }\n",
       "\n",
       "    .dataframe thead th {\n",
       "        text-align: right;\n",
       "    }\n",
       "</style>\n",
       "<table border=\"1\" class=\"dataframe\">\n",
       "  <thead>\n",
       "    <tr style=\"text-align: right;\">\n",
       "      <th></th>\n",
       "      <th>Season</th>\n",
       "      <th>Koppen climate classification</th>\n",
       "      <th>Building type</th>\n",
       "      <th>Cooling startegy_building level</th>\n",
       "      <th>Clo</th>\n",
       "      <th>Met</th>\n",
       "      <th>Air temperature (C)</th>\n",
       "      <th>Relative humidity (%)</th>\n",
       "      <th>Air velocity (m/s)</th>\n",
       "      <th>Outdoor monthly air temperature (C)</th>\n",
       "      <th>Thermal comfort</th>\n",
       "    </tr>\n",
       "  </thead>\n",
       "  <tbody>\n",
       "    <tr>\n",
       "      <th>74</th>\n",
       "      <td>Summer</td>\n",
       "      <td>Cfa</td>\n",
       "      <td>Office</td>\n",
       "      <td>Air Conditioned</td>\n",
       "      <td>0.6</td>\n",
       "      <td>1.0</td>\n",
       "      <td>24.3</td>\n",
       "      <td>36.8</td>\n",
       "      <td>0.27</td>\n",
       "      <td>32.8</td>\n",
       "      <td>4</td>\n",
       "    </tr>\n",
       "    <tr>\n",
       "      <th>75</th>\n",
       "      <td>Summer</td>\n",
       "      <td>Cfa</td>\n",
       "      <td>Office</td>\n",
       "      <td>Air Conditioned</td>\n",
       "      <td>0.6</td>\n",
       "      <td>1.1</td>\n",
       "      <td>25.7</td>\n",
       "      <td>33.1</td>\n",
       "      <td>0.09</td>\n",
       "      <td>32.8</td>\n",
       "      <td>5</td>\n",
       "    </tr>\n",
       "    <tr>\n",
       "      <th>76</th>\n",
       "      <td>Summer</td>\n",
       "      <td>Cfa</td>\n",
       "      <td>Office</td>\n",
       "      <td>Air Conditioned</td>\n",
       "      <td>0.6</td>\n",
       "      <td>1.1</td>\n",
       "      <td>24.6</td>\n",
       "      <td>34.9</td>\n",
       "      <td>0.06</td>\n",
       "      <td>32.8</td>\n",
       "      <td>2</td>\n",
       "    </tr>\n",
       "    <tr>\n",
       "      <th>77</th>\n",
       "      <td>Summer</td>\n",
       "      <td>Cfa</td>\n",
       "      <td>Office</td>\n",
       "      <td>Air Conditioned</td>\n",
       "      <td>0.6</td>\n",
       "      <td>1.0</td>\n",
       "      <td>26.4</td>\n",
       "      <td>31.7</td>\n",
       "      <td>0.13</td>\n",
       "      <td>32.8</td>\n",
       "      <td>2</td>\n",
       "    </tr>\n",
       "    <tr>\n",
       "      <th>78</th>\n",
       "      <td>Summer</td>\n",
       "      <td>Cfa</td>\n",
       "      <td>Office</td>\n",
       "      <td>Air Conditioned</td>\n",
       "      <td>0.6</td>\n",
       "      <td>1.0</td>\n",
       "      <td>25.0</td>\n",
       "      <td>33.3</td>\n",
       "      <td>0.07</td>\n",
       "      <td>32.8</td>\n",
       "      <td>2</td>\n",
       "    </tr>\n",
       "    <tr>\n",
       "      <th>...</th>\n",
       "      <td>...</td>\n",
       "      <td>...</td>\n",
       "      <td>...</td>\n",
       "      <td>...</td>\n",
       "      <td>...</td>\n",
       "      <td>...</td>\n",
       "      <td>...</td>\n",
       "      <td>...</td>\n",
       "      <td>...</td>\n",
       "      <td>...</td>\n",
       "      <td>...</td>\n",
       "    </tr>\n",
       "    <tr>\n",
       "      <th>81746</th>\n",
       "      <td>Winter</td>\n",
       "      <td>Cfa</td>\n",
       "      <td>Senior center</td>\n",
       "      <td>Mixed Mode</td>\n",
       "      <td>0.9</td>\n",
       "      <td>1.0</td>\n",
       "      <td>22.4</td>\n",
       "      <td>52.5</td>\n",
       "      <td>0.06</td>\n",
       "      <td>13.7</td>\n",
       "      <td>5</td>\n",
       "    </tr>\n",
       "    <tr>\n",
       "      <th>81747</th>\n",
       "      <td>Winter</td>\n",
       "      <td>Cfa</td>\n",
       "      <td>Senior center</td>\n",
       "      <td>Mixed Mode</td>\n",
       "      <td>0.7</td>\n",
       "      <td>1.0</td>\n",
       "      <td>22.1</td>\n",
       "      <td>54.1</td>\n",
       "      <td>0.08</td>\n",
       "      <td>13.7</td>\n",
       "      <td>5</td>\n",
       "    </tr>\n",
       "    <tr>\n",
       "      <th>81748</th>\n",
       "      <td>Winter</td>\n",
       "      <td>Cfa</td>\n",
       "      <td>Senior center</td>\n",
       "      <td>Mixed Mode</td>\n",
       "      <td>0.7</td>\n",
       "      <td>1.0</td>\n",
       "      <td>22.0</td>\n",
       "      <td>54.0</td>\n",
       "      <td>0.08</td>\n",
       "      <td>13.7</td>\n",
       "      <td>5</td>\n",
       "    </tr>\n",
       "    <tr>\n",
       "      <th>81749</th>\n",
       "      <td>Winter</td>\n",
       "      <td>Cfa</td>\n",
       "      <td>Senior center</td>\n",
       "      <td>Mixed Mode</td>\n",
       "      <td>0.8</td>\n",
       "      <td>1.0</td>\n",
       "      <td>20.7</td>\n",
       "      <td>58.0</td>\n",
       "      <td>0.11</td>\n",
       "      <td>13.7</td>\n",
       "      <td>5</td>\n",
       "    </tr>\n",
       "    <tr>\n",
       "      <th>81750</th>\n",
       "      <td>Winter</td>\n",
       "      <td>Cfa</td>\n",
       "      <td>Senior center</td>\n",
       "      <td>Mixed Mode</td>\n",
       "      <td>0.9</td>\n",
       "      <td>1.2</td>\n",
       "      <td>20.8</td>\n",
       "      <td>57.4</td>\n",
       "      <td>0.09</td>\n",
       "      <td>13.7</td>\n",
       "      <td>5</td>\n",
       "    </tr>\n",
       "  </tbody>\n",
       "</table>\n",
       "<p>15686 rows × 11 columns</p>\n",
       "</div>"
      ],
      "text/plain": [
       "       Season Koppen climate classification  Building type  \\\n",
       "74     Summer                           Cfa         Office   \n",
       "75     Summer                           Cfa         Office   \n",
       "76     Summer                           Cfa         Office   \n",
       "77     Summer                           Cfa         Office   \n",
       "78     Summer                           Cfa         Office   \n",
       "...       ...                           ...            ...   \n",
       "81746  Winter                           Cfa  Senior center   \n",
       "81747  Winter                           Cfa  Senior center   \n",
       "81748  Winter                           Cfa  Senior center   \n",
       "81749  Winter                           Cfa  Senior center   \n",
       "81750  Winter                           Cfa  Senior center   \n",
       "\n",
       "      Cooling startegy_building level  Clo  Met  Air temperature (C)  \\\n",
       "74                    Air Conditioned  0.6  1.0                 24.3   \n",
       "75                    Air Conditioned  0.6  1.1                 25.7   \n",
       "76                    Air Conditioned  0.6  1.1                 24.6   \n",
       "77                    Air Conditioned  0.6  1.0                 26.4   \n",
       "78                    Air Conditioned  0.6  1.0                 25.0   \n",
       "...                               ...  ...  ...                  ...   \n",
       "81746                      Mixed Mode  0.9  1.0                 22.4   \n",
       "81747                      Mixed Mode  0.7  1.0                 22.1   \n",
       "81748                      Mixed Mode  0.7  1.0                 22.0   \n",
       "81749                      Mixed Mode  0.8  1.0                 20.7   \n",
       "81750                      Mixed Mode  0.9  1.2                 20.8   \n",
       "\n",
       "       Relative humidity (%)  Air velocity (m/s)  \\\n",
       "74                      36.8                0.27   \n",
       "75                      33.1                0.09   \n",
       "76                      34.9                0.06   \n",
       "77                      31.7                0.13   \n",
       "78                      33.3                0.07   \n",
       "...                      ...                 ...   \n",
       "81746                   52.5                0.06   \n",
       "81747                   54.1                0.08   \n",
       "81748                   54.0                0.08   \n",
       "81749                   58.0                0.11   \n",
       "81750                   57.4                0.09   \n",
       "\n",
       "       Outdoor monthly air temperature (C)  Thermal comfort  \n",
       "74                                    32.8                4  \n",
       "75                                    32.8                5  \n",
       "76                                    32.8                2  \n",
       "77                                    32.8                2  \n",
       "78                                    32.8                2  \n",
       "...                                    ...              ...  \n",
       "81746                                 13.7                5  \n",
       "81747                                 13.7                5  \n",
       "81748                                 13.7                5  \n",
       "81749                                 13.7                5  \n",
       "81750                                 13.7                5  \n",
       "\n",
       "[15686 rows x 11 columns]"
      ]
     },
     "execution_count": 26,
     "metadata": {},
     "output_type": "execute_result"
    }
   ],
   "source": [
    "data"
   ]
  },
  {
   "cell_type": "markdown",
   "metadata": {
    "papermill": {
     "duration": 0.084548,
     "end_time": "2020-11-18T22:04:39.685130",
     "exception": false,
     "start_time": "2020-11-18T22:04:39.600582",
     "status": "completed"
    },
    "tags": []
   },
   "source": [
    "# PART 2 - CREATING A PREDICTION MODEL FOR THERMAL COMFORT"
   ]
  },
  {
   "cell_type": "markdown",
   "metadata": {
    "papermill": {
     "duration": 0.082491,
     "end_time": "2020-11-18T22:04:39.850865",
     "exception": false,
     "start_time": "2020-11-18T22:04:39.768374",
     "status": "completed"
    },
    "tags": []
   },
   "source": [
    "Thermal comfort has been selected as the prediction target. Dataset will be divided into target variable (i.e. Thermal comfort) and feature variables. 3 different prediction models for thermal comfort will be explored using random forest classification algorithm.\n",
    "\n",
    "# Prediction Model 1 (using 5 features)\n",
    "\n",
    "The following 5 common features in ASHRAE thermal comfort model will be used for the first prediction model:\n",
    "\n",
    "1) Air temperature (C)\n",
    "\n",
    "2) Air velocity (m/s)\n",
    "\n",
    "3) Relative humidity (%)\n",
    "\n",
    "4) Clo\n",
    "\n",
    "5) Met\n"
   ]
  },
  {
   "cell_type": "code",
   "execution_count": 27,
   "metadata": {
    "execution": {
     "iopub.execute_input": "2020-11-18T22:04:40.031127Z",
     "iopub.status.busy": "2020-11-18T22:04:40.029890Z",
     "iopub.status.idle": "2020-11-18T22:04:40.061717Z",
     "shell.execute_reply": "2020-11-18T22:04:40.060810Z"
    },
    "papermill": {
     "duration": 0.126101,
     "end_time": "2020-11-18T22:04:40.061864",
     "exception": false,
     "start_time": "2020-11-18T22:04:39.935763",
     "status": "completed"
    },
    "tags": []
   },
   "outputs": [
    {
     "data": {
      "text/html": [
       "<div>\n",
       "<style scoped>\n",
       "    .dataframe tbody tr th:only-of-type {\n",
       "        vertical-align: middle;\n",
       "    }\n",
       "\n",
       "    .dataframe tbody tr th {\n",
       "        vertical-align: top;\n",
       "    }\n",
       "\n",
       "    .dataframe thead th {\n",
       "        text-align: right;\n",
       "    }\n",
       "</style>\n",
       "<table border=\"1\" class=\"dataframe\">\n",
       "  <thead>\n",
       "    <tr style=\"text-align: right;\">\n",
       "      <th></th>\n",
       "      <th>Air temperature (C)</th>\n",
       "      <th>Air velocity (m/s)</th>\n",
       "      <th>Relative humidity (%)</th>\n",
       "      <th>Clo</th>\n",
       "      <th>Met</th>\n",
       "    </tr>\n",
       "  </thead>\n",
       "  <tbody>\n",
       "    <tr>\n",
       "      <th>count</th>\n",
       "      <td>15686.000000</td>\n",
       "      <td>15686.000000</td>\n",
       "      <td>15686.000000</td>\n",
       "      <td>15686.000000</td>\n",
       "      <td>15686.000000</td>\n",
       "    </tr>\n",
       "    <tr>\n",
       "      <th>mean</th>\n",
       "      <td>25.235675</td>\n",
       "      <td>0.215434</td>\n",
       "      <td>50.934011</td>\n",
       "      <td>0.688576</td>\n",
       "      <td>1.194855</td>\n",
       "    </tr>\n",
       "    <tr>\n",
       "      <th>std</th>\n",
       "      <td>4.381324</td>\n",
       "      <td>0.200779</td>\n",
       "      <td>15.572142</td>\n",
       "      <td>0.325945</td>\n",
       "      <td>0.187410</td>\n",
       "    </tr>\n",
       "    <tr>\n",
       "      <th>min</th>\n",
       "      <td>0.600000</td>\n",
       "      <td>0.000000</td>\n",
       "      <td>10.400000</td>\n",
       "      <td>0.000000</td>\n",
       "      <td>0.700000</td>\n",
       "    </tr>\n",
       "    <tr>\n",
       "      <th>25%</th>\n",
       "      <td>22.700000</td>\n",
       "      <td>0.060000</td>\n",
       "      <td>39.600000</td>\n",
       "      <td>0.500000</td>\n",
       "      <td>1.100000</td>\n",
       "    </tr>\n",
       "    <tr>\n",
       "      <th>50%</th>\n",
       "      <td>25.200000</td>\n",
       "      <td>0.150000</td>\n",
       "      <td>50.100000</td>\n",
       "      <td>0.600000</td>\n",
       "      <td>1.200000</td>\n",
       "    </tr>\n",
       "    <tr>\n",
       "      <th>75%</th>\n",
       "      <td>27.800000</td>\n",
       "      <td>0.310000</td>\n",
       "      <td>63.000000</td>\n",
       "      <td>0.800000</td>\n",
       "      <td>1.200000</td>\n",
       "    </tr>\n",
       "    <tr>\n",
       "      <th>max</th>\n",
       "      <td>45.200000</td>\n",
       "      <td>0.990000</td>\n",
       "      <td>95.300000</td>\n",
       "      <td>2.900000</td>\n",
       "      <td>2.800000</td>\n",
       "    </tr>\n",
       "  </tbody>\n",
       "</table>\n",
       "</div>"
      ],
      "text/plain": [
       "       Air temperature (C)  Air velocity (m/s)  Relative humidity (%)  \\\n",
       "count         15686.000000        15686.000000           15686.000000   \n",
       "mean             25.235675            0.215434              50.934011   \n",
       "std               4.381324            0.200779              15.572142   \n",
       "min               0.600000            0.000000              10.400000   \n",
       "25%              22.700000            0.060000              39.600000   \n",
       "50%              25.200000            0.150000              50.100000   \n",
       "75%              27.800000            0.310000              63.000000   \n",
       "max              45.200000            0.990000              95.300000   \n",
       "\n",
       "                Clo           Met  \n",
       "count  15686.000000  15686.000000  \n",
       "mean       0.688576      1.194855  \n",
       "std        0.325945      0.187410  \n",
       "min        0.000000      0.700000  \n",
       "25%        0.500000      1.100000  \n",
       "50%        0.600000      1.200000  \n",
       "75%        0.800000      1.200000  \n",
       "max        2.900000      2.800000  "
      ]
     },
     "execution_count": 27,
     "metadata": {},
     "output_type": "execute_result"
    }
   ],
   "source": [
    "y1 = data['Thermal comfort']\n",
    "\n",
    "features1 = ['Air temperature (C)', 'Air velocity (m/s)', 'Relative humidity (%)', 'Clo', 'Met']\n",
    "\n",
    "X1 = data[features1]\n",
    "\n",
    "X1.describe()"
   ]
  },
  {
   "cell_type": "markdown",
   "metadata": {
    "papermill": {
     "duration": 0.095069,
     "end_time": "2020-11-18T22:04:40.242976",
     "exception": false,
     "start_time": "2020-11-18T22:04:40.147907",
     "status": "completed"
    },
    "tags": []
   },
   "source": [
    "Splitting dataset into training and testing set. We will be using 80% of dataset for training and 20% of dataset for testing:"
   ]
  },
  {
   "cell_type": "code",
   "execution_count": 28,
   "metadata": {
    "execution": {
     "iopub.execute_input": "2020-11-18T22:04:40.429088Z",
     "iopub.status.busy": "2020-11-18T22:04:40.427962Z",
     "iopub.status.idle": "2020-11-18T22:04:40.433822Z",
     "shell.execute_reply": "2020-11-18T22:04:40.433023Z"
    },
    "papermill": {
     "duration": 0.097677,
     "end_time": "2020-11-18T22:04:40.433950",
     "exception": false,
     "start_time": "2020-11-18T22:04:40.336273",
     "status": "completed"
    },
    "tags": []
   },
   "outputs": [],
   "source": [
    "X1_train, X1_test, y1_train, y1_test = train_test_split(X1, y1, test_size = 0.2, random_state = 10)"
   ]
  },
  {
   "cell_type": "markdown",
   "metadata": {
    "papermill": {
     "duration": 0.083811,
     "end_time": "2020-11-18T22:04:40.602027",
     "exception": false,
     "start_time": "2020-11-18T22:04:40.518216",
     "status": "completed"
    },
    "tags": []
   },
   "source": [
    "Using random forest classification algorithm:"
   ]
  },
  {
   "cell_type": "code",
   "execution_count": 29,
   "metadata": {
    "execution": {
     "iopub.execute_input": "2020-11-18T22:04:40.778983Z",
     "iopub.status.busy": "2020-11-18T22:04:40.778215Z",
     "iopub.status.idle": "2020-11-18T22:04:43.219386Z",
     "shell.execute_reply": "2020-11-18T22:04:43.218559Z"
    },
    "papermill": {
     "duration": 2.533583,
     "end_time": "2020-11-18T22:04:43.219515",
     "exception": false,
     "start_time": "2020-11-18T22:04:40.685932",
     "status": "completed"
    },
    "tags": []
   },
   "outputs": [],
   "source": [
    "clf1 = RandomForestClassifier(n_estimators = 100)\n",
    "clf1.fit(X1_train, y1_train)\n",
    "pred1 = clf1.predict(X1_test)"
   ]
  },
  {
   "cell_type": "markdown",
   "metadata": {
    "papermill": {
     "duration": 0.085279,
     "end_time": "2020-11-18T22:04:43.389752",
     "exception": false,
     "start_time": "2020-11-18T22:04:43.304473",
     "status": "completed"
    },
    "tags": []
   },
   "source": [
    "Checking accuracy:"
   ]
  },
  {
   "cell_type": "code",
   "execution_count": 30,
   "metadata": {
    "execution": {
     "iopub.execute_input": "2020-11-18T22:04:43.564896Z",
     "iopub.status.busy": "2020-11-18T22:04:43.563830Z",
     "iopub.status.idle": "2020-11-18T22:04:43.568952Z",
     "shell.execute_reply": "2020-11-18T22:04:43.568288Z"
    },
    "papermill": {
     "duration": 0.095233,
     "end_time": "2020-11-18T22:04:43.569084",
     "exception": false,
     "start_time": "2020-11-18T22:04:43.473851",
     "status": "completed"
    },
    "tags": []
   },
   "outputs": [
    {
     "name": "stdout",
     "output_type": "stream",
     "text": [
      "Accuracy score: 48.0\n"
     ]
    }
   ],
   "source": [
    "print('Accuracy score: %.1f' % (accuracy_score(y1_test, pred1)*100))"
   ]
  },
  {
   "cell_type": "markdown",
   "metadata": {
    "papermill": {
     "duration": 0.085459,
     "end_time": "2020-11-18T22:04:43.739658",
     "exception": false,
     "start_time": "2020-11-18T22:04:43.654199",
     "status": "completed"
    },
    "tags": []
   },
   "source": [
    "Reviewing of confusion matrix, horizontal rows are actual values (1-6) and vertical columns are predicted values (1-6). Diagonals are the numbers of values that have been mapped correctly."
   ]
  },
  {
   "cell_type": "code",
   "execution_count": 31,
   "metadata": {
    "execution": {
     "iopub.execute_input": "2020-11-18T22:04:43.916116Z",
     "iopub.status.busy": "2020-11-18T22:04:43.915348Z",
     "iopub.status.idle": "2020-11-18T22:04:43.928288Z",
     "shell.execute_reply": "2020-11-18T22:04:43.927539Z"
    },
    "papermill": {
     "duration": 0.10354,
     "end_time": "2020-11-18T22:04:43.928417",
     "exception": false,
     "start_time": "2020-11-18T22:04:43.824877",
     "status": "completed"
    },
    "tags": []
   },
   "outputs": [
    {
     "data": {
      "text/plain": [
       "array([[  4,  20,  11,   7,  19,   8],\n",
       "       [ 11, 206,  39,  31, 147,  22],\n",
       "       [  2,  29,  64,  29, 151,  39],\n",
       "       [  2,  14,  24, 107, 165,  93],\n",
       "       [  4,  90,  84, 105, 720, 209],\n",
       "       [  4,  34,  11,  44, 185, 404]], dtype=int64)"
      ]
     },
     "execution_count": 31,
     "metadata": {},
     "output_type": "execute_result"
    }
   ],
   "source": [
    "confusion_matrix(y1_test, pred1)"
   ]
  },
  {
   "cell_type": "markdown",
   "metadata": {
    "papermill": {
     "duration": 0.085013,
     "end_time": "2020-11-18T22:04:44.099649",
     "exception": false,
     "start_time": "2020-11-18T22:04:44.014636",
     "status": "completed"
    },
    "tags": []
   },
   "source": [
    "# Prediction Model 2 (using 3 features)\n",
    "\n",
    "Question: Does reducing the number of feature variables help to improve the prediction model?\n",
    "\n",
    "The following 3 features related to indoor environment conditions will be used for the second prediction model:\n",
    "\n",
    "1) Air temperature (C)\n",
    "\n",
    "2) Air velocity (m/s)\n",
    "\n",
    "3) Relative humidity (%)\n"
   ]
  },
  {
   "cell_type": "code",
   "execution_count": 32,
   "metadata": {
    "execution": {
     "iopub.execute_input": "2020-11-18T22:04:44.340101Z",
     "iopub.status.busy": "2020-11-18T22:04:44.338835Z",
     "iopub.status.idle": "2020-11-18T22:04:44.363292Z",
     "shell.execute_reply": "2020-11-18T22:04:44.362447Z"
    },
    "papermill": {
     "duration": 0.151428,
     "end_time": "2020-11-18T22:04:44.363424",
     "exception": false,
     "start_time": "2020-11-18T22:04:44.211996",
     "status": "completed"
    },
    "tags": []
   },
   "outputs": [
    {
     "data": {
      "text/html": [
       "<div>\n",
       "<style scoped>\n",
       "    .dataframe tbody tr th:only-of-type {\n",
       "        vertical-align: middle;\n",
       "    }\n",
       "\n",
       "    .dataframe tbody tr th {\n",
       "        vertical-align: top;\n",
       "    }\n",
       "\n",
       "    .dataframe thead th {\n",
       "        text-align: right;\n",
       "    }\n",
       "</style>\n",
       "<table border=\"1\" class=\"dataframe\">\n",
       "  <thead>\n",
       "    <tr style=\"text-align: right;\">\n",
       "      <th></th>\n",
       "      <th>Air temperature (C)</th>\n",
       "      <th>Air velocity (m/s)</th>\n",
       "      <th>Relative humidity (%)</th>\n",
       "    </tr>\n",
       "  </thead>\n",
       "  <tbody>\n",
       "    <tr>\n",
       "      <th>count</th>\n",
       "      <td>15686.000000</td>\n",
       "      <td>15686.000000</td>\n",
       "      <td>15686.000000</td>\n",
       "    </tr>\n",
       "    <tr>\n",
       "      <th>mean</th>\n",
       "      <td>25.235675</td>\n",
       "      <td>0.215434</td>\n",
       "      <td>50.934011</td>\n",
       "    </tr>\n",
       "    <tr>\n",
       "      <th>std</th>\n",
       "      <td>4.381324</td>\n",
       "      <td>0.200779</td>\n",
       "      <td>15.572142</td>\n",
       "    </tr>\n",
       "    <tr>\n",
       "      <th>min</th>\n",
       "      <td>0.600000</td>\n",
       "      <td>0.000000</td>\n",
       "      <td>10.400000</td>\n",
       "    </tr>\n",
       "    <tr>\n",
       "      <th>25%</th>\n",
       "      <td>22.700000</td>\n",
       "      <td>0.060000</td>\n",
       "      <td>39.600000</td>\n",
       "    </tr>\n",
       "    <tr>\n",
       "      <th>50%</th>\n",
       "      <td>25.200000</td>\n",
       "      <td>0.150000</td>\n",
       "      <td>50.100000</td>\n",
       "    </tr>\n",
       "    <tr>\n",
       "      <th>75%</th>\n",
       "      <td>27.800000</td>\n",
       "      <td>0.310000</td>\n",
       "      <td>63.000000</td>\n",
       "    </tr>\n",
       "    <tr>\n",
       "      <th>max</th>\n",
       "      <td>45.200000</td>\n",
       "      <td>0.990000</td>\n",
       "      <td>95.300000</td>\n",
       "    </tr>\n",
       "  </tbody>\n",
       "</table>\n",
       "</div>"
      ],
      "text/plain": [
       "       Air temperature (C)  Air velocity (m/s)  Relative humidity (%)\n",
       "count         15686.000000        15686.000000           15686.000000\n",
       "mean             25.235675            0.215434              50.934011\n",
       "std               4.381324            0.200779              15.572142\n",
       "min               0.600000            0.000000              10.400000\n",
       "25%              22.700000            0.060000              39.600000\n",
       "50%              25.200000            0.150000              50.100000\n",
       "75%              27.800000            0.310000              63.000000\n",
       "max              45.200000            0.990000              95.300000"
      ]
     },
     "execution_count": 32,
     "metadata": {},
     "output_type": "execute_result"
    }
   ],
   "source": [
    "y2 = data['Thermal comfort']\n",
    "\n",
    "features2 = ['Air temperature (C)', 'Air velocity (m/s)', 'Relative humidity (%)']\n",
    "\n",
    "X2 = data[features2]\n",
    "\n",
    "X2.describe()"
   ]
  },
  {
   "cell_type": "code",
   "execution_count": 33,
   "metadata": {
    "execution": {
     "iopub.execute_input": "2020-11-18T22:04:44.546811Z",
     "iopub.status.busy": "2020-11-18T22:04:44.545502Z",
     "iopub.status.idle": "2020-11-18T22:04:44.553625Z",
     "shell.execute_reply": "2020-11-18T22:04:44.552981Z"
    },
    "papermill": {
     "duration": 0.10249,
     "end_time": "2020-11-18T22:04:44.553763",
     "exception": false,
     "start_time": "2020-11-18T22:04:44.451273",
     "status": "completed"
    },
    "tags": []
   },
   "outputs": [],
   "source": [
    "X2_train, X2_test, y2_train, y2_test = train_test_split(X2, y2, test_size = 0.2, random_state = 10)"
   ]
  },
  {
   "cell_type": "code",
   "execution_count": 34,
   "metadata": {
    "execution": {
     "iopub.execute_input": "2020-11-18T22:04:44.737842Z",
     "iopub.status.busy": "2020-11-18T22:04:44.737022Z",
     "iopub.status.idle": "2020-11-18T22:04:46.735163Z",
     "shell.execute_reply": "2020-11-18T22:04:46.734447Z"
    },
    "papermill": {
     "duration": 2.093395,
     "end_time": "2020-11-18T22:04:46.735300",
     "exception": false,
     "start_time": "2020-11-18T22:04:44.641905",
     "status": "completed"
    },
    "tags": []
   },
   "outputs": [],
   "source": [
    "clf2 = RandomForestClassifier(n_estimators = 100)\n",
    "clf2.fit(X2_train, y2_train)\n",
    "pred2 = clf2.predict(X2_test)"
   ]
  },
  {
   "cell_type": "code",
   "execution_count": 35,
   "metadata": {
    "execution": {
     "iopub.execute_input": "2020-11-18T22:04:46.915558Z",
     "iopub.status.busy": "2020-11-18T22:04:46.914416Z",
     "iopub.status.idle": "2020-11-18T22:04:46.920030Z",
     "shell.execute_reply": "2020-11-18T22:04:46.919249Z"
    },
    "papermill": {
     "duration": 0.098254,
     "end_time": "2020-11-18T22:04:46.920183",
     "exception": false,
     "start_time": "2020-11-18T22:04:46.821929",
     "status": "completed"
    },
    "tags": []
   },
   "outputs": [
    {
     "name": "stdout",
     "output_type": "stream",
     "text": [
      "Accuracy score : 45.8\n"
     ]
    }
   ],
   "source": [
    "print('Accuracy score : %.1f'% (accuracy_score(y2_test, pred2)*100))"
   ]
  },
  {
   "cell_type": "markdown",
   "metadata": {
    "papermill": {
     "duration": 0.087614,
     "end_time": "2020-11-18T22:04:47.098156",
     "exception": false,
     "start_time": "2020-11-18T22:04:47.010542",
     "status": "completed"
    },
    "tags": []
   },
   "source": [
    "**Observation: There is a slight decrease in accuracy when only 3 feature variables are used as compared to 5 feature variables in the first model.**"
   ]
  },
  {
   "cell_type": "code",
   "execution_count": 36,
   "metadata": {
    "execution": {
     "iopub.execute_input": "2020-11-18T22:04:47.285494Z",
     "iopub.status.busy": "2020-11-18T22:04:47.284428Z",
     "iopub.status.idle": "2020-11-18T22:04:47.297260Z",
     "shell.execute_reply": "2020-11-18T22:04:47.296519Z"
    },
    "papermill": {
     "duration": 0.111187,
     "end_time": "2020-11-18T22:04:47.297390",
     "exception": false,
     "start_time": "2020-11-18T22:04:47.186203",
     "status": "completed"
    },
    "tags": []
   },
   "outputs": [
    {
     "data": {
      "text/plain": [
       "array([[  4,  23,  10,   5,  18,   9],\n",
       "       [  8, 208,  41,  36, 146,  17],\n",
       "       [  2,  32,  65,  22, 139,  54],\n",
       "       [  4,  15,  22,  98, 173,  93],\n",
       "       [  4, 101,  83, 103, 725, 196],\n",
       "       [  4,  34,  29,  62, 216, 337]], dtype=int64)"
      ]
     },
     "execution_count": 36,
     "metadata": {},
     "output_type": "execute_result"
    }
   ],
   "source": [
    "confusion_matrix(y2_test, pred2)"
   ]
  },
  {
   "cell_type": "markdown",
   "metadata": {
    "papermill": {
     "duration": 0.088179,
     "end_time": "2020-11-18T22:04:47.475121",
     "exception": false,
     "start_time": "2020-11-18T22:04:47.386942",
     "status": "completed"
    },
    "tags": []
   },
   "source": [
    "# Prediction Model 3 (using 10 features)\n",
    "\n",
    "Including in all 10 feature variables into the third prediction model to see if accuracy score can be improved:\n",
    "\n",
    "1) Air temperature (C)\n",
    "\n",
    "2) Air velocity (m/s)\n",
    "\n",
    "3) Relative humidity (%)\n",
    "\n",
    "4) Clo\n",
    "\n",
    "5) Met \n",
    "\n",
    "6) Season \n",
    "\n",
    "7) Koppen climate classification \n",
    "\n",
    "8) Building type\n",
    "\n",
    "9) Cooling startegy_building level \n",
    "\n",
    "10) Outdoor monthly air temperature (C)"
   ]
  },
  {
   "cell_type": "code",
   "execution_count": 37,
   "metadata": {
    "execution": {
     "iopub.execute_input": "2020-11-18T22:04:47.665883Z",
     "iopub.status.busy": "2020-11-18T22:04:47.664926Z",
     "iopub.status.idle": "2020-11-18T22:04:47.703295Z",
     "shell.execute_reply": "2020-11-18T22:04:47.702423Z"
    },
    "papermill": {
     "duration": 0.140248,
     "end_time": "2020-11-18T22:04:47.703440",
     "exception": false,
     "start_time": "2020-11-18T22:04:47.563192",
     "status": "completed"
    },
    "tags": []
   },
   "outputs": [
    {
     "data": {
      "text/html": [
       "<div>\n",
       "<style scoped>\n",
       "    .dataframe tbody tr th:only-of-type {\n",
       "        vertical-align: middle;\n",
       "    }\n",
       "\n",
       "    .dataframe tbody tr th {\n",
       "        vertical-align: top;\n",
       "    }\n",
       "\n",
       "    .dataframe thead th {\n",
       "        text-align: right;\n",
       "    }\n",
       "</style>\n",
       "<table border=\"1\" class=\"dataframe\">\n",
       "  <thead>\n",
       "    <tr style=\"text-align: right;\">\n",
       "      <th></th>\n",
       "      <th>Air temperature (C)</th>\n",
       "      <th>Air velocity (m/s)</th>\n",
       "      <th>Relative humidity (%)</th>\n",
       "      <th>Clo</th>\n",
       "      <th>Met</th>\n",
       "      <th>Outdoor monthly air temperature (C)</th>\n",
       "    </tr>\n",
       "  </thead>\n",
       "  <tbody>\n",
       "    <tr>\n",
       "      <th>count</th>\n",
       "      <td>15686.000000</td>\n",
       "      <td>15686.000000</td>\n",
       "      <td>15686.000000</td>\n",
       "      <td>15686.000000</td>\n",
       "      <td>15686.000000</td>\n",
       "      <td>15686.000000</td>\n",
       "    </tr>\n",
       "    <tr>\n",
       "      <th>mean</th>\n",
       "      <td>25.235675</td>\n",
       "      <td>0.215434</td>\n",
       "      <td>50.934011</td>\n",
       "      <td>0.688576</td>\n",
       "      <td>1.194855</td>\n",
       "      <td>24.604756</td>\n",
       "    </tr>\n",
       "    <tr>\n",
       "      <th>std</th>\n",
       "      <td>4.381324</td>\n",
       "      <td>0.200779</td>\n",
       "      <td>15.572142</td>\n",
       "      <td>0.325945</td>\n",
       "      <td>0.187410</td>\n",
       "      <td>8.235401</td>\n",
       "    </tr>\n",
       "    <tr>\n",
       "      <th>min</th>\n",
       "      <td>0.600000</td>\n",
       "      <td>0.000000</td>\n",
       "      <td>10.400000</td>\n",
       "      <td>0.000000</td>\n",
       "      <td>0.700000</td>\n",
       "      <td>-2.000000</td>\n",
       "    </tr>\n",
       "    <tr>\n",
       "      <th>25%</th>\n",
       "      <td>22.700000</td>\n",
       "      <td>0.060000</td>\n",
       "      <td>39.600000</td>\n",
       "      <td>0.500000</td>\n",
       "      <td>1.100000</td>\n",
       "      <td>21.000000</td>\n",
       "    </tr>\n",
       "    <tr>\n",
       "      <th>50%</th>\n",
       "      <td>25.200000</td>\n",
       "      <td>0.150000</td>\n",
       "      <td>50.100000</td>\n",
       "      <td>0.600000</td>\n",
       "      <td>1.200000</td>\n",
       "      <td>26.000000</td>\n",
       "    </tr>\n",
       "    <tr>\n",
       "      <th>75%</th>\n",
       "      <td>27.800000</td>\n",
       "      <td>0.310000</td>\n",
       "      <td>63.000000</td>\n",
       "      <td>0.800000</td>\n",
       "      <td>1.200000</td>\n",
       "      <td>30.200000</td>\n",
       "    </tr>\n",
       "    <tr>\n",
       "      <th>max</th>\n",
       "      <td>45.200000</td>\n",
       "      <td>0.990000</td>\n",
       "      <td>95.300000</td>\n",
       "      <td>2.900000</td>\n",
       "      <td>2.800000</td>\n",
       "      <td>43.600000</td>\n",
       "    </tr>\n",
       "  </tbody>\n",
       "</table>\n",
       "</div>"
      ],
      "text/plain": [
       "       Air temperature (C)  Air velocity (m/s)  Relative humidity (%)  \\\n",
       "count         15686.000000        15686.000000           15686.000000   \n",
       "mean             25.235675            0.215434              50.934011   \n",
       "std               4.381324            0.200779              15.572142   \n",
       "min               0.600000            0.000000              10.400000   \n",
       "25%              22.700000            0.060000              39.600000   \n",
       "50%              25.200000            0.150000              50.100000   \n",
       "75%              27.800000            0.310000              63.000000   \n",
       "max              45.200000            0.990000              95.300000   \n",
       "\n",
       "                Clo           Met  Outdoor monthly air temperature (C)  \n",
       "count  15686.000000  15686.000000                         15686.000000  \n",
       "mean       0.688576      1.194855                            24.604756  \n",
       "std        0.325945      0.187410                             8.235401  \n",
       "min        0.000000      0.700000                            -2.000000  \n",
       "25%        0.500000      1.100000                            21.000000  \n",
       "50%        0.600000      1.200000                            26.000000  \n",
       "75%        0.800000      1.200000                            30.200000  \n",
       "max        2.900000      2.800000                            43.600000  "
      ]
     },
     "execution_count": 37,
     "metadata": {},
     "output_type": "execute_result"
    }
   ],
   "source": [
    "y3 = data['Thermal comfort']\n",
    "\n",
    "features3 = ['Air temperature (C)', 'Air velocity (m/s)', 'Relative humidity (%)', 'Clo', 'Met', \n",
    "            'Season', 'Koppen climate classification', 'Building type', 'Cooling startegy_building level', 'Outdoor monthly air temperature (C)']\n",
    "\n",
    "X3 = data[features3]\n",
    "\n",
    "X3.describe()"
   ]
  },
  {
   "cell_type": "markdown",
   "metadata": {
    "papermill": {
     "duration": 0.089987,
     "end_time": "2020-11-18T22:04:47.884047",
     "exception": false,
     "start_time": "2020-11-18T22:04:47.794060",
     "status": "completed"
    },
    "tags": []
   },
   "source": [
    "Using one hot encoding to use additional feature variables:"
   ]
  },
  {
   "cell_type": "code",
   "execution_count": 38,
   "metadata": {
    "execution": {
     "iopub.execute_input": "2020-11-18T22:04:48.087630Z",
     "iopub.status.busy": "2020-11-18T22:04:48.080177Z",
     "iopub.status.idle": "2020-11-18T22:04:48.097491Z",
     "shell.execute_reply": "2020-11-18T22:04:48.096850Z"
    },
    "papermill": {
     "duration": 0.11624,
     "end_time": "2020-11-18T22:04:48.097671",
     "exception": false,
     "start_time": "2020-11-18T22:04:47.981431",
     "status": "completed"
    },
    "tags": []
   },
   "outputs": [],
   "source": [
    "X3 = pd.get_dummies(data = X3, drop_first = True)"
   ]
  },
  {
   "cell_type": "code",
   "execution_count": 39,
   "metadata": {
    "execution": {
     "iopub.execute_input": "2020-11-18T22:04:48.310916Z",
     "iopub.status.busy": "2020-11-18T22:04:48.310103Z",
     "iopub.status.idle": "2020-11-18T22:04:48.318763Z",
     "shell.execute_reply": "2020-11-18T22:04:48.317880Z"
    },
    "papermill": {
     "duration": 0.120427,
     "end_time": "2020-11-18T22:04:48.318920",
     "exception": false,
     "start_time": "2020-11-18T22:04:48.198493",
     "status": "completed"
    },
    "tags": []
   },
   "outputs": [],
   "source": [
    "X3_train, X3_test, y3_train, y3_test = train_test_split(X3, y3, test_size = 0.2, random_state = 10)"
   ]
  },
  {
   "cell_type": "code",
   "execution_count": 40,
   "metadata": {
    "execution": {
     "iopub.execute_input": "2020-11-18T22:04:48.546086Z",
     "iopub.status.busy": "2020-11-18T22:04:48.545240Z",
     "iopub.status.idle": "2020-11-18T22:04:51.099574Z",
     "shell.execute_reply": "2020-11-18T22:04:51.098738Z"
    },
    "papermill": {
     "duration": 2.671342,
     "end_time": "2020-11-18T22:04:51.099727",
     "exception": false,
     "start_time": "2020-11-18T22:04:48.428385",
     "status": "completed"
    },
    "tags": []
   },
   "outputs": [],
   "source": [
    "clf3 = RandomForestClassifier(n_estimators = 100)\n",
    "clf3.fit(X3_train, y3_train)\n",
    "pred3 = clf3.predict(X3_test)"
   ]
  },
  {
   "cell_type": "code",
   "execution_count": 41,
   "metadata": {
    "execution": {
     "iopub.execute_input": "2020-11-18T22:04:51.303193Z",
     "iopub.status.busy": "2020-11-18T22:04:51.302427Z",
     "iopub.status.idle": "2020-11-18T22:04:51.310579Z",
     "shell.execute_reply": "2020-11-18T22:04:51.309717Z"
    },
    "papermill": {
     "duration": 0.120031,
     "end_time": "2020-11-18T22:04:51.310883",
     "exception": false,
     "start_time": "2020-11-18T22:04:51.190852",
     "status": "completed"
    },
    "tags": []
   },
   "outputs": [
    {
     "name": "stdout",
     "output_type": "stream",
     "text": [
      "Accuracy score : 54.5 \n"
     ]
    }
   ],
   "source": [
    "print('Accuracy score : %.1f '% (accuracy_score(y3_test, pred3)*100))"
   ]
  },
  {
   "cell_type": "code",
   "execution_count": 42,
   "metadata": {
    "execution": {
     "iopub.execute_input": "2020-11-18T22:04:51.498870Z",
     "iopub.status.busy": "2020-11-18T22:04:51.498014Z",
     "iopub.status.idle": "2020-11-18T22:04:51.509520Z",
     "shell.execute_reply": "2020-11-18T22:04:51.508814Z"
    },
    "papermill": {
     "duration": 0.106545,
     "end_time": "2020-11-18T22:04:51.509659",
     "exception": false,
     "start_time": "2020-11-18T22:04:51.403114",
     "status": "completed"
    },
    "tags": []
   },
   "outputs": [
    {
     "data": {
      "text/plain": [
       "array([[ 10,  23,   9,   3,  11,  13],\n",
       "       [ 11, 262,  44,  26, 104,   9],\n",
       "       [  3,  29, 100,  29, 112,  41],\n",
       "       [  1,   9,  19, 124, 157,  95],\n",
       "       [  4,  93,  83, 106, 732, 194],\n",
       "       [  2,   2,  11,  44, 140, 483]], dtype=int64)"
      ]
     },
     "execution_count": 42,
     "metadata": {},
     "output_type": "execute_result"
    }
   ],
   "source": [
    "confusion_matrix(y3_test, pred3)"
   ]
  },
  {
   "cell_type": "markdown",
   "metadata": {
    "papermill": {
     "duration": 0.090034,
     "end_time": "2020-11-18T22:04:51.690694",
     "exception": false,
     "start_time": "2020-11-18T22:04:51.600660",
     "status": "completed"
    },
    "tags": []
   },
   "source": [
    "**Observation: There is an improvement in accuracy of thermal comfort prediction when more feature variables are included.**\n",
    "\n",
    "Prediction model 3 has the best results (i.e. highest accuracy) when using random forest classification algorithm. \n"
   ]
  },
  {
   "cell_type": "markdown",
   "metadata": {
    "papermill": {
     "duration": 0.090268,
     "end_time": "2020-11-18T22:04:51.871432",
     "exception": false,
     "start_time": "2020-11-18T22:04:51.781164",
     "status": "completed"
    },
    "tags": []
   },
   "source": [
    "# Conclusion\n",
    "\n",
    "Prediction model 3, comprising of all 10 feature variables, has the best results (i.e. highest accuracy) when using random forest classification algorithm.\n",
    "\n",
    "However, there are limitations to using this prediction model:\n",
    "* Dataset used for training is more skewed towards hot semi-arid climate \n",
    "* Dataset used for training is more skewed towards summer season\n",
    "* Dataset used for trinaing is more skewed towards office building type\n",
    "* Approximately 55% accuracy result may not be good enough to predict thermal comfort with high confidence\n",
    "\n",
    "**Recommendations:**\n",
    "* Using more diverse and evenly distributed dataset for training (e.g. include more climate types, more different building types)\n",
    "* Include radiant temperature as one of the feature variables since this is one of the more recognised factor affecting thermal comfort\n",
    "\n"
   ]
  },
  {
   "cell_type": "markdown",
   "metadata": {
    "papermill": {
     "duration": 0.091917,
     "end_time": "2020-11-18T22:04:52.056227",
     "exception": false,
     "start_time": "2020-11-18T22:04:51.964310",
     "status": "completed"
    },
    "tags": []
   },
   "source": [
    "# End"
   ]
  },
  {
   "cell_type": "code",
   "execution_count": null,
   "metadata": {},
   "outputs": [],
   "source": []
  }
 ],
 "metadata": {
  "kernelspec": {
   "display_name": "Python 3",
   "language": "python",
   "name": "python3"
  },
  "language_info": {
   "codemirror_mode": {
    "name": "ipython",
    "version": 3
   },
   "file_extension": ".py",
   "mimetype": "text/x-python",
   "name": "python",
   "nbconvert_exporter": "python",
   "pygments_lexer": "ipython3",
   "version": "3.8.8"
  },
  "papermill": {
   "duration": 33.395229,
   "end_time": "2020-11-18T22:04:52.258144",
   "environment_variables": {},
   "exception": null,
   "input_path": "__notebook__.ipynb",
   "output_path": "__notebook__.ipynb",
   "parameters": {},
   "start_time": "2020-11-18T22:04:18.862915",
   "version": "2.1.0"
  }
 },
 "nbformat": 4,
 "nbformat_minor": 4
}
